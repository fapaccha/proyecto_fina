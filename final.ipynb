{
 "cells": [
  {
   "cell_type": "code",
   "execution_count": 23,
   "metadata": {},
   "outputs": [],
   "source": [
    "#importacion de librerias para presentar y realizar las graficaas\n",
    "import pandas as pd\n",
    "from bokeh.models import ColumnDataSource\n",
    "from bokeh.plotting import figure, output_notebook\n",
    "from bokeh.io import show, output_file\n",
    "from math import pi\n",
    "from bokeh.palettes import Spectral6\n",
    "from bokeh.transform import factor_cmap\n"
   ]
  },
  {
   "cell_type": "code",
   "execution_count": 2,
   "metadata": {},
   "outputs": [
    {
     "data": {
      "text/html": [
       "\n",
       "    <div class=\"bk-root\">\n",
       "        <a href=\"https://bokeh.pydata.org\" target=\"_blank\" class=\"bk-logo bk-logo-small bk-logo-notebook\"></a>\n",
       "        <span id=\"1001\">Loading BokehJS ...</span>\n",
       "    </div>"
      ]
     },
     "metadata": {},
     "output_type": "display_data"
    },
    {
     "data": {
      "application/javascript": [
       "\n",
       "(function(root) {\n",
       "  function now() {\n",
       "    return new Date();\n",
       "  }\n",
       "\n",
       "  var force = true;\n",
       "\n",
       "  if (typeof (root._bokeh_onload_callbacks) === \"undefined\" || force === true) {\n",
       "    root._bokeh_onload_callbacks = [];\n",
       "    root._bokeh_is_loading = undefined;\n",
       "  }\n",
       "\n",
       "  var JS_MIME_TYPE = 'application/javascript';\n",
       "  var HTML_MIME_TYPE = 'text/html';\n",
       "  var EXEC_MIME_TYPE = 'application/vnd.bokehjs_exec.v0+json';\n",
       "  var CLASS_NAME = 'output_bokeh rendered_html';\n",
       "\n",
       "  /**\n",
       "   * Render data to the DOM node\n",
       "   */\n",
       "  function render(props, node) {\n",
       "    var script = document.createElement(\"script\");\n",
       "    node.appendChild(script);\n",
       "  }\n",
       "\n",
       "  /**\n",
       "   * Handle when an output is cleared or removed\n",
       "   */\n",
       "  function handleClearOutput(event, handle) {\n",
       "    var cell = handle.cell;\n",
       "\n",
       "    var id = cell.output_area._bokeh_element_id;\n",
       "    var server_id = cell.output_area._bokeh_server_id;\n",
       "    // Clean up Bokeh references\n",
       "    if (id != null && id in Bokeh.index) {\n",
       "      Bokeh.index[id].model.document.clear();\n",
       "      delete Bokeh.index[id];\n",
       "    }\n",
       "\n",
       "    if (server_id !== undefined) {\n",
       "      // Clean up Bokeh references\n",
       "      var cmd = \"from bokeh.io.state import curstate; print(curstate().uuid_to_server['\" + server_id + \"'].get_sessions()[0].document.roots[0]._id)\";\n",
       "      cell.notebook.kernel.execute(cmd, {\n",
       "        iopub: {\n",
       "          output: function(msg) {\n",
       "            var id = msg.content.text.trim();\n",
       "            if (id in Bokeh.index) {\n",
       "              Bokeh.index[id].model.document.clear();\n",
       "              delete Bokeh.index[id];\n",
       "            }\n",
       "          }\n",
       "        }\n",
       "      });\n",
       "      // Destroy server and session\n",
       "      var cmd = \"import bokeh.io.notebook as ion; ion.destroy_server('\" + server_id + \"')\";\n",
       "      cell.notebook.kernel.execute(cmd);\n",
       "    }\n",
       "  }\n",
       "\n",
       "  /**\n",
       "   * Handle when a new output is added\n",
       "   */\n",
       "  function handleAddOutput(event, handle) {\n",
       "    var output_area = handle.output_area;\n",
       "    var output = handle.output;\n",
       "\n",
       "    // limit handleAddOutput to display_data with EXEC_MIME_TYPE content only\n",
       "    if ((output.output_type != \"display_data\") || (!output.data.hasOwnProperty(EXEC_MIME_TYPE))) {\n",
       "      return\n",
       "    }\n",
       "\n",
       "    var toinsert = output_area.element.find(\".\" + CLASS_NAME.split(' ')[0]);\n",
       "\n",
       "    if (output.metadata[EXEC_MIME_TYPE][\"id\"] !== undefined) {\n",
       "      toinsert[toinsert.length - 1].firstChild.textContent = output.data[JS_MIME_TYPE];\n",
       "      // store reference to embed id on output_area\n",
       "      output_area._bokeh_element_id = output.metadata[EXEC_MIME_TYPE][\"id\"];\n",
       "    }\n",
       "    if (output.metadata[EXEC_MIME_TYPE][\"server_id\"] !== undefined) {\n",
       "      var bk_div = document.createElement(\"div\");\n",
       "      bk_div.innerHTML = output.data[HTML_MIME_TYPE];\n",
       "      var script_attrs = bk_div.children[0].attributes;\n",
       "      for (var i = 0; i < script_attrs.length; i++) {\n",
       "        toinsert[toinsert.length - 1].firstChild.setAttribute(script_attrs[i].name, script_attrs[i].value);\n",
       "      }\n",
       "      // store reference to server id on output_area\n",
       "      output_area._bokeh_server_id = output.metadata[EXEC_MIME_TYPE][\"server_id\"];\n",
       "    }\n",
       "  }\n",
       "\n",
       "  function register_renderer(events, OutputArea) {\n",
       "\n",
       "    function append_mime(data, metadata, element) {\n",
       "      // create a DOM node to render to\n",
       "      var toinsert = this.create_output_subarea(\n",
       "        metadata,\n",
       "        CLASS_NAME,\n",
       "        EXEC_MIME_TYPE\n",
       "      );\n",
       "      this.keyboard_manager.register_events(toinsert);\n",
       "      // Render to node\n",
       "      var props = {data: data, metadata: metadata[EXEC_MIME_TYPE]};\n",
       "      render(props, toinsert[toinsert.length - 1]);\n",
       "      element.append(toinsert);\n",
       "      return toinsert\n",
       "    }\n",
       "\n",
       "    /* Handle when an output is cleared or removed */\n",
       "    events.on('clear_output.CodeCell', handleClearOutput);\n",
       "    events.on('delete.Cell', handleClearOutput);\n",
       "\n",
       "    /* Handle when a new output is added */\n",
       "    events.on('output_added.OutputArea', handleAddOutput);\n",
       "\n",
       "    /**\n",
       "     * Register the mime type and append_mime function with output_area\n",
       "     */\n",
       "    OutputArea.prototype.register_mime_type(EXEC_MIME_TYPE, append_mime, {\n",
       "      /* Is output safe? */\n",
       "      safe: true,\n",
       "      /* Index of renderer in `output_area.display_order` */\n",
       "      index: 0\n",
       "    });\n",
       "  }\n",
       "\n",
       "  // register the mime type if in Jupyter Notebook environment and previously unregistered\n",
       "  if (root.Jupyter !== undefined) {\n",
       "    var events = require('base/js/events');\n",
       "    var OutputArea = require('notebook/js/outputarea').OutputArea;\n",
       "\n",
       "    if (OutputArea.prototype.mime_types().indexOf(EXEC_MIME_TYPE) == -1) {\n",
       "      register_renderer(events, OutputArea);\n",
       "    }\n",
       "  }\n",
       "\n",
       "  \n",
       "  if (typeof (root._bokeh_timeout) === \"undefined\" || force === true) {\n",
       "    root._bokeh_timeout = Date.now() + 5000;\n",
       "    root._bokeh_failed_load = false;\n",
       "  }\n",
       "\n",
       "  var NB_LOAD_WARNING = {'data': {'text/html':\n",
       "     \"<div style='background-color: #fdd'>\\n\"+\n",
       "     \"<p>\\n\"+\n",
       "     \"BokehJS does not appear to have successfully loaded. If loading BokehJS from CDN, this \\n\"+\n",
       "     \"may be due to a slow or bad network connection. Possible fixes:\\n\"+\n",
       "     \"</p>\\n\"+\n",
       "     \"<ul>\\n\"+\n",
       "     \"<li>re-rerun `output_notebook()` to attempt to load from CDN again, or</li>\\n\"+\n",
       "     \"<li>use INLINE resources instead, as so:</li>\\n\"+\n",
       "     \"</ul>\\n\"+\n",
       "     \"<code>\\n\"+\n",
       "     \"from bokeh.resources import INLINE\\n\"+\n",
       "     \"output_notebook(resources=INLINE)\\n\"+\n",
       "     \"</code>\\n\"+\n",
       "     \"</div>\"}};\n",
       "\n",
       "  function display_loaded() {\n",
       "    var el = document.getElementById(\"1001\");\n",
       "    if (el != null) {\n",
       "      el.textContent = \"BokehJS is loading...\";\n",
       "    }\n",
       "    if (root.Bokeh !== undefined) {\n",
       "      if (el != null) {\n",
       "        el.textContent = \"BokehJS \" + root.Bokeh.version + \" successfully loaded.\";\n",
       "      }\n",
       "    } else if (Date.now() < root._bokeh_timeout) {\n",
       "      setTimeout(display_loaded, 100)\n",
       "    }\n",
       "  }\n",
       "\n",
       "\n",
       "  function run_callbacks() {\n",
       "    try {\n",
       "      root._bokeh_onload_callbacks.forEach(function(callback) { callback() });\n",
       "    }\n",
       "    finally {\n",
       "      delete root._bokeh_onload_callbacks\n",
       "    }\n",
       "    console.info(\"Bokeh: all callbacks have finished\");\n",
       "  }\n",
       "\n",
       "  function load_libs(js_urls, callback) {\n",
       "    root._bokeh_onload_callbacks.push(callback);\n",
       "    if (root._bokeh_is_loading > 0) {\n",
       "      console.log(\"Bokeh: BokehJS is being loaded, scheduling callback at\", now());\n",
       "      return null;\n",
       "    }\n",
       "    if (js_urls == null || js_urls.length === 0) {\n",
       "      run_callbacks();\n",
       "      return null;\n",
       "    }\n",
       "    console.log(\"Bokeh: BokehJS not loaded, scheduling load and callback at\", now());\n",
       "    root._bokeh_is_loading = js_urls.length;\n",
       "    for (var i = 0; i < js_urls.length; i++) {\n",
       "      var url = js_urls[i];\n",
       "      var s = document.createElement('script');\n",
       "      s.src = url;\n",
       "      s.async = false;\n",
       "      s.onreadystatechange = s.onload = function() {\n",
       "        root._bokeh_is_loading--;\n",
       "        if (root._bokeh_is_loading === 0) {\n",
       "          console.log(\"Bokeh: all BokehJS libraries loaded\");\n",
       "          run_callbacks()\n",
       "        }\n",
       "      };\n",
       "      s.onerror = function() {\n",
       "        console.warn(\"failed to load library \" + url);\n",
       "      };\n",
       "      console.log(\"Bokeh: injecting script tag for BokehJS library: \", url);\n",
       "      document.getElementsByTagName(\"head\")[0].appendChild(s);\n",
       "    }\n",
       "  };var element = document.getElementById(\"1001\");\n",
       "  if (element == null) {\n",
       "    console.log(\"Bokeh: ERROR: autoload.js configured with elementid '1001' but no matching script tag was found. \")\n",
       "    return false;\n",
       "  }\n",
       "\n",
       "  var js_urls = [\"https://cdn.pydata.org/bokeh/release/bokeh-1.0.2.min.js\", \"https://cdn.pydata.org/bokeh/release/bokeh-widgets-1.0.2.min.js\", \"https://cdn.pydata.org/bokeh/release/bokeh-tables-1.0.2.min.js\", \"https://cdn.pydata.org/bokeh/release/bokeh-gl-1.0.2.min.js\"];\n",
       "\n",
       "  var inline_js = [\n",
       "    function(Bokeh) {\n",
       "      Bokeh.set_log_level(\"info\");\n",
       "    },\n",
       "    \n",
       "    function(Bokeh) {\n",
       "      \n",
       "    },\n",
       "    function(Bokeh) {\n",
       "      console.log(\"Bokeh: injecting CSS: https://cdn.pydata.org/bokeh/release/bokeh-1.0.2.min.css\");\n",
       "      Bokeh.embed.inject_css(\"https://cdn.pydata.org/bokeh/release/bokeh-1.0.2.min.css\");\n",
       "      console.log(\"Bokeh: injecting CSS: https://cdn.pydata.org/bokeh/release/bokeh-widgets-1.0.2.min.css\");\n",
       "      Bokeh.embed.inject_css(\"https://cdn.pydata.org/bokeh/release/bokeh-widgets-1.0.2.min.css\");\n",
       "      console.log(\"Bokeh: injecting CSS: https://cdn.pydata.org/bokeh/release/bokeh-tables-1.0.2.min.css\");\n",
       "      Bokeh.embed.inject_css(\"https://cdn.pydata.org/bokeh/release/bokeh-tables-1.0.2.min.css\");\n",
       "    }\n",
       "  ];\n",
       "\n",
       "  function run_inline_js() {\n",
       "    \n",
       "    if ((root.Bokeh !== undefined) || (force === true)) {\n",
       "      for (var i = 0; i < inline_js.length; i++) {\n",
       "        inline_js[i].call(root, root.Bokeh);\n",
       "      }if (force === true) {\n",
       "        display_loaded();\n",
       "      }} else if (Date.now() < root._bokeh_timeout) {\n",
       "      setTimeout(run_inline_js, 100);\n",
       "    } else if (!root._bokeh_failed_load) {\n",
       "      console.log(\"Bokeh: BokehJS failed to load within specified timeout.\");\n",
       "      root._bokeh_failed_load = true;\n",
       "    } else if (force !== true) {\n",
       "      var cell = $(document.getElementById(\"1001\")).parents('.cell').data().cell;\n",
       "      cell.output_area.append_execute_result(NB_LOAD_WARNING)\n",
       "    }\n",
       "\n",
       "  }\n",
       "\n",
       "  if (root._bokeh_is_loading === 0) {\n",
       "    console.log(\"Bokeh: BokehJS loaded, going straight to plotting\");\n",
       "    run_inline_js();\n",
       "  } else {\n",
       "    load_libs(js_urls, function() {\n",
       "      console.log(\"Bokeh: BokehJS plotting callback run at\", now());\n",
       "      run_inline_js();\n",
       "    });\n",
       "  }\n",
       "}(window));"
      ],
      "application/vnd.bokehjs_load.v0+json": "\n(function(root) {\n  function now() {\n    return new Date();\n  }\n\n  var force = true;\n\n  if (typeof (root._bokeh_onload_callbacks) === \"undefined\" || force === true) {\n    root._bokeh_onload_callbacks = [];\n    root._bokeh_is_loading = undefined;\n  }\n\n  \n\n  \n  if (typeof (root._bokeh_timeout) === \"undefined\" || force === true) {\n    root._bokeh_timeout = Date.now() + 5000;\n    root._bokeh_failed_load = false;\n  }\n\n  var NB_LOAD_WARNING = {'data': {'text/html':\n     \"<div style='background-color: #fdd'>\\n\"+\n     \"<p>\\n\"+\n     \"BokehJS does not appear to have successfully loaded. If loading BokehJS from CDN, this \\n\"+\n     \"may be due to a slow or bad network connection. Possible fixes:\\n\"+\n     \"</p>\\n\"+\n     \"<ul>\\n\"+\n     \"<li>re-rerun `output_notebook()` to attempt to load from CDN again, or</li>\\n\"+\n     \"<li>use INLINE resources instead, as so:</li>\\n\"+\n     \"</ul>\\n\"+\n     \"<code>\\n\"+\n     \"from bokeh.resources import INLINE\\n\"+\n     \"output_notebook(resources=INLINE)\\n\"+\n     \"</code>\\n\"+\n     \"</div>\"}};\n\n  function display_loaded() {\n    var el = document.getElementById(\"1001\");\n    if (el != null) {\n      el.textContent = \"BokehJS is loading...\";\n    }\n    if (root.Bokeh !== undefined) {\n      if (el != null) {\n        el.textContent = \"BokehJS \" + root.Bokeh.version + \" successfully loaded.\";\n      }\n    } else if (Date.now() < root._bokeh_timeout) {\n      setTimeout(display_loaded, 100)\n    }\n  }\n\n\n  function run_callbacks() {\n    try {\n      root._bokeh_onload_callbacks.forEach(function(callback) { callback() });\n    }\n    finally {\n      delete root._bokeh_onload_callbacks\n    }\n    console.info(\"Bokeh: all callbacks have finished\");\n  }\n\n  function load_libs(js_urls, callback) {\n    root._bokeh_onload_callbacks.push(callback);\n    if (root._bokeh_is_loading > 0) {\n      console.log(\"Bokeh: BokehJS is being loaded, scheduling callback at\", now());\n      return null;\n    }\n    if (js_urls == null || js_urls.length === 0) {\n      run_callbacks();\n      return null;\n    }\n    console.log(\"Bokeh: BokehJS not loaded, scheduling load and callback at\", now());\n    root._bokeh_is_loading = js_urls.length;\n    for (var i = 0; i < js_urls.length; i++) {\n      var url = js_urls[i];\n      var s = document.createElement('script');\n      s.src = url;\n      s.async = false;\n      s.onreadystatechange = s.onload = function() {\n        root._bokeh_is_loading--;\n        if (root._bokeh_is_loading === 0) {\n          console.log(\"Bokeh: all BokehJS libraries loaded\");\n          run_callbacks()\n        }\n      };\n      s.onerror = function() {\n        console.warn(\"failed to load library \" + url);\n      };\n      console.log(\"Bokeh: injecting script tag for BokehJS library: \", url);\n      document.getElementsByTagName(\"head\")[0].appendChild(s);\n    }\n  };var element = document.getElementById(\"1001\");\n  if (element == null) {\n    console.log(\"Bokeh: ERROR: autoload.js configured with elementid '1001' but no matching script tag was found. \")\n    return false;\n  }\n\n  var js_urls = [\"https://cdn.pydata.org/bokeh/release/bokeh-1.0.2.min.js\", \"https://cdn.pydata.org/bokeh/release/bokeh-widgets-1.0.2.min.js\", \"https://cdn.pydata.org/bokeh/release/bokeh-tables-1.0.2.min.js\", \"https://cdn.pydata.org/bokeh/release/bokeh-gl-1.0.2.min.js\"];\n\n  var inline_js = [\n    function(Bokeh) {\n      Bokeh.set_log_level(\"info\");\n    },\n    \n    function(Bokeh) {\n      \n    },\n    function(Bokeh) {\n      console.log(\"Bokeh: injecting CSS: https://cdn.pydata.org/bokeh/release/bokeh-1.0.2.min.css\");\n      Bokeh.embed.inject_css(\"https://cdn.pydata.org/bokeh/release/bokeh-1.0.2.min.css\");\n      console.log(\"Bokeh: injecting CSS: https://cdn.pydata.org/bokeh/release/bokeh-widgets-1.0.2.min.css\");\n      Bokeh.embed.inject_css(\"https://cdn.pydata.org/bokeh/release/bokeh-widgets-1.0.2.min.css\");\n      console.log(\"Bokeh: injecting CSS: https://cdn.pydata.org/bokeh/release/bokeh-tables-1.0.2.min.css\");\n      Bokeh.embed.inject_css(\"https://cdn.pydata.org/bokeh/release/bokeh-tables-1.0.2.min.css\");\n    }\n  ];\n\n  function run_inline_js() {\n    \n    if ((root.Bokeh !== undefined) || (force === true)) {\n      for (var i = 0; i < inline_js.length; i++) {\n        inline_js[i].call(root, root.Bokeh);\n      }if (force === true) {\n        display_loaded();\n      }} else if (Date.now() < root._bokeh_timeout) {\n      setTimeout(run_inline_js, 100);\n    } else if (!root._bokeh_failed_load) {\n      console.log(\"Bokeh: BokehJS failed to load within specified timeout.\");\n      root._bokeh_failed_load = true;\n    } else if (force !== true) {\n      var cell = $(document.getElementById(\"1001\")).parents('.cell').data().cell;\n      cell.output_area.append_execute_result(NB_LOAD_WARNING)\n    }\n\n  }\n\n  if (root._bokeh_is_loading === 0) {\n    console.log(\"Bokeh: BokehJS loaded, going straight to plotting\");\n    run_inline_js();\n  } else {\n    load_libs(js_urls, function() {\n      console.log(\"Bokeh: BokehJS plotting callback run at\", now());\n      run_inline_js();\n    });\n  }\n}(window));"
     },
     "metadata": {},
     "output_type": "display_data"
    }
   ],
   "source": [
    "output_notebook()"
   ]
  },
  {
   "cell_type": "code",
   "execution_count": 3,
   "metadata": {},
   "outputs": [],
   "source": [
    "#enviamos los datos de nuestro csv a la variable df \n",
    "df = pd.read_csv(\"nacimientos2014.csv\")"
   ]
  },
  {
   "cell_type": "code",
   "execution_count": 4,
   "metadata": {},
   "outputs": [
    {
     "name": "stdout",
     "output_type": "stream",
     "text": [
      "Unnamed: 0      int64\n",
      "tip_insc       object\n",
      "ofi_insc        int64\n",
      "prov_insc      object\n",
      "cant_insc      object\n",
      "parr_insc      object\n",
      "anio_insc       int64\n",
      "mes_insc       object\n",
      "dia_insc        int64\n",
      "fecha_insc      int64\n",
      "sexo           object\n",
      "talla         float64\n",
      "peso          float64\n",
      "sem_gest      float64\n",
      "tipo_part      object\n",
      "anio_nac        int64\n",
      "mes_nac        object\n",
      "dia_nac         int64\n",
      "fecha_nac       int64\n",
      "p_emb          object\n",
      "lugar_ocur     object\n",
      "prov_nac       object\n",
      "cant_nac       object\n",
      "parr_nac       object\n",
      "area_nac       object\n",
      "asis_por       object\n",
      "nac_mad        object\n",
      "cod_pais       object\n",
      "anio_mad      float64\n",
      "mes_mad       float64\n",
      "dia_mad       float64\n",
      "fecha_mad      object\n",
      "edad_mad      float64\n",
      "con_pren      float64\n",
      "num_par       float64\n",
      "hij_viv       float64\n",
      "hij_vivm      float64\n",
      "hij_nacm      float64\n",
      "etnia          object\n",
      "est_civil      object\n",
      "sabe_leer      object\n",
      "niv_inst       object\n",
      "prov_res       object\n",
      "cant_res       object\n",
      "parr_res       object\n",
      "area_res       object\n",
      "dtype: object\n"
     ]
    },
    {
     "data": {
      "text/html": [
       "<div>\n",
       "<style scoped>\n",
       "    .dataframe tbody tr th:only-of-type {\n",
       "        vertical-align: middle;\n",
       "    }\n",
       "\n",
       "    .dataframe tbody tr th {\n",
       "        vertical-align: top;\n",
       "    }\n",
       "\n",
       "    .dataframe thead th {\n",
       "        text-align: right;\n",
       "    }\n",
       "</style>\n",
       "<table border=\"1\" class=\"dataframe\">\n",
       "  <thead>\n",
       "    <tr style=\"text-align: right;\">\n",
       "      <th></th>\n",
       "      <th>Unnamed: 0</th>\n",
       "      <th>tip_insc</th>\n",
       "      <th>ofi_insc</th>\n",
       "      <th>prov_insc</th>\n",
       "      <th>cant_insc</th>\n",
       "      <th>parr_insc</th>\n",
       "      <th>anio_insc</th>\n",
       "      <th>mes_insc</th>\n",
       "      <th>dia_insc</th>\n",
       "      <th>fecha_insc</th>\n",
       "      <th>...</th>\n",
       "      <th>hij_vivm</th>\n",
       "      <th>hij_nacm</th>\n",
       "      <th>etnia</th>\n",
       "      <th>est_civil</th>\n",
       "      <th>sabe_leer</th>\n",
       "      <th>niv_inst</th>\n",
       "      <th>prov_res</th>\n",
       "      <th>cant_res</th>\n",
       "      <th>parr_res</th>\n",
       "      <th>area_res</th>\n",
       "    </tr>\n",
       "  </thead>\n",
       "  <tbody>\n",
       "    <tr>\n",
       "      <th>0</th>\n",
       "      <td>1</td>\n",
       "      <td>Inscripci�n Normal</td>\n",
       "      <td>1</td>\n",
       "      <td>Guayas</td>\n",
       "      <td>Milagro</td>\n",
       "      <td>Milagro, Cabecera Cantonal</td>\n",
       "      <td>2014</td>\n",
       "      <td>Julio</td>\n",
       "      <td>30</td>\n",
       "      <td>13626057600</td>\n",
       "      <td>...</td>\n",
       "      <td>0.0</td>\n",
       "      <td>0.0</td>\n",
       "      <td>Montubia</td>\n",
       "      <td>Soltera</td>\n",
       "      <td>Si</td>\n",
       "      <td>Primaria</td>\n",
       "      <td>Guayas</td>\n",
       "      <td>Milagro</td>\n",
       "      <td>Milagro, Cabecera Cantonal</td>\n",
       "      <td>Urbana</td>\n",
       "    </tr>\n",
       "    <tr>\n",
       "      <th>1</th>\n",
       "      <td>2</td>\n",
       "      <td>Inscripci�n Normal</td>\n",
       "      <td>1</td>\n",
       "      <td>Guayas</td>\n",
       "      <td>Milagro</td>\n",
       "      <td>Milagro, Cabecera Cantonal</td>\n",
       "      <td>2014</td>\n",
       "      <td>Julio</td>\n",
       "      <td>30</td>\n",
       "      <td>13626057600</td>\n",
       "      <td>...</td>\n",
       "      <td>0.0</td>\n",
       "      <td>1.0</td>\n",
       "      <td>Mestiza</td>\n",
       "      <td>Unida</td>\n",
       "      <td>Si</td>\n",
       "      <td>Educaci�n Media / Bachillerato</td>\n",
       "      <td>Guayas</td>\n",
       "      <td>Milagro</td>\n",
       "      <td>Milagro, Cabecera Cantonal</td>\n",
       "      <td>Urbana</td>\n",
       "    </tr>\n",
       "    <tr>\n",
       "      <th>2</th>\n",
       "      <td>3</td>\n",
       "      <td>Inscripci�n Normal</td>\n",
       "      <td>1</td>\n",
       "      <td>Guayas</td>\n",
       "      <td>Milagro</td>\n",
       "      <td>Milagro, Cabecera Cantonal</td>\n",
       "      <td>2014</td>\n",
       "      <td>Julio</td>\n",
       "      <td>31</td>\n",
       "      <td>13626144000</td>\n",
       "      <td>...</td>\n",
       "      <td>0.0</td>\n",
       "      <td>99.0</td>\n",
       "      <td>Mestiza</td>\n",
       "      <td>Soltera</td>\n",
       "      <td>Si</td>\n",
       "      <td>Secundaria</td>\n",
       "      <td>Guayas</td>\n",
       "      <td>Milagro</td>\n",
       "      <td>Milagro, Cabecera Cantonal</td>\n",
       "      <td>Urbana</td>\n",
       "    </tr>\n",
       "    <tr>\n",
       "      <th>3</th>\n",
       "      <td>4</td>\n",
       "      <td>Inscripci�n Normal</td>\n",
       "      <td>1</td>\n",
       "      <td>Guayas</td>\n",
       "      <td>San Jacinto de Yaguachi</td>\n",
       "      <td>San Jacinto de Yaguachi, Cabecera Cantonal</td>\n",
       "      <td>2014</td>\n",
       "      <td>Julio</td>\n",
       "      <td>11</td>\n",
       "      <td>13624416000</td>\n",
       "      <td>...</td>\n",
       "      <td>0.0</td>\n",
       "      <td>0.0</td>\n",
       "      <td>Blanca</td>\n",
       "      <td>Divorciada</td>\n",
       "      <td>Si</td>\n",
       "      <td>Secundaria</td>\n",
       "      <td>Guayas</td>\n",
       "      <td>Guayaquil</td>\n",
       "      <td>Guayaquil, Cabecera Cantonal y Capital Provincial</td>\n",
       "      <td>Urbana</td>\n",
       "    </tr>\n",
       "    <tr>\n",
       "      <th>4</th>\n",
       "      <td>5</td>\n",
       "      <td>Inscripci�n Normal</td>\n",
       "      <td>1</td>\n",
       "      <td>Guayas</td>\n",
       "      <td>Milagro</td>\n",
       "      <td>Milagro, Cabecera Cantonal</td>\n",
       "      <td>2014</td>\n",
       "      <td>Julio</td>\n",
       "      <td>31</td>\n",
       "      <td>13626144000</td>\n",
       "      <td>...</td>\n",
       "      <td>0.0</td>\n",
       "      <td>0.0</td>\n",
       "      <td>Mestiza</td>\n",
       "      <td>Soltera</td>\n",
       "      <td>Si</td>\n",
       "      <td>Secundaria</td>\n",
       "      <td>Guayas</td>\n",
       "      <td>Milagro</td>\n",
       "      <td>Milagro, Cabecera Cantonal</td>\n",
       "      <td>Urbana</td>\n",
       "    </tr>\n",
       "  </tbody>\n",
       "</table>\n",
       "<p>5 rows × 46 columns</p>\n",
       "</div>"
      ],
      "text/plain": [
       "   Unnamed: 0            tip_insc  ofi_insc prov_insc  \\\n",
       "0           1  Inscripci�n Normal         1    Guayas   \n",
       "1           2  Inscripci�n Normal         1    Guayas   \n",
       "2           3  Inscripci�n Normal         1    Guayas   \n",
       "3           4  Inscripci�n Normal         1    Guayas   \n",
       "4           5  Inscripci�n Normal         1    Guayas   \n",
       "\n",
       "                 cant_insc                                   parr_insc  \\\n",
       "0                  Milagro                  Milagro, Cabecera Cantonal   \n",
       "1                  Milagro                  Milagro, Cabecera Cantonal   \n",
       "2                  Milagro                  Milagro, Cabecera Cantonal   \n",
       "3  San Jacinto de Yaguachi  San Jacinto de Yaguachi, Cabecera Cantonal   \n",
       "4                  Milagro                  Milagro, Cabecera Cantonal   \n",
       "\n",
       "   anio_insc mes_insc  dia_insc   fecha_insc   ...    hij_vivm  hij_nacm  \\\n",
       "0       2014    Julio        30  13626057600   ...         0.0       0.0   \n",
       "1       2014    Julio        30  13626057600   ...         0.0       1.0   \n",
       "2       2014    Julio        31  13626144000   ...         0.0      99.0   \n",
       "3       2014    Julio        11  13624416000   ...         0.0       0.0   \n",
       "4       2014    Julio        31  13626144000   ...         0.0       0.0   \n",
       "\n",
       "      etnia   est_civil sabe_leer                        niv_inst prov_res  \\\n",
       "0  Montubia     Soltera        Si                        Primaria   Guayas   \n",
       "1   Mestiza       Unida        Si  Educaci�n Media / Bachillerato   Guayas   \n",
       "2   Mestiza     Soltera        Si                      Secundaria   Guayas   \n",
       "3    Blanca  Divorciada        Si                      Secundaria   Guayas   \n",
       "4   Mestiza     Soltera        Si                      Secundaria   Guayas   \n",
       "\n",
       "    cant_res                                           parr_res area_res  \n",
       "0    Milagro                         Milagro, Cabecera Cantonal   Urbana  \n",
       "1    Milagro                         Milagro, Cabecera Cantonal   Urbana  \n",
       "2    Milagro                         Milagro, Cabecera Cantonal   Urbana  \n",
       "3  Guayaquil  Guayaquil, Cabecera Cantonal y Capital Provincial   Urbana  \n",
       "4    Milagro                         Milagro, Cabecera Cantonal   Urbana  \n",
       "\n",
       "[5 rows x 46 columns]"
      ]
     },
     "execution_count": 4,
     "metadata": {},
     "output_type": "execute_result"
    }
   ],
   "source": [
    "#Impriminos nuestro documento y los nombres de todas las columnas de nuestro archivo \n",
    "print(df.dtypes)\n",
    "df.head()"
   ]
  },
  {
   "cell_type": "code",
   "execution_count": 5,
   "metadata": {},
   "outputs": [],
   "source": [
    "datos = ColumnDataSource()"
   ]
  },
  {
   "cell_type": "code",
   "execution_count": 6,
   "metadata": {},
   "outputs": [],
   "source": [
    "# definimos la cantidad de datos que vamos a usar por cada coolumna y ademas los enviamos a la variable d1 \n",
    "d1=ColumnDataSource(df.sample(20))"
   ]
  },
  {
   "cell_type": "code",
   "execution_count": 7,
   "metadata": {},
   "outputs": [],
   "source": [
    "#declaramos a la variable grafico como grafico \n",
    "grafico = figure(title='Talla - peso')"
   ]
  },
  {
   "cell_type": "code",
   "execution_count": 24,
   "metadata": {},
   "outputs": [
    {
     "data": {
      "text/html": [
       "<div style=\"display: table;\"><div style=\"display: table-row;\"><div style=\"display: table-cell;\"><b title=\"bokeh.models.renderers.GlyphRenderer\">GlyphRenderer</b>(</div><div style=\"display: table-cell;\">id&nbsp;=&nbsp;'2605', <span id=\"2707\" style=\"cursor: pointer;\">&hellip;)</span></div></div><div class=\"2706\" style=\"display: none;\"><div style=\"display: table-cell;\"></div><div style=\"display: table-cell;\">data_source&nbsp;=&nbsp;ColumnDataSource(id='1003', ...),</div></div><div class=\"2706\" style=\"display: none;\"><div style=\"display: table-cell;\"></div><div style=\"display: table-cell;\">glyph&nbsp;=&nbsp;Square(id='2603', ...),</div></div><div class=\"2706\" style=\"display: none;\"><div style=\"display: table-cell;\"></div><div style=\"display: table-cell;\">hover_glyph&nbsp;=&nbsp;None,</div></div><div class=\"2706\" style=\"display: none;\"><div style=\"display: table-cell;\"></div><div style=\"display: table-cell;\">js_event_callbacks&nbsp;=&nbsp;{},</div></div><div class=\"2706\" style=\"display: none;\"><div style=\"display: table-cell;\"></div><div style=\"display: table-cell;\">js_property_callbacks&nbsp;=&nbsp;{},</div></div><div class=\"2706\" style=\"display: none;\"><div style=\"display: table-cell;\"></div><div style=\"display: table-cell;\">level&nbsp;=&nbsp;'glyph',</div></div><div class=\"2706\" style=\"display: none;\"><div style=\"display: table-cell;\"></div><div style=\"display: table-cell;\">muted&nbsp;=&nbsp;False,</div></div><div class=\"2706\" style=\"display: none;\"><div style=\"display: table-cell;\"></div><div style=\"display: table-cell;\">muted_glyph&nbsp;=&nbsp;None,</div></div><div class=\"2706\" style=\"display: none;\"><div style=\"display: table-cell;\"></div><div style=\"display: table-cell;\">name&nbsp;=&nbsp;None,</div></div><div class=\"2706\" style=\"display: none;\"><div style=\"display: table-cell;\"></div><div style=\"display: table-cell;\">nonselection_glyph&nbsp;=&nbsp;Square(id='2604', ...),</div></div><div class=\"2706\" style=\"display: none;\"><div style=\"display: table-cell;\"></div><div style=\"display: table-cell;\">selection_glyph&nbsp;=&nbsp;None,</div></div><div class=\"2706\" style=\"display: none;\"><div style=\"display: table-cell;\"></div><div style=\"display: table-cell;\">subscribed_events&nbsp;=&nbsp;[],</div></div><div class=\"2706\" style=\"display: none;\"><div style=\"display: table-cell;\"></div><div style=\"display: table-cell;\">tags&nbsp;=&nbsp;[],</div></div><div class=\"2706\" style=\"display: none;\"><div style=\"display: table-cell;\"></div><div style=\"display: table-cell;\">view&nbsp;=&nbsp;CDSView(id='2606', ...),</div></div><div class=\"2706\" style=\"display: none;\"><div style=\"display: table-cell;\"></div><div style=\"display: table-cell;\">visible&nbsp;=&nbsp;True,</div></div><div class=\"2706\" style=\"display: none;\"><div style=\"display: table-cell;\"></div><div style=\"display: table-cell;\">x_range_name&nbsp;=&nbsp;'default',</div></div><div class=\"2706\" style=\"display: none;\"><div style=\"display: table-cell;\"></div><div style=\"display: table-cell;\">y_range_name&nbsp;=&nbsp;'default')</div></div></div>\n",
       "<script>\n",
       "(function() {\n",
       "  var expanded = false;\n",
       "  var ellipsis = document.getElementById(\"2707\");\n",
       "  ellipsis.addEventListener(\"click\", function() {\n",
       "    var rows = document.getElementsByClassName(\"2706\");\n",
       "    for (var i = 0; i < rows.length; i++) {\n",
       "      var el = rows[i];\n",
       "      el.style.display = expanded ? \"none\" : \"table-row\";\n",
       "    }\n",
       "    ellipsis.innerHTML = expanded ? \"&hellip;)\" : \"&lsaquo;&lsaquo;&lsaquo;\";\n",
       "    expanded = !expanded;\n",
       "  });\n",
       "})();\n",
       "</script>\n"
      ],
      "text/plain": [
       "GlyphRenderer(id='2605', ...)"
      ]
     },
     "execution_count": 24,
     "metadata": {},
     "output_type": "execute_result"
    }
   ],
   "source": [
    "#definimos que tipo de grafico se va a presentar y el nombre de las columnas que se va a usar \n",
    "grafico.square(x='talla', y='peso',color=\"olive\", source=d1)"
   ]
  },
  {
   "cell_type": "code",
   "execution_count": 9,
   "metadata": {},
   "outputs": [
    {
     "data": {
      "text/html": [
       "\n",
       "\n",
       "\n",
       "\n",
       "\n",
       "\n",
       "  <div class=\"bk-root\" id=\"1e562a35-203a-44cb-916c-f23cda423400\"></div>\n"
      ]
     },
     "metadata": {},
     "output_type": "display_data"
    },
    {
     "data": {
      "application/javascript": [
       "(function(root) {\n",
       "  function embed_document(root) {\n",
       "    \n",
       "  var docs_json = {\"db2311e5-9d01-4e04-a3b5-0b64a9ed96cd\":{\"roots\":{\"references\":[{\"attributes\":{\"below\":[{\"id\":\"1015\",\"type\":\"LinearAxis\"}],\"left\":[{\"id\":\"1020\",\"type\":\"LinearAxis\"}],\"renderers\":[{\"id\":\"1015\",\"type\":\"LinearAxis\"},{\"id\":\"1019\",\"type\":\"Grid\"},{\"id\":\"1020\",\"type\":\"LinearAxis\"},{\"id\":\"1024\",\"type\":\"Grid\"},{\"id\":\"1033\",\"type\":\"BoxAnnotation\"},{\"id\":\"1043\",\"type\":\"GlyphRenderer\"}],\"title\":{\"id\":\"1004\",\"type\":\"Title\"},\"toolbar\":{\"id\":\"1031\",\"type\":\"Toolbar\"},\"x_range\":{\"id\":\"1007\",\"type\":\"DataRange1d\"},\"x_scale\":{\"id\":\"1011\",\"type\":\"LinearScale\"},\"y_range\":{\"id\":\"1009\",\"type\":\"DataRange1d\"},\"y_scale\":{\"id\":\"1013\",\"type\":\"LinearScale\"}},\"id\":\"1005\",\"subtype\":\"Figure\",\"type\":\"Plot\"},{\"attributes\":{\"fill_alpha\":{\"value\":0.1},\"fill_color\":{\"value\":\"#1f77b4\"},\"line_alpha\":{\"value\":0.1},\"line_color\":{\"value\":\"#1f77b4\"},\"x\":{\"field\":\"talla\"},\"y\":{\"field\":\"peso\"}},\"id\":\"1042\",\"type\":\"Square\"},{\"attributes\":{},\"id\":\"1025\",\"type\":\"PanTool\"},{\"attributes\":{\"data_source\":{\"id\":\"1003\",\"type\":\"ColumnDataSource\"},\"glyph\":{\"id\":\"1041\",\"type\":\"Square\"},\"hover_glyph\":null,\"muted_glyph\":null,\"nonselection_glyph\":{\"id\":\"1042\",\"type\":\"Square\"},\"selection_glyph\":null,\"view\":{\"id\":\"1044\",\"type\":\"CDSView\"}},\"id\":\"1043\",\"type\":\"GlyphRenderer\"},{\"attributes\":{\"formatter\":{\"id\":\"1049\",\"type\":\"BasicTickFormatter\"},\"plot\":{\"id\":\"1005\",\"subtype\":\"Figure\",\"type\":\"Plot\"},\"ticker\":{\"id\":\"1016\",\"type\":\"BasicTicker\"}},\"id\":\"1015\",\"type\":\"LinearAxis\"},{\"attributes\":{},\"id\":\"1026\",\"type\":\"WheelZoomTool\"},{\"attributes\":{\"source\":{\"id\":\"1003\",\"type\":\"ColumnDataSource\"}},\"id\":\"1044\",\"type\":\"CDSView\"},{\"attributes\":{\"formatter\":{\"id\":\"1051\",\"type\":\"BasicTickFormatter\"},\"plot\":{\"id\":\"1005\",\"subtype\":\"Figure\",\"type\":\"Plot\"},\"ticker\":{\"id\":\"1021\",\"type\":\"BasicTicker\"}},\"id\":\"1020\",\"type\":\"LinearAxis\"},{\"attributes\":{\"overlay\":{\"id\":\"1033\",\"type\":\"BoxAnnotation\"}},\"id\":\"1027\",\"type\":\"BoxZoomTool\"},{\"attributes\":{\"plot\":{\"id\":\"1005\",\"subtype\":\"Figure\",\"type\":\"Plot\"},\"ticker\":{\"id\":\"1016\",\"type\":\"BasicTicker\"}},\"id\":\"1019\",\"type\":\"Grid\"},{\"attributes\":{},\"id\":\"1028\",\"type\":\"SaveTool\"},{\"attributes\":{},\"id\":\"1029\",\"type\":\"ResetTool\"},{\"attributes\":{},\"id\":\"1049\",\"type\":\"BasicTickFormatter\"},{\"attributes\":{},\"id\":\"1030\",\"type\":\"HelpTool\"},{\"attributes\":{},\"id\":\"1051\",\"type\":\"BasicTickFormatter\"},{\"attributes\":{\"dimension\":1,\"plot\":{\"id\":\"1005\",\"subtype\":\"Figure\",\"type\":\"Plot\"},\"ticker\":{\"id\":\"1021\",\"type\":\"BasicTicker\"}},\"id\":\"1024\",\"type\":\"Grid\"},{\"attributes\":{\"active_drag\":\"auto\",\"active_inspect\":\"auto\",\"active_multi\":null,\"active_scroll\":\"auto\",\"active_tap\":\"auto\",\"tools\":[{\"id\":\"1025\",\"type\":\"PanTool\"},{\"id\":\"1026\",\"type\":\"WheelZoomTool\"},{\"id\":\"1027\",\"type\":\"BoxZoomTool\"},{\"id\":\"1028\",\"type\":\"SaveTool\"},{\"id\":\"1029\",\"type\":\"ResetTool\"},{\"id\":\"1030\",\"type\":\"HelpTool\"}]},\"id\":\"1031\",\"type\":\"Toolbar\"},{\"attributes\":{},\"id\":\"1052\",\"type\":\"UnionRenderers\"},{\"attributes\":{},\"id\":\"1016\",\"type\":\"BasicTicker\"},{\"attributes\":{},\"id\":\"1053\",\"type\":\"Selection\"},{\"attributes\":{\"bottom_units\":\"screen\",\"fill_alpha\":{\"value\":0.5},\"fill_color\":{\"value\":\"lightgrey\"},\"left_units\":\"screen\",\"level\":\"overlay\",\"line_alpha\":{\"value\":1.0},\"line_color\":{\"value\":\"black\"},\"line_dash\":[4,4],\"line_width\":{\"value\":2},\"plot\":null,\"render_mode\":\"css\",\"right_units\":\"screen\",\"top_units\":\"screen\"},\"id\":\"1033\",\"type\":\"BoxAnnotation\"},{\"attributes\":{},\"id\":\"1013\",\"type\":\"LinearScale\"},{\"attributes\":{\"callback\":null,\"data\":{\"Unnamed: 0\":[2276,2212,74,1188,264,2424,551,2389,1731,1108,2354,1325,1711,2142,475,1389,2158,1414,2281,1158],\"anio_insc\":[2014,2014,2014,2014,2014,2014,2014,2014,2014,2014,2014,2014,2014,2014,2014,2014,2014,2014,2014,2014],\"anio_mad\":{\"__ndarray__\":\"AAAAAAAgn0AAAAAAAPyeQAAAAAAALJ9AAAAAAAAA+H8AAAAAAAD4fwAAAAAAJJ9AAAAAAAAEn0AAAAAAAAD4fwAAAAAADJ9AAAAAAAAA+H8AAAAAAAD4fwAAAAAA5J5AAAAAAAAgn0AAAAAAAAifQAAAAAAAMJ9AAAAAAADsnkAAAAAAACifQAAAAAAABJ9AAAAAAAAA+H8AAAAAAAD4fw==\",\"dtype\":\"float64\",\"shape\":[20]},\"anio_nac\":[2014,2013,2014,2012,2012,2014,2013,2009,2014,2012,2009,2013,2014,2014,2014,2014,2013,2014,2011,2010],\"area_nac\":[\"Urbana\",\"Urbana\",\"Urbana\",\"NaN\",\"NaN\",\"Urbana\",\"Urbana\",\"NaN\",\"Urbana\",\"NaN\",\"NaN\",\"Urbana\",\"Urbana\",\"Urbana\",\"Urbana\",\"Urbana\",\"Urbana\",\"Urbana\",\"NaN\",\"NaN\"],\"area_res\":[\"Urbana\",\"Urbana\",\"Urbana\",\"Urbana\",\"Urbana\",\"Urbana\",\"Urbana\",\"Urbana\",\"Urbana\",\"Urbana\",\"Urbana\",\"Urbana\",\"Urbana\",\"Urbana\",\"Urbana\",\"Urbana\",\"Urbana\",\"Urbana\",\"Urbana\",\"Urbana\"],\"asis_por\":[\"M\\ufffddico/a\",\"M\\ufffddico/a\",\"M\\ufffddico/a\",\"NaN\",\"NaN\",\"M\\ufffddico/a\",\"Obstetriz/Obstetra\",\"NaN\",\"M\\ufffddico/a\",\"NaN\",\"NaN\",\"M\\ufffddico/a\",\"M\\ufffddico/a\",\"M\\ufffddico/a\",\"M\\ufffddico/a\",\"M\\ufffddico/a\",\"M\\ufffddico/a\",\"M\\ufffddico/a\",\"NaN\",\"NaN\"],\"cant_insc\":[\"Guayaquil\",\"Guayaquil\",\"Riobamba\",\"Guayaquil\",\"Guayaquil\",\"Santo Domingo\",\"Babahoyo\",\"Quito\",\"Ibarra\",\"Pedernales\",\"Guayaquil\",\"Guayaquil\",\"Daule\",\"Guayaquil\",\"Quito\",\"Guayaquil\",\"Guayaquil\",\"Guayaquil\",\"Guayaquil\",\"Guayaquil\"],\"cant_nac\":[\"Guayaquil\",\"Guayaquil\",\"Riobamba\",\"NaN\",\"NaN\",\"Santo Domingo\",\"Babahoyo\",\"NaN\",\"Ibarra\",\"NaN\",\"NaN\",\"Guayaquil\",\"Guayaquil\",\"Santo Domingo\",\"Quito\",\"Guayaquil\",\"Guayaquil\",\"Guayaquil\",\"NaN\",\"NaN\"],\"cant_res\":[\"Guayaquil\",\"Guayaquil\",\"Riobamba\",\"Guayaquil\",\"Guayaquil\",\"Santo Domingo\",\"Babahoyo\",\"Quito\",\"Ibarra\",\"Pedernales\",\"Guayaquil\",\"Guayaquil\",\"Lomas de Sargentillo\",\"Guayaquil\",\"Quito\",\"Guayaquil\",\"Guayaquil\",\"Dur\\ufffdn\",\"Guayaquil\",\"Guayaquil\"],\"cod_pais\":[\"Ecuador \",\"Ecuador \",\"Ecuador \",\"NaN\",\"NaN\",\"Ecuador \",\"Ecuador \",\"NaN\",\"Ecuador \",\"NaN\",\"NaN\",\"Ecuador \",\"Ecuador \",\"Ecuador \",\"Ecuador \",\"Ecuador \",\"Ecuador \",\"Ecuador \",\"NaN\",\"NaN\"],\"con_pren\":{\"__ndarray__\":\"AAAAAAAAHEAAAAAAAAAuQAAAAAAAABhAAAAAAAAA+H8AAAAAAAD4fwAAAAAAABRAAAAAAADAWEAAAAAAAAD4fwAAAAAAACJAAAAAAAAA+H8AAAAAAAD4fwAAAAAAABxAAAAAAAAAHEAAAAAAAAAgQAAAAAAAACJAAAAAAAAAIEAAAAAAAAAgQAAAAAAAACBAAAAAAAAA+H8AAAAAAAD4fw==\",\"dtype\":\"float64\",\"shape\":[20]},\"dia_insc\":[30,21,11,5,10,14,13,1,12,13,29,20,27,28,24,24,20,24,23,5],\"dia_mad\":{\"__ndarray__\":\"AAAAAAAACEAAAAAAAAAoQAAAAAAAADBAAAAAAAAA+H8AAAAAAAD4fwAAAAAAACJAAAAAAAAACEAAAAAAAAD4fwAAAAAAAABAAAAAAAAA+H8AAAAAAAD4fwAAAAAAAD1AAAAAAAAAMUAAAAAAAAAxQAAAAAAAAD9AAAAAAAAAOEAAAAAAAAA4QAAAAAAAABxAAAAAAAAA+H8AAAAAAAD4fw==\",\"dtype\":\"float64\",\"shape\":[20]},\"dia_nac\":[3,9,22,14,25,30,15,6,14,6,18,19,10,18,25,17,11,16,13,3],\"edad_mad\":{\"__ndarray__\":\"AAAAAAAANkAAAAAAAAA/QAAAAAAAADNAAAAAAAAA+H8AAAAAAAD4fwAAAAAAADVAAAAAAAAAPUAAAAAAAAD4fwAAAAAAADtAAAAAAAAA+H8AAAAAAAD4fwAAAAAAgEJAAAAAAAAANkAAAAAAAAA8QAAAAAAAADJAAAAAAACAQUAAAAAAAAA0QAAAAAAAAD1AAAAAAAAA+H8AAAAAAAD4fw==\",\"dtype\":\"float64\",\"shape\":[20]},\"est_civil\":[\"Unida\",\"Soltera\",\"Soltera\",\"NaN\",\"NaN\",\"Soltera\",\"Unida\",\"NaN\",\"Soltera\",\"NaN\",\"NaN\",\"Soltera\",\"Unida\",\"Unida\",\"Soltera\",\"Casada\",\"Unida\",\"Casada\",\"NaN\",\"NaN\"],\"etnia\":[\"Mestiza\",\"Mestiza\",\"Mestiza\",\"NaN\",\"NaN\",\"Mestiza\",\"Mestiza\",\"NaN\",\"Mestiza\",\"NaN\",\"NaN\",\"Mestiza\",\"Mestiza\",\"Mestiza\",\"Mestiza\",\"Mestiza\",\"Mestiza\",\"Mestiza\",\"NaN\",\"NaN\"],\"fecha_insc\":[13610419200,13609641600,13629772800,13618627200,13624329600,13624675200,13611628800,13626230400,13629859200,13608950400,13610332800,13622601600,13623206400,13610246400,13630896000,13622947200,13609555200,13622947200,13609814400,13618627200],\"fecha_mad\":[\"1992/12/03\",\"1983/11/12\",\"1995/08/16\",\"          \",\"          \",\"1993/05/09\",\"1985/11/03\",\"          \",\"1987/08/02\",\"          \",\"          \",\"1977/05/29\",\"1992/06/17\",\"1986/11/17\",\"1996/10/31\",\"1979/10/24\",\"1994/12/24\",\"1985/07/07\",\"          \",\"          \"],\"fecha_nac\":[13608086400,13598064000,13622774400,13569552000,13567910400,13618195200,13590633600,13476844800,13622083200,13563590400,13472611200,13593571200,13619059200,13609382400,13628304000,13622342400,13587609600,13622256000,13527302400,13486953600],\"hij_nacm\":{\"__ndarray__\":\"AAAAAAAAAAAAAAAAAAAAAAAAAAAAAAAAAAAAAAAA+H8AAAAAAAD4fwAAAAAAAAAAAAAAAAAAAAAAAAAAAAD4fwAAAAAAAAAAAAAAAAAA+H8AAAAAAAD4fwAAAAAAAAAAAAAAAAAAAAAAAAAAAAAAAAAAAAAAAAAAAAAAAAAAAAAAAAAAAAAAAAAAAAAAAAAAAAAAAAAA+H8AAAAAAAD4fw==\",\"dtype\":\"float64\",\"shape\":[20]},\"hij_viv\":{\"__ndarray__\":\"AAAAAAAA8D8AAAAAAADwPwAAAAAAAPA/AAAAAAAA+H8AAAAAAAD4fwAAAAAAAABAAAAAAAAAAEAAAAAAAAD4fwAAAAAAAPA/AAAAAAAA+H8AAAAAAAD4fwAAAAAAABBAAAAAAAAAAEAAAAAAAAAAQAAAAAAAAPA/AAAAAAAAAEAAAAAAAADwPwAAAAAAAPA/AAAAAAAA+H8AAAAAAAD4fw==\",\"dtype\":\"float64\",\"shape\":[20]},\"hij_vivm\":{\"__ndarray__\":\"AAAAAAAAAAAAAAAAAAAAAAAAAAAAAAAAAAAAAAAA+H8AAAAAAAD4fwAAAAAAAAAAAAAAAAAAAAAAAAAAAAD4fwAAAAAAAPA/AAAAAAAA+H8AAAAAAAD4fwAAAAAAAAAAAAAAAAAAAAAAAAAAAAAAAAAAAAAAAAAAAAAAAAAAAAAAAAAAAAAAAAAAAAAAAAAAAAAAAAAA+H8AAAAAAAD4fw==\",\"dtype\":\"float64\",\"shape\":[20]},\"index\":[2275,2211,73,1187,263,2423,550,2388,1730,1107,2353,1324,1710,2141,474,1388,2157,1413,2280,1157],\"lugar_ocur\":[\"Establecimiento del Ministerio de Salud\",\"Hospital, Cl\\ufffdnica o Consultorio Privado\",\"Establecimiento del Ministerio de Salud\",\"NaN\",\"NaN\",\"Establecimiento del Ministerio de Salud\",\"Establecimiento del Ministerio de Salud\",\"NaN\",\"Establecimiento del Ministerio de Salud\",\"NaN\",\"NaN\",\"Establecimiento del Ministerio de Salud\",\"Establecimiento de la Junta de Beneficencia\",\"Hospital, Cl\\ufffdnica o Consultorio Privado\",\"Establecimiento del IESS\",\"Establecimiento del IESS\",\"Hospital, Cl\\ufffdnica o Consultorio Privado\",\"Hospital, Cl\\ufffdnica o Consultorio Privado\",\"NaN\",\"NaN\"],\"mes_insc\":[\"Enero\",\"Enero\",\"Septiembre\",\"Mayo\",\"Julio\",\"Julio\",\"Febrero\",\"Agosto\",\"Septiembre\",\"Enero\",\"Enero\",\"Junio\",\"Junio\",\"Enero\",\"Septiembre\",\"Junio\",\"Enero\",\"Junio\",\"Enero\",\"Mayo\"],\"mes_mad\":{\"__ndarray__\":\"AAAAAAAAKEAAAAAAAAAmQAAAAAAAACBAAAAAAAAA+H8AAAAAAAD4fwAAAAAAABRAAAAAAAAAJkAAAAAAAAD4fwAAAAAAACBAAAAAAAAA+H8AAAAAAAD4fwAAAAAAABRAAAAAAAAAGEAAAAAAAAAmQAAAAAAAACRAAAAAAAAAJEAAAAAAAAAoQAAAAAAAABxAAAAAAAAA+H8AAAAAAAD4fw==\",\"dtype\":\"float64\",\"shape\":[20]},\"mes_nac\":[\"Enero\",\"Septiembre\",\"Junio\",\"Octubre\",\"Septiembre\",\"Abril\",\"Junio\",\"Noviembre\",\"Junio\",\"Agosto\",\"Septiembre\",\"Julio\",\"Mayo\",\"Enero\",\"Agosto\",\"Junio\",\"Mayo\",\"Junio\",\"Junio\",\"Marzo\"],\"nac_mad\":[\"Ecuatoriana\",\"Ecuatoriana\",\"Ecuatoriana\",\"NaN\",\"NaN\",\"Ecuatoriana\",\"Ecuatoriana\",\"NaN\",\"Ecuatoriana\",\"NaN\",\"NaN\",\"Ecuatoriana\",\"Ecuatoriana\",\"Ecuatoriana\",\"Ecuatoriana\",\"Ecuatoriana\",\"Ecuatoriana\",\"Ecuatoriana\",\"NaN\",\"NaN\"],\"niv_inst\":[\"Primaria\",\"Superior\",\"Educaci\\ufffdn Media / Bachillerato\",\"NaN\",\"NaN\",\"Educaci\\ufffdn B\\ufffdsica\",\"Secundaria\",\"NaN\",\"Secundaria\",\"NaN\",\"NaN\",\"Primaria\",\"Primaria\",\"Secundaria\",\"Secundaria\",\"Superior\",\"Primaria\",\"Superior\",\"NaN\",\"NaN\"],\"num_par\":{\"__ndarray__\":\"AAAAAAAA8D8AAAAAAADwPwAAAAAAAPA/AAAAAAAA+H8AAAAAAAD4fwAAAAAAAABAAAAAAAAAAEAAAAAAAAD4fwAAAAAAAABAAAAAAAAA+H8AAAAAAAD4fwAAAAAAABBAAAAAAAAAAEAAAAAAAAAAQAAAAAAAAPA/AAAAAAAAAEAAAAAAAADwPwAAAAAAAPA/AAAAAAAA+H8AAAAAAAD4fw==\",\"dtype\":\"float64\",\"shape\":[20]},\"ofi_insc\":[1,1,1,1,1,1,1,1,2,1,1,1,1,1,1,1,1,1,1,1],\"p_emb\":[\"Simple\",\"Simple\",\"Simple\",\"NaN\",\"NaN\",\"Simple\",\"Simple\",\"NaN\",\"Simple\",\"NaN\",\"NaN\",\"Simple\",\"Simple\",\"Simple\",\"Simple\",\"Simple\",\"Simple\",\"Simple\",\"NaN\",\"NaN\"],\"parr_insc\":[\"Rocafuerte\",\"Rocafuerte\",\"Lizarzaburu\",\"Rocafuerte\",\"Tarqui\",\"Santo Domingo de los Colorados, Cabecera Cantonal y Capital Provincial\",\"Babahoyo, Cabecera Cantonal y Capital Provincial\",\"Centro Hist\\ufffdrico\",\"San Miguel de Ibarra, Cabecera Cantonal y Capital Provincial\",\"Pedernales, Cabecera Cantonal\",\"Rocafuerte\",\"Rocafuerte\",\"Daule, Cabecera Cantonal\",\"Rocafuerte\",\"I\\ufffdaquito\",\"Rocafuerte\",\"Rocafuerte\",\"Rocafuerte\",\"Rocafuerte\",\"Rocafuerte\"],\"parr_nac\":[\"Guayaquil, Cabecera Cantonal y Capital Provincial\",\"Guayaquil, Cabecera Cantonal y Capital Provincial\",\"Veloz\",\"NaN\",\"NaN\",\"Santo Domingo de los Colorados, Cabecera Cantonal y Capital Provincial\",\"Babahoyo, Cabecera Cantonal y Capital Provincial\",\"NaN\",\"San Miguel de Ibarra, Cabecera Cantonal y Capital Provincial\",\"NaN\",\"NaN\",\"Guayaquil, Cabecera Cantonal y Capital Provincial\",\"Guayaquil, Cabecera Cantonal y Capital Provincial\",\"Santo Domingo de los Colorados, Cabecera Cantonal y Capital Provincial\",\"Quito Distrito Metropolitano, Cabecera Cantonal, Capital Provincial\",\"Guayaquil, Cabecera Cantonal y Capital Provincial\",\"Tarqui\",\"Guayaquil, Cabecera Cantonal y Capital Provincial\",\"NaN\",\"NaN\"],\"parr_res\":[\"Guayaquil, Cabecera Cantonal y Capital Provincial\",\"Tarqui\",\"Veloz\",\"Guayaquil, Cabecera Cantonal y Capital Provincial\",\"Bol\\ufffdvar (Sagrario)\",\"Santo Domingo de los Colorados, Cabecera Cantonal y Capital Provincial\",\"Barreiro\",\"Centro Hist\\ufffdrico\",\"Sagrario\",\"Pedernales, Cabecera Cantonal\",\"Ximena\",\"Tarqui\",\"Lomas de Sargentillo, Cabecera Cantonal\",\"Ximena\",\"I\\ufffdaquito\",\"Tarqui\",\"Tarqui\",\"Eloy Alfaro (Dur\\ufffdn)\",\"Ximena\",\"Ximena\"],\"peso\":{\"__ndarray__\":\"AAAAAAA4qEAAAAAAACCsQAAAAAAASKxAAAAAAAAA+H8AAAAAAAD4fwAAAAAA9KpAAAAAAAAAqUAAAAAAAAD4fwAAAAAAsKhAAAAAAAAA+H8AAAAAAAD4fwAAAAAAGKVAAAAAAADorEAAAAAAAHCnQAAAAAAAAKlAAAAAAAAAqUAAAAAAAHiuQAAAAAAAqKZAAAAAAAAA+H8AAAAAAAD4fw==\",\"dtype\":\"float64\",\"shape\":[20]},\"prov_insc\":[\"Guayas\",\"Guayas\",\"Chimborazo\",\"Guayas\",\"Guayas\",\"Santo Domingo de los Ts\\ufffdchilas\",\"Los R\\ufffdos\",\"Pichincha\",\"Imbabura\",\"Manab\\ufffd\",\"Guayas\",\"Guayas\",\"Guayas\",\"Guayas\",\"Pichincha\",\"Guayas\",\"Guayas\",\"Guayas\",\"Guayas\",\"Guayas\"],\"prov_nac\":[\"Guayas\",\"Guayas\",\"Chimborazo\",\"NaN\",\"NaN\",\"Santo Domingo de los Ts\\ufffdchilas\",\"Los R\\ufffdos\",\"NaN\",\"Imbabura\",\"NaN\",\"NaN\",\"Guayas\",\"Guayas\",\"Santo Domingo de los Ts\\ufffdchilas\",\"Pichincha\",\"Guayas\",\"Guayas\",\"Guayas\",\"NaN\",\"NaN\"],\"prov_res\":[\"Guayas\",\"Guayas\",\"Chimborazo\",\"Guayas\",\"Guayas\",\"Santo Domingo de los Ts\\ufffdchilas\",\"Los R\\ufffdos\",\"Pichincha\",\"Imbabura\",\"Manab\\ufffd\",\"Guayas\",\"Guayas\",\"Guayas\",\"Guayas\",\"Pichincha\",\"Guayas\",\"Guayas\",\"Guayas\",\"Guayas\",\"Guayas\"],\"sabe_leer\":[\"Si\",\"Si\",\"Si\",\"NaN\",\"NaN\",\"Si\",\"Si\",\"NaN\",\"Si\",\"NaN\",\"NaN\",\"Si\",\"Si\",\"Si\",\"Si\",\"Si\",\"Si\",\"Si\",\"NaN\",\"NaN\"],\"sem_gest\":{\"__ndarray__\":\"AAAAAAAAQ0AAAAAAAABDQAAAAAAAgENAAAAAAAAA+H8AAAAAAAD4fwAAAAAAwFhAAAAAAAAAQ0AAAAAAAAD4fwAAAAAAwFhAAAAAAAAA+H8AAAAAAAD4fwAAAAAAAEJAAAAAAAAAQ0AAAAAAAMBYQAAAAAAAAERAAAAAAACAQkAAAAAAAABEQAAAAAAAAENAAAAAAAAA+H8AAAAAAAD4fw==\",\"dtype\":\"float64\",\"shape\":[20]},\"sexo\":[\"Mujer\",\"Mujer\",\"Mujer\",\"Mujer\",\"Hombre\",\"Mujer\",\"Hombre\",\"Hombre\",\"Hombre\",\"Mujer\",\"Hombre\",\"Hombre\",\"Mujer\",\"Hombre\",\"Mujer\",\"Mujer\",\"Mujer\",\"Hombre\",\"Mujer\",\"Mujer\"],\"talla\":{\"__ndarray__\":\"AAAAAAAASUAAAAAAAABJQAAAAAAAAElAAAAAAAAA+H8AAAAAAAD4fwAAAAAAgEhAAAAAAAAAQ0AAAAAAAAD4fwAAAAAAAEhAAAAAAAAA+H8AAAAAAAD4fwAAAAAAgEZAAAAAAACASUAAAAAAAIBIQAAAAAAAAElAAAAAAAAASUAAAAAAAIBIQAAAAAAAgEhAAAAAAAAA+H8AAAAAAAD4fw==\",\"dtype\":\"float64\",\"shape\":[20]},\"tip_insc\":[\"Inscripci\\ufffdn Normal\",\"Inscripci\\ufffdn Tard\\ufffda\",\"Inscripci\\ufffdn Normal\",\"Inscripci\\ufffdn Tard\\ufffda\",\"Inscripci\\ufffdn Tard\\ufffda\",\"Inscripci\\ufffdn Normal\",\"Inscripci\\ufffdn Tard\\ufffda\",\"Inscripci\\ufffdn Tard\\ufffda\",\"Inscripci\\ufffdn Normal\",\"Inscripci\\ufffdn Tard\\ufffda\",\"Inscripci\\ufffdn Tard\\ufffda\",\"Inscripci\\ufffdn Tard\\ufffda\",\"Inscripci\\ufffdn Normal\",\"Inscripci\\ufffdn Normal\",\"Inscripci\\ufffdn Normal\",\"Inscripci\\ufffdn Normal\",\"Inscripci\\ufffdn Tard\\ufffda\",\"Inscripci\\ufffdn Normal\",\"Inscripci\\ufffdn Tard\\ufffda\",\"Inscripci\\ufffdn Tard\\ufffda\"],\"tipo_part\":[\"Normal\",\"Ces\\ufffdrea\",\"Normal\",\"NaN\",\"NaN\",\"Normal\",\"Ignorado\",\"NaN\",\"Normal\",\"NaN\",\"NaN\",\"Ces\\ufffdrea\",\"Normal\",\"Ces\\ufffdrea\",\"Normal\",\"Ces\\ufffdrea\",\"Normal\",\"Ces\\ufffdrea\",\"NaN\",\"NaN\"]},\"selected\":{\"id\":\"1053\",\"type\":\"Selection\"},\"selection_policy\":{\"id\":\"1052\",\"type\":\"UnionRenderers\"}},\"id\":\"1003\",\"type\":\"ColumnDataSource\"},{\"attributes\":{},\"id\":\"1021\",\"type\":\"BasicTicker\"},{\"attributes\":{\"callback\":null},\"id\":\"1007\",\"type\":\"DataRange1d\"},{\"attributes\":{\"plot\":null,\"text\":\"hola\"},\"id\":\"1004\",\"type\":\"Title\"},{\"attributes\":{},\"id\":\"1011\",\"type\":\"LinearScale\"},{\"attributes\":{\"callback\":null},\"id\":\"1009\",\"type\":\"DataRange1d\"},{\"attributes\":{\"fill_color\":{\"value\":\"olive\"},\"line_color\":{\"value\":\"olive\"},\"x\":{\"field\":\"talla\"},\"y\":{\"field\":\"peso\"}},\"id\":\"1041\",\"type\":\"Square\"}],\"root_ids\":[\"1005\"]},\"title\":\"Bokeh Application\",\"version\":\"1.0.2\"}};\n",
       "  var render_items = [{\"docid\":\"db2311e5-9d01-4e04-a3b5-0b64a9ed96cd\",\"roots\":{\"1005\":\"1e562a35-203a-44cb-916c-f23cda423400\"}}];\n",
       "  root.Bokeh.embed.embed_items_notebook(docs_json, render_items);\n",
       "\n",
       "  }\n",
       "  if (root.Bokeh !== undefined) {\n",
       "    embed_document(root);\n",
       "  } else {\n",
       "    var attempts = 0;\n",
       "    var timer = setInterval(function(root) {\n",
       "      if (root.Bokeh !== undefined) {\n",
       "        embed_document(root);\n",
       "        clearInterval(timer);\n",
       "      }\n",
       "      attempts++;\n",
       "      if (attempts > 100) {\n",
       "        console.log(\"Bokeh: ERROR: Unable to run BokehJS code because BokehJS library is missing\");\n",
       "        clearInterval(timer);\n",
       "      }\n",
       "    }, 10, root)\n",
       "  }\n",
       "})(window);"
      ],
      "application/vnd.bokehjs_exec.v0+json": ""
     },
     "metadata": {
      "application/vnd.bokehjs_exec.v0+json": {
       "id": "1005"
      }
     },
     "output_type": "display_data"
    }
   ],
   "source": [
    "show(grafico)"
   ]
  },
  {
   "cell_type": "code",
   "execution_count": 10,
   "metadata": {},
   "outputs": [
    {
     "data": {
      "text/html": [
       "\n",
       "\n",
       "\n",
       "\n",
       "\n",
       "\n",
       "  <div class=\"bk-root\" id=\"6ad2e15e-be6b-4668-8f56-a948169cae25\"></div>\n"
      ]
     },
     "metadata": {},
     "output_type": "display_data"
    },
    {
     "data": {
      "application/javascript": [
       "(function(root) {\n",
       "  function embed_document(root) {\n",
       "    \n",
       "  var docs_json = {\"927b17a6-d96d-4937-a267-a82b25bb1a10\":{\"roots\":{\"references\":[{\"attributes\":{\"below\":[{\"id\":\"1114\",\"type\":\"LinearAxis\"}],\"left\":[{\"id\":\"1119\",\"type\":\"LinearAxis\"}],\"renderers\":[{\"id\":\"1114\",\"type\":\"LinearAxis\"},{\"id\":\"1118\",\"type\":\"Grid\"},{\"id\":\"1119\",\"type\":\"LinearAxis\"},{\"id\":\"1123\",\"type\":\"Grid\"},{\"id\":\"1132\",\"type\":\"BoxAnnotation\"},{\"id\":\"1142\",\"type\":\"GlyphRenderer\"}],\"title\":{\"id\":\"1103\",\"type\":\"Title\"},\"toolbar\":{\"id\":\"1130\",\"type\":\"Toolbar\"},\"x_range\":{\"id\":\"1106\",\"type\":\"DataRange1d\"},\"x_scale\":{\"id\":\"1110\",\"type\":\"LinearScale\"},\"y_range\":{\"id\":\"1108\",\"type\":\"DataRange1d\"},\"y_scale\":{\"id\":\"1112\",\"type\":\"LinearScale\"}},\"id\":\"1104\",\"subtype\":\"Figure\",\"type\":\"Plot\"},{\"attributes\":{},\"id\":\"1156\",\"type\":\"BasicTickFormatter\"},{\"attributes\":{\"formatter\":{\"id\":\"1154\",\"type\":\"BasicTickFormatter\"},\"plot\":{\"id\":\"1104\",\"subtype\":\"Figure\",\"type\":\"Plot\"},\"ticker\":{\"id\":\"1115\",\"type\":\"BasicTicker\"}},\"id\":\"1114\",\"type\":\"LinearAxis\"},{\"attributes\":{\"plot\":null,\"text\":\"linea\"},\"id\":\"1103\",\"type\":\"Title\"},{\"attributes\":{},\"id\":\"1154\",\"type\":\"BasicTickFormatter\"},{\"attributes\":{\"dimension\":1,\"plot\":{\"id\":\"1104\",\"subtype\":\"Figure\",\"type\":\"Plot\"},\"ticker\":{\"id\":\"1120\",\"type\":\"BasicTicker\"}},\"id\":\"1123\",\"type\":\"Grid\"},{\"attributes\":{\"line_color\":{\"value\":\"olive\"},\"line_width\":{\"value\":2},\"x\":{\"field\":\"ofi_insc\"},\"y\":{\"field\":\"anio_insc\"}},\"id\":\"1140\",\"type\":\"Step\"},{\"attributes\":{},\"id\":\"1052\",\"type\":\"UnionRenderers\"},{\"attributes\":{},\"id\":\"1110\",\"type\":\"LinearScale\"},{\"attributes\":{},\"id\":\"1053\",\"type\":\"Selection\"},{\"attributes\":{\"callback\":null},\"id\":\"1108\",\"type\":\"DataRange1d\"},{\"attributes\":{\"callback\":null,\"data\":{\"Unnamed: 0\":[2276,2212,74,1188,264,2424,551,2389,1731,1108,2354,1325,1711,2142,475,1389,2158,1414,2281,1158],\"anio_insc\":[2014,2014,2014,2014,2014,2014,2014,2014,2014,2014,2014,2014,2014,2014,2014,2014,2014,2014,2014,2014],\"anio_mad\":{\"__ndarray__\":\"AAAAAAAgn0AAAAAAAPyeQAAAAAAALJ9AAAAAAAAA+H8AAAAAAAD4fwAAAAAAJJ9AAAAAAAAEn0AAAAAAAAD4fwAAAAAADJ9AAAAAAAAA+H8AAAAAAAD4fwAAAAAA5J5AAAAAAAAgn0AAAAAAAAifQAAAAAAAMJ9AAAAAAADsnkAAAAAAACifQAAAAAAABJ9AAAAAAAAA+H8AAAAAAAD4fw==\",\"dtype\":\"float64\",\"shape\":[20]},\"anio_nac\":[2014,2013,2014,2012,2012,2014,2013,2009,2014,2012,2009,2013,2014,2014,2014,2014,2013,2014,2011,2010],\"area_nac\":[\"Urbana\",\"Urbana\",\"Urbana\",\"NaN\",\"NaN\",\"Urbana\",\"Urbana\",\"NaN\",\"Urbana\",\"NaN\",\"NaN\",\"Urbana\",\"Urbana\",\"Urbana\",\"Urbana\",\"Urbana\",\"Urbana\",\"Urbana\",\"NaN\",\"NaN\"],\"area_res\":[\"Urbana\",\"Urbana\",\"Urbana\",\"Urbana\",\"Urbana\",\"Urbana\",\"Urbana\",\"Urbana\",\"Urbana\",\"Urbana\",\"Urbana\",\"Urbana\",\"Urbana\",\"Urbana\",\"Urbana\",\"Urbana\",\"Urbana\",\"Urbana\",\"Urbana\",\"Urbana\"],\"asis_por\":[\"M\\ufffddico/a\",\"M\\ufffddico/a\",\"M\\ufffddico/a\",\"NaN\",\"NaN\",\"M\\ufffddico/a\",\"Obstetriz/Obstetra\",\"NaN\",\"M\\ufffddico/a\",\"NaN\",\"NaN\",\"M\\ufffddico/a\",\"M\\ufffddico/a\",\"M\\ufffddico/a\",\"M\\ufffddico/a\",\"M\\ufffddico/a\",\"M\\ufffddico/a\",\"M\\ufffddico/a\",\"NaN\",\"NaN\"],\"cant_insc\":[\"Guayaquil\",\"Guayaquil\",\"Riobamba\",\"Guayaquil\",\"Guayaquil\",\"Santo Domingo\",\"Babahoyo\",\"Quito\",\"Ibarra\",\"Pedernales\",\"Guayaquil\",\"Guayaquil\",\"Daule\",\"Guayaquil\",\"Quito\",\"Guayaquil\",\"Guayaquil\",\"Guayaquil\",\"Guayaquil\",\"Guayaquil\"],\"cant_nac\":[\"Guayaquil\",\"Guayaquil\",\"Riobamba\",\"NaN\",\"NaN\",\"Santo Domingo\",\"Babahoyo\",\"NaN\",\"Ibarra\",\"NaN\",\"NaN\",\"Guayaquil\",\"Guayaquil\",\"Santo Domingo\",\"Quito\",\"Guayaquil\",\"Guayaquil\",\"Guayaquil\",\"NaN\",\"NaN\"],\"cant_res\":[\"Guayaquil\",\"Guayaquil\",\"Riobamba\",\"Guayaquil\",\"Guayaquil\",\"Santo Domingo\",\"Babahoyo\",\"Quito\",\"Ibarra\",\"Pedernales\",\"Guayaquil\",\"Guayaquil\",\"Lomas de Sargentillo\",\"Guayaquil\",\"Quito\",\"Guayaquil\",\"Guayaquil\",\"Dur\\ufffdn\",\"Guayaquil\",\"Guayaquil\"],\"cod_pais\":[\"Ecuador \",\"Ecuador \",\"Ecuador \",\"NaN\",\"NaN\",\"Ecuador \",\"Ecuador \",\"NaN\",\"Ecuador \",\"NaN\",\"NaN\",\"Ecuador \",\"Ecuador \",\"Ecuador \",\"Ecuador \",\"Ecuador \",\"Ecuador \",\"Ecuador \",\"NaN\",\"NaN\"],\"con_pren\":{\"__ndarray__\":\"AAAAAAAAHEAAAAAAAAAuQAAAAAAAABhAAAAAAAAA+H8AAAAAAAD4fwAAAAAAABRAAAAAAADAWEAAAAAAAAD4fwAAAAAAACJAAAAAAAAA+H8AAAAAAAD4fwAAAAAAABxAAAAAAAAAHEAAAAAAAAAgQAAAAAAAACJAAAAAAAAAIEAAAAAAAAAgQAAAAAAAACBAAAAAAAAA+H8AAAAAAAD4fw==\",\"dtype\":\"float64\",\"shape\":[20]},\"dia_insc\":[30,21,11,5,10,14,13,1,12,13,29,20,27,28,24,24,20,24,23,5],\"dia_mad\":{\"__ndarray__\":\"AAAAAAAACEAAAAAAAAAoQAAAAAAAADBAAAAAAAAA+H8AAAAAAAD4fwAAAAAAACJAAAAAAAAACEAAAAAAAAD4fwAAAAAAAABAAAAAAAAA+H8AAAAAAAD4fwAAAAAAAD1AAAAAAAAAMUAAAAAAAAAxQAAAAAAAAD9AAAAAAAAAOEAAAAAAAAA4QAAAAAAAABxAAAAAAAAA+H8AAAAAAAD4fw==\",\"dtype\":\"float64\",\"shape\":[20]},\"dia_nac\":[3,9,22,14,25,30,15,6,14,6,18,19,10,18,25,17,11,16,13,3],\"edad_mad\":{\"__ndarray__\":\"AAAAAAAANkAAAAAAAAA/QAAAAAAAADNAAAAAAAAA+H8AAAAAAAD4fwAAAAAAADVAAAAAAAAAPUAAAAAAAAD4fwAAAAAAADtAAAAAAAAA+H8AAAAAAAD4fwAAAAAAgEJAAAAAAAAANkAAAAAAAAA8QAAAAAAAADJAAAAAAACAQUAAAAAAAAA0QAAAAAAAAD1AAAAAAAAA+H8AAAAAAAD4fw==\",\"dtype\":\"float64\",\"shape\":[20]},\"est_civil\":[\"Unida\",\"Soltera\",\"Soltera\",\"NaN\",\"NaN\",\"Soltera\",\"Unida\",\"NaN\",\"Soltera\",\"NaN\",\"NaN\",\"Soltera\",\"Unida\",\"Unida\",\"Soltera\",\"Casada\",\"Unida\",\"Casada\",\"NaN\",\"NaN\"],\"etnia\":[\"Mestiza\",\"Mestiza\",\"Mestiza\",\"NaN\",\"NaN\",\"Mestiza\",\"Mestiza\",\"NaN\",\"Mestiza\",\"NaN\",\"NaN\",\"Mestiza\",\"Mestiza\",\"Mestiza\",\"Mestiza\",\"Mestiza\",\"Mestiza\",\"Mestiza\",\"NaN\",\"NaN\"],\"fecha_insc\":[13610419200,13609641600,13629772800,13618627200,13624329600,13624675200,13611628800,13626230400,13629859200,13608950400,13610332800,13622601600,13623206400,13610246400,13630896000,13622947200,13609555200,13622947200,13609814400,13618627200],\"fecha_mad\":[\"1992/12/03\",\"1983/11/12\",\"1995/08/16\",\"          \",\"          \",\"1993/05/09\",\"1985/11/03\",\"          \",\"1987/08/02\",\"          \",\"          \",\"1977/05/29\",\"1992/06/17\",\"1986/11/17\",\"1996/10/31\",\"1979/10/24\",\"1994/12/24\",\"1985/07/07\",\"          \",\"          \"],\"fecha_nac\":[13608086400,13598064000,13622774400,13569552000,13567910400,13618195200,13590633600,13476844800,13622083200,13563590400,13472611200,13593571200,13619059200,13609382400,13628304000,13622342400,13587609600,13622256000,13527302400,13486953600],\"hij_nacm\":{\"__ndarray__\":\"AAAAAAAAAAAAAAAAAAAAAAAAAAAAAAAAAAAAAAAA+H8AAAAAAAD4fwAAAAAAAAAAAAAAAAAAAAAAAAAAAAD4fwAAAAAAAAAAAAAAAAAA+H8AAAAAAAD4fwAAAAAAAAAAAAAAAAAAAAAAAAAAAAAAAAAAAAAAAAAAAAAAAAAAAAAAAAAAAAAAAAAAAAAAAAAAAAAAAAAA+H8AAAAAAAD4fw==\",\"dtype\":\"float64\",\"shape\":[20]},\"hij_viv\":{\"__ndarray__\":\"AAAAAAAA8D8AAAAAAADwPwAAAAAAAPA/AAAAAAAA+H8AAAAAAAD4fwAAAAAAAABAAAAAAAAAAEAAAAAAAAD4fwAAAAAAAPA/AAAAAAAA+H8AAAAAAAD4fwAAAAAAABBAAAAAAAAAAEAAAAAAAAAAQAAAAAAAAPA/AAAAAAAAAEAAAAAAAADwPwAAAAAAAPA/AAAAAAAA+H8AAAAAAAD4fw==\",\"dtype\":\"float64\",\"shape\":[20]},\"hij_vivm\":{\"__ndarray__\":\"AAAAAAAAAAAAAAAAAAAAAAAAAAAAAAAAAAAAAAAA+H8AAAAAAAD4fwAAAAAAAAAAAAAAAAAAAAAAAAAAAAD4fwAAAAAAAPA/AAAAAAAA+H8AAAAAAAD4fwAAAAAAAAAAAAAAAAAAAAAAAAAAAAAAAAAAAAAAAAAAAAAAAAAAAAAAAAAAAAAAAAAAAAAAAAAAAAAAAAAA+H8AAAAAAAD4fw==\",\"dtype\":\"float64\",\"shape\":[20]},\"index\":[2275,2211,73,1187,263,2423,550,2388,1730,1107,2353,1324,1710,2141,474,1388,2157,1413,2280,1157],\"lugar_ocur\":[\"Establecimiento del Ministerio de Salud\",\"Hospital, Cl\\ufffdnica o Consultorio Privado\",\"Establecimiento del Ministerio de Salud\",\"NaN\",\"NaN\",\"Establecimiento del Ministerio de Salud\",\"Establecimiento del Ministerio de Salud\",\"NaN\",\"Establecimiento del Ministerio de Salud\",\"NaN\",\"NaN\",\"Establecimiento del Ministerio de Salud\",\"Establecimiento de la Junta de Beneficencia\",\"Hospital, Cl\\ufffdnica o Consultorio Privado\",\"Establecimiento del IESS\",\"Establecimiento del IESS\",\"Hospital, Cl\\ufffdnica o Consultorio Privado\",\"Hospital, Cl\\ufffdnica o Consultorio Privado\",\"NaN\",\"NaN\"],\"mes_insc\":[\"Enero\",\"Enero\",\"Septiembre\",\"Mayo\",\"Julio\",\"Julio\",\"Febrero\",\"Agosto\",\"Septiembre\",\"Enero\",\"Enero\",\"Junio\",\"Junio\",\"Enero\",\"Septiembre\",\"Junio\",\"Enero\",\"Junio\",\"Enero\",\"Mayo\"],\"mes_mad\":{\"__ndarray__\":\"AAAAAAAAKEAAAAAAAAAmQAAAAAAAACBAAAAAAAAA+H8AAAAAAAD4fwAAAAAAABRAAAAAAAAAJkAAAAAAAAD4fwAAAAAAACBAAAAAAAAA+H8AAAAAAAD4fwAAAAAAABRAAAAAAAAAGEAAAAAAAAAmQAAAAAAAACRAAAAAAAAAJEAAAAAAAAAoQAAAAAAAABxAAAAAAAAA+H8AAAAAAAD4fw==\",\"dtype\":\"float64\",\"shape\":[20]},\"mes_nac\":[\"Enero\",\"Septiembre\",\"Junio\",\"Octubre\",\"Septiembre\",\"Abril\",\"Junio\",\"Noviembre\",\"Junio\",\"Agosto\",\"Septiembre\",\"Julio\",\"Mayo\",\"Enero\",\"Agosto\",\"Junio\",\"Mayo\",\"Junio\",\"Junio\",\"Marzo\"],\"nac_mad\":[\"Ecuatoriana\",\"Ecuatoriana\",\"Ecuatoriana\",\"NaN\",\"NaN\",\"Ecuatoriana\",\"Ecuatoriana\",\"NaN\",\"Ecuatoriana\",\"NaN\",\"NaN\",\"Ecuatoriana\",\"Ecuatoriana\",\"Ecuatoriana\",\"Ecuatoriana\",\"Ecuatoriana\",\"Ecuatoriana\",\"Ecuatoriana\",\"NaN\",\"NaN\"],\"niv_inst\":[\"Primaria\",\"Superior\",\"Educaci\\ufffdn Media / Bachillerato\",\"NaN\",\"NaN\",\"Educaci\\ufffdn B\\ufffdsica\",\"Secundaria\",\"NaN\",\"Secundaria\",\"NaN\",\"NaN\",\"Primaria\",\"Primaria\",\"Secundaria\",\"Secundaria\",\"Superior\",\"Primaria\",\"Superior\",\"NaN\",\"NaN\"],\"num_par\":{\"__ndarray__\":\"AAAAAAAA8D8AAAAAAADwPwAAAAAAAPA/AAAAAAAA+H8AAAAAAAD4fwAAAAAAAABAAAAAAAAAAEAAAAAAAAD4fwAAAAAAAABAAAAAAAAA+H8AAAAAAAD4fwAAAAAAABBAAAAAAAAAAEAAAAAAAAAAQAAAAAAAAPA/AAAAAAAAAEAAAAAAAADwPwAAAAAAAPA/AAAAAAAA+H8AAAAAAAD4fw==\",\"dtype\":\"float64\",\"shape\":[20]},\"ofi_insc\":[1,1,1,1,1,1,1,1,2,1,1,1,1,1,1,1,1,1,1,1],\"p_emb\":[\"Simple\",\"Simple\",\"Simple\",\"NaN\",\"NaN\",\"Simple\",\"Simple\",\"NaN\",\"Simple\",\"NaN\",\"NaN\",\"Simple\",\"Simple\",\"Simple\",\"Simple\",\"Simple\",\"Simple\",\"Simple\",\"NaN\",\"NaN\"],\"parr_insc\":[\"Rocafuerte\",\"Rocafuerte\",\"Lizarzaburu\",\"Rocafuerte\",\"Tarqui\",\"Santo Domingo de los Colorados, Cabecera Cantonal y Capital Provincial\",\"Babahoyo, Cabecera Cantonal y Capital Provincial\",\"Centro Hist\\ufffdrico\",\"San Miguel de Ibarra, Cabecera Cantonal y Capital Provincial\",\"Pedernales, Cabecera Cantonal\",\"Rocafuerte\",\"Rocafuerte\",\"Daule, Cabecera Cantonal\",\"Rocafuerte\",\"I\\ufffdaquito\",\"Rocafuerte\",\"Rocafuerte\",\"Rocafuerte\",\"Rocafuerte\",\"Rocafuerte\"],\"parr_nac\":[\"Guayaquil, Cabecera Cantonal y Capital Provincial\",\"Guayaquil, Cabecera Cantonal y Capital Provincial\",\"Veloz\",\"NaN\",\"NaN\",\"Santo Domingo de los Colorados, Cabecera Cantonal y Capital Provincial\",\"Babahoyo, Cabecera Cantonal y Capital Provincial\",\"NaN\",\"San Miguel de Ibarra, Cabecera Cantonal y Capital Provincial\",\"NaN\",\"NaN\",\"Guayaquil, Cabecera Cantonal y Capital Provincial\",\"Guayaquil, Cabecera Cantonal y Capital Provincial\",\"Santo Domingo de los Colorados, Cabecera Cantonal y Capital Provincial\",\"Quito Distrito Metropolitano, Cabecera Cantonal, Capital Provincial\",\"Guayaquil, Cabecera Cantonal y Capital Provincial\",\"Tarqui\",\"Guayaquil, Cabecera Cantonal y Capital Provincial\",\"NaN\",\"NaN\"],\"parr_res\":[\"Guayaquil, Cabecera Cantonal y Capital Provincial\",\"Tarqui\",\"Veloz\",\"Guayaquil, Cabecera Cantonal y Capital Provincial\",\"Bol\\ufffdvar (Sagrario)\",\"Santo Domingo de los Colorados, Cabecera Cantonal y Capital Provincial\",\"Barreiro\",\"Centro Hist\\ufffdrico\",\"Sagrario\",\"Pedernales, Cabecera Cantonal\",\"Ximena\",\"Tarqui\",\"Lomas de Sargentillo, Cabecera Cantonal\",\"Ximena\",\"I\\ufffdaquito\",\"Tarqui\",\"Tarqui\",\"Eloy Alfaro (Dur\\ufffdn)\",\"Ximena\",\"Ximena\"],\"peso\":{\"__ndarray__\":\"AAAAAAA4qEAAAAAAACCsQAAAAAAASKxAAAAAAAAA+H8AAAAAAAD4fwAAAAAA9KpAAAAAAAAAqUAAAAAAAAD4fwAAAAAAsKhAAAAAAAAA+H8AAAAAAAD4fwAAAAAAGKVAAAAAAADorEAAAAAAAHCnQAAAAAAAAKlAAAAAAAAAqUAAAAAAAHiuQAAAAAAAqKZAAAAAAAAA+H8AAAAAAAD4fw==\",\"dtype\":\"float64\",\"shape\":[20]},\"prov_insc\":[\"Guayas\",\"Guayas\",\"Chimborazo\",\"Guayas\",\"Guayas\",\"Santo Domingo de los Ts\\ufffdchilas\",\"Los R\\ufffdos\",\"Pichincha\",\"Imbabura\",\"Manab\\ufffd\",\"Guayas\",\"Guayas\",\"Guayas\",\"Guayas\",\"Pichincha\",\"Guayas\",\"Guayas\",\"Guayas\",\"Guayas\",\"Guayas\"],\"prov_nac\":[\"Guayas\",\"Guayas\",\"Chimborazo\",\"NaN\",\"NaN\",\"Santo Domingo de los Ts\\ufffdchilas\",\"Los R\\ufffdos\",\"NaN\",\"Imbabura\",\"NaN\",\"NaN\",\"Guayas\",\"Guayas\",\"Santo Domingo de los Ts\\ufffdchilas\",\"Pichincha\",\"Guayas\",\"Guayas\",\"Guayas\",\"NaN\",\"NaN\"],\"prov_res\":[\"Guayas\",\"Guayas\",\"Chimborazo\",\"Guayas\",\"Guayas\",\"Santo Domingo de los Ts\\ufffdchilas\",\"Los R\\ufffdos\",\"Pichincha\",\"Imbabura\",\"Manab\\ufffd\",\"Guayas\",\"Guayas\",\"Guayas\",\"Guayas\",\"Pichincha\",\"Guayas\",\"Guayas\",\"Guayas\",\"Guayas\",\"Guayas\"],\"sabe_leer\":[\"Si\",\"Si\",\"Si\",\"NaN\",\"NaN\",\"Si\",\"Si\",\"NaN\",\"Si\",\"NaN\",\"NaN\",\"Si\",\"Si\",\"Si\",\"Si\",\"Si\",\"Si\",\"Si\",\"NaN\",\"NaN\"],\"sem_gest\":{\"__ndarray__\":\"AAAAAAAAQ0AAAAAAAABDQAAAAAAAgENAAAAAAAAA+H8AAAAAAAD4fwAAAAAAwFhAAAAAAAAAQ0AAAAAAAAD4fwAAAAAAwFhAAAAAAAAA+H8AAAAAAAD4fwAAAAAAAEJAAAAAAAAAQ0AAAAAAAMBYQAAAAAAAAERAAAAAAACAQkAAAAAAAABEQAAAAAAAAENAAAAAAAAA+H8AAAAAAAD4fw==\",\"dtype\":\"float64\",\"shape\":[20]},\"sexo\":[\"Mujer\",\"Mujer\",\"Mujer\",\"Mujer\",\"Hombre\",\"Mujer\",\"Hombre\",\"Hombre\",\"Hombre\",\"Mujer\",\"Hombre\",\"Hombre\",\"Mujer\",\"Hombre\",\"Mujer\",\"Mujer\",\"Mujer\",\"Hombre\",\"Mujer\",\"Mujer\"],\"talla\":{\"__ndarray__\":\"AAAAAAAASUAAAAAAAABJQAAAAAAAAElAAAAAAAAA+H8AAAAAAAD4fwAAAAAAgEhAAAAAAAAAQ0AAAAAAAAD4fwAAAAAAAEhAAAAAAAAA+H8AAAAAAAD4fwAAAAAAgEZAAAAAAACASUAAAAAAAIBIQAAAAAAAAElAAAAAAAAASUAAAAAAAIBIQAAAAAAAgEhAAAAAAAAA+H8AAAAAAAD4fw==\",\"dtype\":\"float64\",\"shape\":[20]},\"tip_insc\":[\"Inscripci\\ufffdn Normal\",\"Inscripci\\ufffdn Tard\\ufffda\",\"Inscripci\\ufffdn Normal\",\"Inscripci\\ufffdn Tard\\ufffda\",\"Inscripci\\ufffdn Tard\\ufffda\",\"Inscripci\\ufffdn Normal\",\"Inscripci\\ufffdn Tard\\ufffda\",\"Inscripci\\ufffdn Tard\\ufffda\",\"Inscripci\\ufffdn Normal\",\"Inscripci\\ufffdn Tard\\ufffda\",\"Inscripci\\ufffdn Tard\\ufffda\",\"Inscripci\\ufffdn Tard\\ufffda\",\"Inscripci\\ufffdn Normal\",\"Inscripci\\ufffdn Normal\",\"Inscripci\\ufffdn Normal\",\"Inscripci\\ufffdn Normal\",\"Inscripci\\ufffdn Tard\\ufffda\",\"Inscripci\\ufffdn Normal\",\"Inscripci\\ufffdn Tard\\ufffda\",\"Inscripci\\ufffdn Tard\\ufffda\"],\"tipo_part\":[\"Normal\",\"Ces\\ufffdrea\",\"Normal\",\"NaN\",\"NaN\",\"Normal\",\"Ignorado\",\"NaN\",\"Normal\",\"NaN\",\"NaN\",\"Ces\\ufffdrea\",\"Normal\",\"Ces\\ufffdrea\",\"Normal\",\"Ces\\ufffdrea\",\"Normal\",\"Ces\\ufffdrea\",\"NaN\",\"NaN\"]},\"selected\":{\"id\":\"1053\",\"type\":\"Selection\"},\"selection_policy\":{\"id\":\"1052\",\"type\":\"UnionRenderers\"}},\"id\":\"1003\",\"type\":\"ColumnDataSource\"},{\"attributes\":{\"callback\":null},\"id\":\"1106\",\"type\":\"DataRange1d\"},{\"attributes\":{},\"id\":\"1125\",\"type\":\"WheelZoomTool\"},{\"attributes\":{},\"id\":\"1128\",\"type\":\"ResetTool\"},{\"attributes\":{},\"id\":\"1124\",\"type\":\"PanTool\"},{\"attributes\":{},\"id\":\"1129\",\"type\":\"HelpTool\"},{\"attributes\":{\"data_source\":{\"id\":\"1003\",\"type\":\"ColumnDataSource\"},\"glyph\":{\"id\":\"1140\",\"type\":\"Step\"},\"hover_glyph\":null,\"muted_glyph\":null,\"nonselection_glyph\":{\"id\":\"1141\",\"type\":\"Step\"},\"selection_glyph\":null,\"view\":{\"id\":\"1143\",\"type\":\"CDSView\"}},\"id\":\"1142\",\"type\":\"GlyphRenderer\"},{\"attributes\":{},\"id\":\"1112\",\"type\":\"LinearScale\"},{\"attributes\":{\"active_drag\":\"auto\",\"active_inspect\":\"auto\",\"active_multi\":null,\"active_scroll\":\"auto\",\"active_tap\":\"auto\",\"tools\":[{\"id\":\"1124\",\"type\":\"PanTool\"},{\"id\":\"1125\",\"type\":\"WheelZoomTool\"},{\"id\":\"1126\",\"type\":\"BoxZoomTool\"},{\"id\":\"1127\",\"type\":\"SaveTool\"},{\"id\":\"1128\",\"type\":\"ResetTool\"},{\"id\":\"1129\",\"type\":\"HelpTool\"}]},\"id\":\"1130\",\"type\":\"Toolbar\"},{\"attributes\":{\"line_alpha\":{\"value\":0.1},\"line_color\":{\"value\":\"#1f77b4\"},\"line_width\":{\"value\":2},\"x\":{\"field\":\"ofi_insc\"},\"y\":{\"field\":\"anio_insc\"}},\"id\":\"1141\",\"type\":\"Step\"},{\"attributes\":{},\"id\":\"1127\",\"type\":\"SaveTool\"},{\"attributes\":{\"formatter\":{\"id\":\"1156\",\"type\":\"BasicTickFormatter\"},\"plot\":{\"id\":\"1104\",\"subtype\":\"Figure\",\"type\":\"Plot\"},\"ticker\":{\"id\":\"1120\",\"type\":\"BasicTicker\"}},\"id\":\"1119\",\"type\":\"LinearAxis\"},{\"attributes\":{\"overlay\":{\"id\":\"1132\",\"type\":\"BoxAnnotation\"}},\"id\":\"1126\",\"type\":\"BoxZoomTool\"},{\"attributes\":{\"plot\":{\"id\":\"1104\",\"subtype\":\"Figure\",\"type\":\"Plot\"},\"ticker\":{\"id\":\"1115\",\"type\":\"BasicTicker\"}},\"id\":\"1118\",\"type\":\"Grid\"},{\"attributes\":{\"bottom_units\":\"screen\",\"fill_alpha\":{\"value\":0.5},\"fill_color\":{\"value\":\"lightgrey\"},\"left_units\":\"screen\",\"level\":\"overlay\",\"line_alpha\":{\"value\":1.0},\"line_color\":{\"value\":\"black\"},\"line_dash\":[4,4],\"line_width\":{\"value\":2},\"plot\":null,\"render_mode\":\"css\",\"right_units\":\"screen\",\"top_units\":\"screen\"},\"id\":\"1132\",\"type\":\"BoxAnnotation\"},{\"attributes\":{},\"id\":\"1115\",\"type\":\"BasicTicker\"},{\"attributes\":{\"source\":{\"id\":\"1003\",\"type\":\"ColumnDataSource\"}},\"id\":\"1143\",\"type\":\"CDSView\"},{\"attributes\":{},\"id\":\"1120\",\"type\":\"BasicTicker\"}],\"root_ids\":[\"1104\"]},\"title\":\"Bokeh Application\",\"version\":\"1.0.2\"}};\n",
       "  var render_items = [{\"docid\":\"927b17a6-d96d-4937-a267-a82b25bb1a10\",\"roots\":{\"1104\":\"6ad2e15e-be6b-4668-8f56-a948169cae25\"}}];\n",
       "  root.Bokeh.embed.embed_items_notebook(docs_json, render_items);\n",
       "\n",
       "  }\n",
       "  if (root.Bokeh !== undefined) {\n",
       "    embed_document(root);\n",
       "  } else {\n",
       "    var attempts = 0;\n",
       "    var timer = setInterval(function(root) {\n",
       "      if (root.Bokeh !== undefined) {\n",
       "        embed_document(root);\n",
       "        clearInterval(timer);\n",
       "      }\n",
       "      attempts++;\n",
       "      if (attempts > 100) {\n",
       "        console.log(\"Bokeh: ERROR: Unable to run BokehJS code because BokehJS library is missing\");\n",
       "        clearInterval(timer);\n",
       "      }\n",
       "    }, 10, root)\n",
       "  }\n",
       "})(window);"
      ],
      "application/vnd.bokehjs_exec.v0+json": ""
     },
     "metadata": {
      "application/vnd.bokehjs_exec.v0+json": {
       "id": "1104"
      }
     },
     "output_type": "display_data"
    }
   ],
   "source": [
    "grafico = figure(title=\"linea\")\n",
    "\n",
    "grafico.step(x='ofi_insc', y='anio_insc', line_width=2, source=d1 , color=\"olive\")\n",
    "\n",
    "show(grafico)"
   ]
  },
  {
   "cell_type": "code",
   "execution_count": 11,
   "metadata": {},
   "outputs": [
    {
     "data": {
      "text/html": [
       "\n",
       "\n",
       "\n",
       "\n",
       "\n",
       "\n",
       "  <div class=\"bk-root\" id=\"64cb72cd-4ae2-4257-8dac-d9d51d284a45\"></div>\n"
      ]
     },
     "metadata": {},
     "output_type": "display_data"
    },
    {
     "data": {
      "application/javascript": [
       "(function(root) {\n",
       "  function embed_document(root) {\n",
       "    \n",
       "  var docs_json = {\"c451eb25-ef1c-4b3a-8f60-0a000c43f3ad\":{\"roots\":{\"references\":[{\"attributes\":{\"below\":[{\"id\":\"1219\",\"type\":\"LinearAxis\"}],\"left\":[{\"id\":\"1224\",\"type\":\"LinearAxis\"}],\"renderers\":[{\"id\":\"1219\",\"type\":\"LinearAxis\"},{\"id\":\"1223\",\"type\":\"Grid\"},{\"id\":\"1224\",\"type\":\"LinearAxis\"},{\"id\":\"1228\",\"type\":\"Grid\"},{\"id\":\"1237\",\"type\":\"BoxAnnotation\"},{\"id\":\"1248\",\"type\":\"GlyphRenderer\"}],\"title\":{\"id\":\"1208\",\"type\":\"Title\"},\"toolbar\":{\"id\":\"1235\",\"type\":\"Toolbar\"},\"x_range\":{\"id\":\"1211\",\"type\":\"DataRange1d\"},\"x_scale\":{\"id\":\"1215\",\"type\":\"LinearScale\"},\"y_range\":{\"id\":\"1213\",\"type\":\"DataRange1d\"},\"y_scale\":{\"id\":\"1217\",\"type\":\"LinearScale\"}},\"id\":\"1209\",\"subtype\":\"Figure\",\"type\":\"Plot\"},{\"attributes\":{},\"id\":\"1234\",\"type\":\"HelpTool\"},{\"attributes\":{},\"id\":\"1225\",\"type\":\"BasicTicker\"},{\"attributes\":{\"active_drag\":\"auto\",\"active_inspect\":\"auto\",\"active_multi\":null,\"active_scroll\":\"auto\",\"active_tap\":\"auto\",\"tools\":[{\"id\":\"1229\",\"type\":\"PanTool\"},{\"id\":\"1230\",\"type\":\"WheelZoomTool\"},{\"id\":\"1231\",\"type\":\"BoxZoomTool\"},{\"id\":\"1232\",\"type\":\"SaveTool\"},{\"id\":\"1233\",\"type\":\"ResetTool\"},{\"id\":\"1234\",\"type\":\"HelpTool\"}]},\"id\":\"1235\",\"type\":\"Toolbar\"},{\"attributes\":{\"fill_alpha\":{\"value\":0.1},\"fill_color\":{\"value\":\"#1f77b4\"},\"line_alpha\":{\"value\":0.1},\"line_color\":{\"value\":\"#1f77b4\"},\"top\":{\"field\":\"anio_nac\"},\"width\":{\"value\":0.05},\"x\":{\"field\":\"edad_mad\"}},\"id\":\"1247\",\"type\":\"VBar\"},{\"attributes\":{},\"id\":\"1233\",\"type\":\"ResetTool\"},{\"attributes\":{\"formatter\":{\"id\":\"1268\",\"type\":\"BasicTickFormatter\"},\"plot\":{\"id\":\"1209\",\"subtype\":\"Figure\",\"type\":\"Plot\"},\"ticker\":{\"id\":\"1220\",\"type\":\"BasicTicker\"}},\"id\":\"1219\",\"type\":\"LinearAxis\"},{\"attributes\":{\"bottom_units\":\"screen\",\"fill_alpha\":{\"value\":0.5},\"fill_color\":{\"value\":\"lightgrey\"},\"left_units\":\"screen\",\"level\":\"overlay\",\"line_alpha\":{\"value\":1.0},\"line_color\":{\"value\":\"black\"},\"line_dash\":[4,4],\"line_width\":{\"value\":2},\"plot\":null,\"render_mode\":\"css\",\"right_units\":\"screen\",\"top_units\":\"screen\"},\"id\":\"1237\",\"type\":\"BoxAnnotation\"},{\"attributes\":{},\"id\":\"1272\",\"type\":\"Selection\"},{\"attributes\":{\"formatter\":{\"id\":\"1270\",\"type\":\"BasicTickFormatter\"},\"plot\":{\"id\":\"1209\",\"subtype\":\"Figure\",\"type\":\"Plot\"},\"ticker\":{\"id\":\"1225\",\"type\":\"BasicTicker\"}},\"id\":\"1224\",\"type\":\"LinearAxis\"},{\"attributes\":{\"plot\":null,\"text\":\"barras\"},\"id\":\"1208\",\"type\":\"Title\"},{\"attributes\":{},\"id\":\"1232\",\"type\":\"SaveTool\"},{\"attributes\":{},\"id\":\"1217\",\"type\":\"LinearScale\"},{\"attributes\":{},\"id\":\"1271\",\"type\":\"UnionRenderers\"},{\"attributes\":{\"overlay\":{\"id\":\"1237\",\"type\":\"BoxAnnotation\"}},\"id\":\"1231\",\"type\":\"BoxZoomTool\"},{\"attributes\":{\"callback\":null},\"id\":\"1213\",\"type\":\"DataRange1d\"},{\"attributes\":{},\"id\":\"1270\",\"type\":\"BasicTickFormatter\"},{\"attributes\":{\"plot\":{\"id\":\"1209\",\"subtype\":\"Figure\",\"type\":\"Plot\"},\"ticker\":{\"id\":\"1220\",\"type\":\"BasicTicker\"}},\"id\":\"1223\",\"type\":\"Grid\"},{\"attributes\":{},\"id\":\"1268\",\"type\":\"BasicTickFormatter\"},{\"attributes\":{},\"id\":\"1229\",\"type\":\"PanTool\"},{\"attributes\":{},\"id\":\"1230\",\"type\":\"WheelZoomTool\"},{\"attributes\":{\"source\":{\"id\":\"1244\",\"type\":\"ColumnDataSource\"}},\"id\":\"1249\",\"type\":\"CDSView\"},{\"attributes\":{\"data_source\":{\"id\":\"1244\",\"type\":\"ColumnDataSource\"},\"glyph\":{\"id\":\"1246\",\"type\":\"VBar\"},\"hover_glyph\":null,\"muted_glyph\":null,\"nonselection_glyph\":{\"id\":\"1247\",\"type\":\"VBar\"},\"selection_glyph\":null,\"view\":{\"id\":\"1249\",\"type\":\"CDSView\"}},\"id\":\"1248\",\"type\":\"GlyphRenderer\"},{\"attributes\":{},\"id\":\"1220\",\"type\":\"BasicTicker\"},{\"attributes\":{\"fill_color\":{\"value\":\"blue\"},\"line_color\":{\"value\":\"blue\"},\"top\":{\"field\":\"anio_nac\"},\"width\":{\"value\":0.05},\"x\":{\"field\":\"edad_mad\"}},\"id\":\"1246\",\"type\":\"VBar\"},{\"attributes\":{\"callback\":null},\"id\":\"1211\",\"type\":\"DataRange1d\"},{\"attributes\":{},\"id\":\"1215\",\"type\":\"LinearScale\"},{\"attributes\":{\"callback\":null,\"data\":{\"Unnamed: 0\":[1146,1319,671,1341,2261,1973,275,2188,2134,88,2086,502,1855,469,2268,635,874,1086,49,3,1746,617,294,524,2192,2154,1457,1666,335,339],\"anio_insc\":[2014,2014,2014,2014,2014,2014,2014,2014,2014,2014,2014,2014,2014,2014,2014,2014,2014,2014,2014,2014,2014,2014,2014,2014,2014,2014,2014,2014,2014,2014],\"anio_mad\":{\"__ndarray__\":\"AAAAAAAA+H8AAAAAAAD4fwAAAAAAAPh/AAAAAAAkn0AAAAAAAAD4fwAAAAAAHJ9AAAAAAAD8nkAAAAAAAAyfQAAAAAAAAPh/AAAAAADsnkAAAAAAAByfQAAAAAAA+J5AAAAAAADUnkAAAAAAAOSeQAAAAAAAMJ9AAAAAAAAA+H8AAAAAANSeQAAAAAAAAPh/AAAAAAAsn0AAAAAAAByfQAAAAAAADJ9AAAAAAAAon0AAAAAAACSfQAAAAAAAFJ9AAAAAAAAAn0AAAAAAAAD4fwAAAAAAKJ9AAAAAAAAYn0AAAAAAAAifQAAAAAAAFJ9A\",\"dtype\":\"float64\",\"shape\":[30]},\"anio_nac\":[2011,2003,2012,2013,2006,2014,2013,2013,2003,2014,2014,2014,2014,2014,2013,2009,2013,2011,2014,2014,2014,2014,2014,2014,2013,2010,2014,2014,2014,2014],\"area_nac\":[\"NaN\",\"NaN\",\"NaN\",\"Urbana\",\"NaN\",\"Urbana\",\"Urbana\",\"Urbana\",\"NaN\",\"Urbana\",\"Urbana\",\"Urbana\",\"Urbana\",\"Urbana\",\"Urbana\",\"NaN\",\"Urbana\",\"NaN\",\"Urbana\",\"Urbana\",\"Urbana\",\"Urbana\",\"Rural\",\"Urbana\",\"Urbana\",\"NaN\",\"Rural\",\"Urbana\",\"Urbana\",\"Urbana\"],\"area_res\":[\"Urbana\",\"Urbana\",\"Urbana\",\"Rural\",\"Urbana\",\"Urbana\",\"Urbana\",\"Urbana\",\"Urbana\",\"Urbana\",\"Urbana\",\"Urbana\",\"Urbana\",\"Urbana\",\"Urbana\",\"Urbana\",\"Urbana\",\"Urbana\",\"Urbana\",\"Urbana\",\"Urbana\",\"Urbana\",\"Urbana\",\"Urbana\",\"Urbana\",\"Urbana\",\"Rural\",\"Urbana\",\"Urbana\",\"Urbana\"],\"asis_por\":[\"NaN\",\"NaN\",\"NaN\",\"M\\ufffddico/a\",\"NaN\",\"M\\ufffddico/a\",\"M\\ufffddico/a\",\"M\\ufffddico/a\",\"NaN\",\"M\\ufffddico/a\",\"M\\ufffddico/a\",\"M\\ufffddico/a\",\"M\\ufffddico/a\",\"M\\ufffddico/a\",\"Obstetriz/Obstetra\",\"NaN\",\"M\\ufffddico/a\",\"NaN\",\"M\\ufffddico/a\",\"M\\ufffddico/a\",\"M\\ufffddico/a\",\"M\\ufffddico/a\",\"M\\ufffddico/a\",\"M\\ufffddico/a\",\"Obstetriz/Obstetra\",\"NaN\",\"Obstetriz/Obstetra\",\"M\\ufffddico/a\",\"M\\ufffddico/a\",\"M\\ufffddico/a\"],\"cant_insc\":[\"Coronel Marcelino Maridue\\ufffda\",\"Guayaquil\",\"Balzar\",\"Cotacachi\",\"Guayaquil\",\"Guayaquil\",\"Guayaquil\",\"Guayaquil\",\"Guayaquil\",\"Cuenca\",\"Santo Domingo\",\"Cuenca\",\"Samborond\\ufffdn\",\"Chone\",\"Guayaquil\",\"Santa Elena\",\"Guayaquil\",\"El Triunfo\",\"Daule\",\"Milagro\",\"Guayaquil\",\"Quito\",\"Quito\",\"Daule\",\"Guayaquil\",\"Guayaquil\",\"Quito\",\"El Carmen\",\"Chone\",\"Cuenca\"],\"cant_nac\":[\"NaN\",\"NaN\",\"NaN\",\"Ibarra\",\"NaN\",\"Guayaquil\",\"Guayaquil\",\"Guayaquil\",\"NaN\",\"Cuenca\",\"Santo Domingo\",\"Cuenca\",\"Guayaquil\",\"Chone\",\"Guayaquil\",\"NaN\",\"Guayaquil\",\"NaN\",\"Daule\",\"Milagro\",\"Guayaquil\",\"Quito\",\"Quito\",\"Guayaquil\",\"Guayaquil\",\"NaN\",\"Quito\",\"Santo Domingo\",\"Chone\",\"Cuenca\"],\"cant_res\":[\"Naranjito\",\"Guayaquil\",\"Balzar\",\"Cotacachi\",\"Guayaquil\",\"Guayaquil\",\"Guayaquil\",\"Guayaquil\",\"Guayaquil\",\"Cuenca\",\"Santo Domingo\",\"Cuenca\",\"Samborond\\ufffdn\",\"Chone\",\"Guayaquil\",\"Santa Elena\",\"Guayaquil\",\"El Triunfo\",\"Daule\",\"Milagro\",\"Guayaquil\",\"Quito\",\"Quito\",\"Daule\",\"Guayaquil\",\"Guayaquil\",\"Quito\",\"El Carmen\",\"Chone\",\"Cuenca\"],\"cod_pais\":[\"NaN\",\"NaN\",\"NaN\",\"Ecuador \",\"NaN\",\"Ecuador \",\"Ecuador \",\"Ecuador \",\"NaN\",\"Ecuador \",\"Ecuador \",\"Ecuador \",\"Ecuador \",\"Ecuador \",\"Ecuador \",\"NaN\",\"Ecuador \",\"NaN\",\"Ecuador \",\"Ecuador \",\"Ecuador \",\"Ecuador \",\"Ecuador \",\"Ecuador \",\"Ecuador \",\"NaN\",\"Ecuador \",\"Ecuador \",\"Ecuador \",\"Ecuador \"],\"con_pren\":{\"__ndarray__\":\"AAAAAAAA+H8AAAAAAAD4fwAAAAAAAPh/AAAAAAAA8D8AAAAAAAD4fwAAAAAAABhAAAAAAAAAJEAAAAAAAAAgQAAAAAAAAPh/AAAAAAAAIkAAAAAAAAAYQAAAAAAAABhAAAAAAAAAGEAAAAAAAAAQQAAAAAAAABxAAAAAAAAA+H8AAAAAAAAYQAAAAAAAAPh/AAAAAAAAIEAAAAAAAAAUQAAAAAAAACBAAAAAAAAAGEAAAAAAAAAkQAAAAAAAACBAAAAAAADAWEAAAAAAAAD4fwAAAAAAAAhAAAAAAADAWEAAAAAAAAAgQAAAAAAAACJA\",\"dtype\":\"float64\",\"shape\":[30]},\"dia_insc\":[12,13,4,26,22,27,10,22,17,2,1,2,18,14,25,21,6,29,4,31,29,18,25,16,21,24,2,20,8,8],\"dia_mad\":{\"__ndarray__\":\"AAAAAAAA+H8AAAAAAAD4fwAAAAAAAPh/AAAAAAAAP0AAAAAAAAD4fwAAAAAAADtAAAAAAAAAGEAAAAAAAAA7QAAAAAAAAPh/AAAAAAAANEAAAAAAAAA+QAAAAAAAADxAAAAAAAAAEEAAAAAAAAAiQAAAAAAAACRAAAAAAAAA+H8AAAAAAAAoQAAAAAAAAPh/AAAAAAAANEAAAAAAAAAIQAAAAAAAADpAAAAAAAAAIkAAAAAAAAAwQAAAAAAAADxAAAAAAAAAKkAAAAAAAAD4fwAAAAAAAC5AAAAAAAAACEAAAAAAAAAmQAAAAAAAADBA\",\"dtype\":\"float64\",\"shape\":[30]},\"dia_nac\":[3,6,6,2,25,17,17,12,18,19,3,25,1,28,26,28,24,12,21,15,15,29,10,19,14,10,31,16,2,12],\"edad_mad\":{\"__ndarray__\":\"AAAAAAAA+H8AAAAAAAD4fwAAAAAAAPh/AAAAAAAANUAAAAAAAAD4fwAAAAAAADdAAAAAAAAAP0AAAAAAAAA7QAAAAAAAAPh/AAAAAACAQUAAAAAAAAA3QAAAAAAAAEBAAAAAAACAREAAAAAAAIBCQAAAAAAAADJAAAAAAAAA+H8AAAAAAIBEQAAAAAAAAPh/AAAAAAAAM0AAAAAAAAA3QAAAAAAAADtAAAAAAAAANEAAAAAAAAA1QAAAAAAAADlAAAAAAAAAPkAAAAAAAAD4fwAAAAAAADRAAAAAAAAAOEAAAAAAAAA8QAAAAAAAADlA\",\"dtype\":\"float64\",\"shape\":[30]},\"est_civil\":[\"NaN\",\"NaN\",\"NaN\",\"Soltera\",\"NaN\",\"Soltera\",\"Unida\",\"Unida\",\"NaN\",\"Se ignora\",\"Casada\",\"Casada\",\"Soltera\",\"Unida\",\"Soltera\",\"NaN\",\"Casada\",\"NaN\",\"Unida\",\"Soltera\",\"Casada\",\"Soltera\",\"Soltera\",\"Soltera\",\"Se ignora\",\"NaN\",\"Soltera\",\"Se ignora\",\"Unida\",\"Casada\"],\"etnia\":[\"NaN\",\"NaN\",\"NaN\",\"Ind\\ufffdgena\",\"NaN\",\"Mestiza\",\"Ignorado\",\"Mestiza\",\"NaN\",\"Mestiza\",\"Mestiza\",\"Mestiza\",\"Mestiza\",\"Mestiza\",\"Mestiza\",\"NaN\",\"Mestiza\",\"NaN\",\"Mestiza\",\"Mestiza\",\"Mestiza\",\"Mestiza\",\"Mestiza\",\"Mestiza\",\"Mestiza\",\"NaN\",\"Mestiza\",\"Mestiza\",\"Mestiza\",\"Mestiza\"],\"fecha_insc\":[13613961600,13619318400,13610851200,13612752000,13609728000,13623206400,13624329600,13609728000,13609296000,13628995200,13623552000,13628995200,13622428800,13624675200,13609987200,13617417600,13613443200,13620700800,13623811200,13626144000,13620700800,13614480000,13630982400,13624848000,13609641600,13609900800,13628995200,13622601600,13624156800,13629513600],\"fecha_mad\":[\"          \",\"          \",\"          \",\"1993/10/31\",\"          \",\"1991/06/27\",\"1983/06/06\",\"1987/10/27\",\"          \",\"1979/04/20\",\"1991/12/30\",\"1982/03/28\",\"1973/04/04\",\"1977/06/09\",\"1996/07/10\",\"          \",\"1973/05/12\",\"          \",\"1995/09/20\",\"1991/08/03\",\"1987/04/26\",\"1994/04/09\",\"1993/09/16\",\"1989/01/28\",\"1984/08/13\",\"          \",\"1994/05/15\",\"1990/01/03\",\"1986/07/11\",\"1989/12/16\"],\"fecha_nac\":[13523760000,13261190400,13563590400,13605321600,13381113600,13617072000,13582857600,13603593600,13270003200,13627785600,13621132800,13628304000,13618281600,13623292800,13599532800,13460256000,13588732800,13519267200,13617417600,13624761600,13619491200,13610332800,13629686400,13622515200,13595817600,13500777600,13626144000,13614307200,13623638400,13621910400],\"hij_nacm\":{\"__ndarray__\":\"AAAAAAAA+H8AAAAAAAD4fwAAAAAAAPh/AAAAAAAAAAAAAAAAAAD4fwAAAAAAAAAAAAAAAAAAAAAAAAAAAAAAAAAAAAAAAPh/AAAAAAAAAAAAAAAAAAAAAAAAAAAAAAAAAAAAAAAAAAAAAAAAAMBYQAAAAAAAAAAAAAAAAAAA+H8AAAAAAAAAAAAAAAAAAPh/AAAAAAAAAAAAAAAAAMBYQAAAAAAAAAAAAAAAAAAAAAAAAAAAAAAAAAAAAAAAAAAAAAAAAAAA8D8AAAAAAAD4fwAAAAAAAAAAAAAAAADAWEAAAAAAAAAAAAAAAAAAAAAA\",\"dtype\":\"float64\",\"shape\":[30]},\"hij_viv\":{\"__ndarray__\":\"AAAAAAAA+H8AAAAAAAD4fwAAAAAAAPh/AAAAAAAAAEAAAAAAAAD4fwAAAAAAAPA/AAAAAAAACEAAAAAAAAAQQAAAAAAAAPh/AAAAAAAACEAAAAAAAADwPwAAAAAAAAhAAAAAAAAAAEAAAAAAAADwPwAAAAAAAABAAAAAAAAA+H8AAAAAAAAQQAAAAAAAAPh/AAAAAAAA8D8AAAAAAAAIQAAAAAAAAABAAAAAAAAA8D8AAAAAAADwPwAAAAAAAABAAAAAAAAAEEAAAAAAAAD4fwAAAAAAAABAAAAAAAAA8D8AAAAAAAAAQAAAAAAAAABA\",\"dtype\":\"float64\",\"shape\":[30]},\"hij_vivm\":{\"__ndarray__\":\"AAAAAAAA+H8AAAAAAAD4fwAAAAAAAPh/AAAAAAAAAAAAAAAAAAD4fwAAAAAAAAAAAAAAAAAAAAAAAAAAAAAAAAAAAAAAAPh/AAAAAAAAAAAAAAAAAAAAAAAAAAAAAAAAAAAAAAAAAAAAAAAAAMBYQAAAAAAAAPA/AAAAAAAA+H8AAAAAAAAAAAAAAAAAAPh/AAAAAAAAAAAAAAAAAAAAAAAAAAAAAAAAAAAAAAAAAAAAAAAAAAAAAAAAAAAAAAAAAAAAAAAAAAAAAAAAAAD4fwAAAAAAAAAAAAAAAADAWEAAAAAAAAAAAAAAAAAAAAAA\",\"dtype\":\"float64\",\"shape\":[30]},\"index\":[1145,1318,670,1340,2260,1972,274,2187,2133,87,2085,501,1854,468,2267,634,873,1085,48,2,1745,616,293,523,2191,2153,1456,1665,334,338],\"lugar_ocur\":[\"NaN\",\"NaN\",\"NaN\",\"Establecimiento del Ministerio de Salud\",\"NaN\",\"Establecimiento del Ministerio de Salud\",\"Hospital, Cl\\ufffdnica o Consultorio Privado\",\"Establecimiento del Ministerio de Salud\",\"NaN\",\"Establecimiento del Ministerio de Salud\",\"Establecimiento del Ministerio de Salud\",\"Hospital, Cl\\ufffdnica o Consultorio Privado\",\"Establecimiento del Ministerio de Salud\",\"Hospital, Cl\\ufffdnica o Consultorio Privado\",\"Establecimiento de la Junta de Beneficencia\",\"NaN\",\"Hospital, Cl\\ufffdnica o Consultorio Privado\",\"NaN\",\"Hospital, Cl\\ufffdnica o Consultorio Privado\",\"Establecimiento del Ministerio de Salud\",\"Hospital, Cl\\ufffdnica o Consultorio Privado\",\"Establecimiento del Ministerio de Salud\",\"Establecimiento del Ministerio de Salud\",\"Establecimiento del IESS\",\"Establecimiento del Ministerio de Salud\",\"NaN\",\"Establecimiento del Ministerio de Salud\",\"Hospital, Cl\\ufffdnica o Consultorio Privado\",\"Establecimiento del Ministerio de Salud\",\"Hospital, Cl\\ufffdnica o Consultorio Privado\"],\"mes_insc\":[\"Marzo\",\"Mayo\",\"Febrero\",\"Febrero\",\"Enero\",\"Junio\",\"Julio\",\"Enero\",\"Enero\",\"Septiembre\",\"Julio\",\"Septiembre\",\"Junio\",\"Julio\",\"Enero\",\"Abril\",\"Marzo\",\"Mayo\",\"Julio\",\"Julio\",\"Mayo\",\"Marzo\",\"Septiembre\",\"Julio\",\"Enero\",\"Enero\",\"Septiembre\",\"Junio\",\"Julio\",\"Septiembre\"],\"mes_mad\":{\"__ndarray__\":\"AAAAAAAA+H8AAAAAAAD4fwAAAAAAAPh/AAAAAAAAJEAAAAAAAAD4fwAAAAAAABhAAAAAAAAAGEAAAAAAAAAkQAAAAAAAAPh/AAAAAAAAEEAAAAAAAAAoQAAAAAAAAAhAAAAAAAAAEEAAAAAAAAAYQAAAAAAAABxAAAAAAAAA+H8AAAAAAAAUQAAAAAAAAPh/AAAAAAAAIkAAAAAAAAAgQAAAAAAAABBAAAAAAAAAEEAAAAAAAAAiQAAAAAAAAPA/AAAAAAAAIEAAAAAAAAD4fwAAAAAAABRAAAAAAAAA8D8AAAAAAAAcQAAAAAAAAChA\",\"dtype\":\"float64\",\"shape\":[30]},\"mes_nac\":[\"Mayo\",\"Enero\",\"Agosto\",\"Diciembre\",\"Octubre\",\"Abril\",\"Marzo\",\"Noviembre\",\"Abril\",\"Agosto\",\"Junio\",\"Agosto\",\"Mayo\",\"Junio\",\"Septiembre\",\"Abril\",\"Mayo\",\"Marzo\",\"Abril\",\"Julio\",\"Mayo\",\"Enero\",\"Septiembre\",\"Junio\",\"Agosto\",\"Agosto\",\"Julio\",\"Marzo\",\"Julio\",\"Junio\"],\"nac_mad\":[\"NaN\",\"NaN\",\"NaN\",\"Ecuatoriana\",\"NaN\",\"Ecuatoriana\",\"Ecuatoriana\",\"Ecuatoriana\",\"NaN\",\"Ecuatoriana\",\"Ecuatoriana\",\"Ecuatoriana\",\"Ecuatoriana\",\"Ecuatoriana\",\"Ecuatoriana\",\"NaN\",\"Ecuatoriana\",\"NaN\",\"Ecuatoriana\",\"Ecuatoriana\",\"Ecuatoriana\",\"Ecuatoriana\",\"Ecuatoriana\",\"Ecuatoriana\",\"Ecuatoriana\",\"NaN\",\"Ecuatoriana\",\"Ecuatoriana\",\"Ecuatoriana\",\"Ecuatoriana\"],\"niv_inst\":[\"NaN\",\"NaN\",\"NaN\",\"Ciclo Post-Bachillerato\",\"NaN\",\"Primaria\",\"Secundaria\",\"Secundaria\",\"NaN\",\"Secundaria\",\"Secundaria\",\"Superior\",\"Secundaria\",\"Superior\",\"Primaria\",\"NaN\",\"Secundaria\",\"NaN\",\"Educaci\\ufffdn B\\ufffdsica\",\"Secundaria\",\"Secundaria\",\"Secundaria\",\"Educaci\\ufffdn B\\ufffdsica\",\"Primaria\",\"Secundaria\",\"NaN\",\"Educaci\\ufffdn B\\ufffdsica\",\"Se ignora\",\"Secundaria\",\"Ciclo Post-Bachillerato\"],\"num_par\":{\"__ndarray__\":\"AAAAAAAA+H8AAAAAAAD4fwAAAAAAAPh/AAAAAAAAAEAAAAAAAAD4fwAAAAAAAPA/AAAAAAAACEAAAAAAAAAQQAAAAAAAAPh/AAAAAAAACEAAAAAAAADwPwAAAAAAAAhAAAAAAAAAAEAAAAAAAADwPwAAAAAAAAhAAAAAAAAA+H8AAAAAAAAQQAAAAAAAAPh/AAAAAAAA8D8AAAAAAAAIQAAAAAAAAABAAAAAAAAA8D8AAAAAAADwPwAAAAAAAABAAAAAAAAAFEAAAAAAAAD4fwAAAAAAAABAAAAAAAAA8D8AAAAAAAAAQAAAAAAAAABA\",\"dtype\":\"float64\",\"shape\":[30]},\"ofi_insc\":[1,1,1,1,1,1,1,1,1,1,1,1,1,1,1,1,1,3,1,1,1,1,1,1,1,1,1,1,1,1],\"p_emb\":[\"NaN\",\"NaN\",\"NaN\",\"Simple\",\"NaN\",\"Simple\",\"Simple\",\"Simple\",\"NaN\",\"Simple\",\"Simple\",\"Simple\",\"Simple\",\"Simple\",\"Simple\",\"NaN\",\"Simple\",\"NaN\",\"Simple\",\"Simple\",\"Simple\",\"Simple\",\"Simple\",\"Simple\",\"Simple\",\"NaN\",\"Simple\",\"Simple\",\"Simple\",\"Simple\"],\"parr_insc\":[\"Coronel Marcelino Maridue\\ufffda (San Carlos), Cabecera Cantonal\",\"Rocafuerte\",\"Balzar, Cabecera Cantonal\",\"Cotacachi, Cabecera Cantonal\",\"Rocafuerte\",\"Rocafuerte\",\"Tarqui\",\"Rocafuerte\",\"Rocafuerte\",\"San Blas\",\"Santo Domingo de los Colorados, Cabecera Cantonal y Capital Provincial\",\"San Blas\",\"Samborond\\ufffdn, Cabecera Cantonal\",\"Chone, Cabecera Cantonal\",\"Rocafuerte\",\"Santa Elena, Cabecera Cantonal y Capital Provincial\",\"Rocafuerte\",\"El Triunfo, Cabecera Cantonal\",\"Daule, Cabecera Cantonal\",\"Milagro, Cabecera Cantonal\",\"Rocafuerte\",\"Turubamba\",\"I\\ufffdaquito\",\"Daule, Cabecera Cantonal\",\"Rocafuerte\",\"Rocafuerte\",\"Centro Hist\\ufffdrico\",\"El Carmen, Cabecera Cantonal\",\"Chone, Cabecera Cantonal\",\"San Blas\"],\"parr_nac\":[\"NaN\",\"NaN\",\"NaN\",\"San Miguel de Ibarra, Cabecera Cantonal y Capital Provincial\",\"NaN\",\"Guayaquil, Cabecera Cantonal y Capital Provincial\",\"Guayaquil, Cabecera Cantonal y Capital Provincial\",\"Guayaquil, Cabecera Cantonal y Capital Provincial\",\"NaN\",\"Cuenca, Cabecera Cantonal y Capital Provincial\",\"Santo Domingo de los Colorados, Cabecera Cantonal y Capital Provincial\",\"Cuenca, Cabecera Cantonal y Capital Provincial\",\"Guayaquil, Cabecera Cantonal y Capital Provincial\",\"Chone, Cabecera Cantonal\",\"Guayaquil, Cabecera Cantonal y Capital Provincial\",\"NaN\",\"Guayaquil, Cabecera Cantonal y Capital Provincial\",\"NaN\",\"Daule, Cabecera Cantonal\",\"Milagro, Cabecera Cantonal\",\"Guayaquil, Cabecera Cantonal y Capital Provincial\",\"Quito Distrito Metropolitano, Cabecera Cantonal, Capital Provincial\",\"Calder\\ufffdn\",\"Guayaquil, Cabecera Cantonal y Capital Provincial\",\"Guayaquil, Cabecera Cantonal y Capital Provincial\",\"NaN\",\"Conocoto\",\"Santo Domingo de los Colorados, Cabecera Cantonal y Capital Provincial\",\"Chone, Cabecera Cantonal\",\"Cuenca, Cabecera Cantonal y Capital Provincial\"],\"parr_res\":[\"Naranjito, Cabecera Cantonal\",\"Tarqui\",\"Balzar, Cabecera Cantonal\",\"Quiroga\",\"Tarqui\",\"Tarqui\",\"Ximena\",\"Febres Cordero\",\"Guayaquil, Cabecera Cantonal y Capital Provincial\",\"Yanuncay\",\"Santo Domingo de los Colorados, Cabecera Cantonal y Capital Provincial\",\"Cuenca, Cabecera Cantonal y Capital Provincial\",\"Samborond\\ufffdn, Cabecera Cantonal\",\"Chone, Cabecera Cantonal\",\"Tarqui\",\"Santa Elena\",\"Guayaquil, Cabecera Cantonal y Capital Provincial\",\"El Triunfo, Cabecera Cantonal\",\"Daule, Cabecera Cantonal\",\"Milagro, Cabecera Cantonal\",\"Tarqui\",\"Chillogallo\",\"El Condado\",\"Daule, Cabecera Cantonal\",\"Febres Cordero\",\"Febres Cordero\",\"Conocoto\",\"El Carmen, Cabecera Cantonal\",\"Chone, Cabecera Cantonal\",\"San Blas\"],\"peso\":{\"__ndarray__\":\"AAAAAAAA+H8AAAAAAAD4fwAAAAAAAPh/AAAAAABUqkAAAAAAAAD4fwAAAAAAkKpAAAAAAACQqkAAAAAAAMipQAAAAAAAAPh/AAAAAADYo0AAAAAAAFirQAAAAAAAIKxAAAAAAABwp0AAAAAAAFysQAAAAAAA3KtAAAAAAAAA+H8AAAAAADioQAAAAAAAAPh/AAAAAABwp0AAAAAAAOClQAAAAAAAyKlAAAAAAAAko0AAAAAAAJClQAAAAAAAjKRAAAAAAACwrUAAAAAAAAD4fwAAAAAAlKtAAAAAAACIqEAAAAAAAEytQAAAAAAADKxA\",\"dtype\":\"float64\",\"shape\":[30]},\"prov_insc\":[\"Guayas\",\"Guayas\",\"Guayas\",\"Imbabura\",\"Guayas\",\"Guayas\",\"Guayas\",\"Guayas\",\"Guayas\",\"Azuay\",\"Santo Domingo de los Ts\\ufffdchilas\",\"Azuay\",\"Guayas\",\"Manab\\ufffd\",\"Guayas\",\"Santa Elena\",\"Guayas\",\"Guayas\",\"Guayas\",\"Guayas\",\"Guayas\",\"Pichincha\",\"Pichincha\",\"Guayas\",\"Guayas\",\"Guayas\",\"Pichincha\",\"Manab\\ufffd\",\"Manab\\ufffd\",\"Azuay\"],\"prov_nac\":[\"NaN\",\"NaN\",\"NaN\",\"Imbabura\",\"NaN\",\"Guayas\",\"Guayas\",\"Guayas\",\"NaN\",\"Azuay\",\"Santo Domingo de los Ts\\ufffdchilas\",\"Azuay\",\"Guayas\",\"Manab\\ufffd\",\"Guayas\",\"NaN\",\"Guayas\",\"NaN\",\"Guayas\",\"Guayas\",\"Guayas\",\"Pichincha\",\"Pichincha\",\"Guayas\",\"Guayas\",\"NaN\",\"Pichincha\",\"Santo Domingo de los Ts\\ufffdchilas\",\"Manab\\ufffd\",\"Azuay\"],\"prov_res\":[\"Guayas\",\"Guayas\",\"Guayas\",\"Imbabura\",\"Guayas\",\"Guayas\",\"Guayas\",\"Guayas\",\"Guayas\",\"Azuay\",\"Santo Domingo de los Ts\\ufffdchilas\",\"Azuay\",\"Guayas\",\"Manab\\ufffd\",\"Guayas\",\"Santa Elena\",\"Guayas\",\"Guayas\",\"Guayas\",\"Guayas\",\"Guayas\",\"Pichincha\",\"Pichincha\",\"Guayas\",\"Guayas\",\"Guayas\",\"Pichincha\",\"Manab\\ufffd\",\"Manab\\ufffd\",\"Azuay\"],\"sabe_leer\":[\"NaN\",\"NaN\",\"NaN\",\"Si\",\"NaN\",\"Si\",\"Si\",\"Si\",\"NaN\",\"Si\",\"Si\",\"Si\",\"Si\",\"Si\",\"Si\",\"NaN\",\"Si\",\"NaN\",\"Si\",\"Si\",\"Si\",\"Si\",\"Si\",\"Si\",\"Si\",\"NaN\",\"Si\",\"Si\",\"Si\",\"Si\"],\"sem_gest\":{\"__ndarray__\":\"AAAAAAAA+H8AAAAAAAD4fwAAAAAAAPh/AAAAAADAWEAAAAAAAAD4fwAAAAAAAENAAAAAAAAAREAAAAAAAABEQAAAAAAAAPh/AAAAAACAQ0AAAAAAAABEQAAAAAAAAENAAAAAAACAQ0AAAAAAAIBDQAAAAAAAAERAAAAAAAAA+H8AAAAAAIBDQAAAAAAAAPh/AAAAAACAQ0AAAAAAAABDQAAAAAAAgENAAAAAAAAAREAAAAAAAABEQAAAAAAAAENAAAAAAACAQ0AAAAAAAAD4fwAAAAAAAERAAAAAAACAQ0AAAAAAAABEQAAAAAAAgERA\",\"dtype\":\"float64\",\"shape\":[30]},\"sexo\":[\"Hombre\",\"Hombre\",\"Mujer\",\"Mujer\",\"Hombre\",\"Mujer\",\"Mujer\",\"Hombre\",\"Hombre\",\"Mujer\",\"Hombre\",\"Mujer\",\"Hombre\",\"Hombre\",\"Mujer\",\"Mujer\",\"Hombre\",\"Mujer\",\"Hombre\",\"Mujer\",\"Mujer\",\"Hombre\",\"Mujer\",\"Hombre\",\"Mujer\",\"Hombre\",\"Mujer\",\"Mujer\",\"Mujer\",\"Mujer\"],\"talla\":{\"__ndarray__\":\"AAAAAAAA+H8AAAAAAAD4fwAAAAAAAPh/AAAAAACASEAAAAAAAAD4fwAAAAAAAEpAAAAAAAAASUAAAAAAAIBJQAAAAAAAAPh/AAAAAACAR0AAAAAAAIBJQAAAAAAAgElAAAAAAAAASUAAAAAAAABHQAAAAAAAAElAAAAAAAAA+H8AAAAAAIBIQAAAAAAAAPh/AAAAAAAASEAAAAAAAABKQAAAAAAAAEhAAAAAAAAARkAAAAAAAABHQAAAAAAAgEdAAAAAAAAASkAAAAAAAAD4fwAAAAAAAEhAAAAAAAAASUAAAAAAAIBJQAAAAAAAgEdA\",\"dtype\":\"float64\",\"shape\":[30]},\"tip_insc\":[\"Inscripci\\ufffdn Tard\\ufffda\",\"Inscripci\\ufffdn Tard\\ufffda\",\"Inscripci\\ufffdn Tard\\ufffda\",\"Inscripci\\ufffdn Tard\\ufffda\",\"Inscripci\\ufffdn Tard\\ufffda\",\"Inscripci\\ufffdn Normal\",\"Inscripci\\ufffdn Tard\\ufffda\",\"Inscripci\\ufffdn Tard\\ufffda\",\"Inscripci\\ufffdn Tard\\ufffda\",\"Inscripci\\ufffdn Normal\",\"Inscripci\\ufffdn Normal\",\"Inscripci\\ufffdn Normal\",\"Inscripci\\ufffdn Normal\",\"Inscripci\\ufffdn Normal\",\"Inscripci\\ufffdn Tard\\ufffda\",\"Inscripci\\ufffdn Tard\\ufffda\",\"Inscripci\\ufffdn Tard\\ufffda\",\"Inscripci\\ufffdn Tard\\ufffda\",\"Inscripci\\ufffdn Normal\",\"Inscripci\\ufffdn Normal\",\"Inscripci\\ufffdn Normal\",\"Inscripci\\ufffdn Normal\",\"Inscripci\\ufffdn Normal\",\"Inscripci\\ufffdn Normal\",\"Inscripci\\ufffdn Tard\\ufffda\",\"Inscripci\\ufffdn Tard\\ufffda\",\"Inscripci\\ufffdn Normal\",\"Inscripci\\ufffdn Normal\",\"Inscripci\\ufffdn Normal\",\"Inscripci\\ufffdn Normal\"],\"tipo_part\":[\"NaN\",\"NaN\",\"NaN\",\"Ces\\ufffdrea\",\"NaN\",\"Normal\",\"Ces\\ufffdrea\",\"Ces\\ufffdrea\",\"NaN\",\"Normal\",\"Normal\",\"Ces\\ufffdrea\",\"Ces\\ufffdrea\",\"Ces\\ufffdrea\",\"Normal\",\"NaN\",\"Ces\\ufffdrea\",\"NaN\",\"Ces\\ufffdrea\",\"Ces\\ufffdrea\",\"Ces\\ufffdrea\",\"Normal\",\"Normal\",\"Ces\\ufffdrea\",\"Normal\",\"NaN\",\"Normal\",\"Normal\",\"Ces\\ufffdrea\",\"Ces\\ufffdrea\"]},\"selected\":{\"id\":\"1272\",\"type\":\"Selection\"},\"selection_policy\":{\"id\":\"1271\",\"type\":\"UnionRenderers\"}},\"id\":\"1244\",\"type\":\"ColumnDataSource\"},{\"attributes\":{\"dimension\":1,\"plot\":{\"id\":\"1209\",\"subtype\":\"Figure\",\"type\":\"Plot\"},\"ticker\":{\"id\":\"1225\",\"type\":\"BasicTicker\"}},\"id\":\"1228\",\"type\":\"Grid\"}],\"root_ids\":[\"1209\"]},\"title\":\"Bokeh Application\",\"version\":\"1.0.2\"}};\n",
       "  var render_items = [{\"docid\":\"c451eb25-ef1c-4b3a-8f60-0a000c43f3ad\",\"roots\":{\"1209\":\"64cb72cd-4ae2-4257-8dac-d9d51d284a45\"}}];\n",
       "  root.Bokeh.embed.embed_items_notebook(docs_json, render_items);\n",
       "\n",
       "  }\n",
       "  if (root.Bokeh !== undefined) {\n",
       "    embed_document(root);\n",
       "  } else {\n",
       "    var attempts = 0;\n",
       "    var timer = setInterval(function(root) {\n",
       "      if (root.Bokeh !== undefined) {\n",
       "        embed_document(root);\n",
       "        clearInterval(timer);\n",
       "      }\n",
       "      attempts++;\n",
       "      if (attempts > 100) {\n",
       "        console.log(\"Bokeh: ERROR: Unable to run BokehJS code because BokehJS library is missing\");\n",
       "        clearInterval(timer);\n",
       "      }\n",
       "    }, 10, root)\n",
       "  }\n",
       "})(window);"
      ],
      "application/vnd.bokehjs_exec.v0+json": ""
     },
     "metadata": {
      "application/vnd.bokehjs_exec.v0+json": {
       "id": "1209"
      }
     },
     "output_type": "display_data"
    }
   ],
   "source": [
    "grafico = figure(title=\"barras\")\n",
    "dat = ColumnDataSource(df.sample(30))\n",
    "grafico.vbar(x=\"edad_mad\",width= 0.05, top=\"anio_nac\", color=\"blue\",source=dat)\n",
    "show(grafico)"
   ]
  },
  {
   "cell_type": "code",
   "execution_count": 12,
   "metadata": {},
   "outputs": [],
   "source": [
    "datos = ColumnDataSource(df.sample(4))"
   ]
  },
  {
   "cell_type": "code",
   "execution_count": 21,
   "metadata": {},
   "outputs": [
    {
     "data": {
      "text/html": [
       "\n",
       "\n",
       "\n",
       "\n",
       "\n",
       "\n",
       "  <div class=\"bk-root\" id=\"882aba57-3928-461c-9b05-fd43d005f6fe\"></div>\n"
      ]
     },
     "metadata": {},
     "output_type": "display_data"
    },
    {
     "data": {
      "application/javascript": [
       "(function(root) {\n",
       "  function embed_document(root) {\n",
       "    \n",
       "  var docs_json = {\"efc7b422-d80a-4978-8927-dee4386c2faf\":{\"roots\":{\"references\":[{\"attributes\":{\"below\":[{\"id\":\"2240\",\"type\":\"LinearAxis\"}],\"left\":[{\"id\":\"2245\",\"type\":\"LinearAxis\"}],\"plot_height\":400,\"plot_width\":400,\"renderers\":[{\"id\":\"2240\",\"type\":\"LinearAxis\"},{\"id\":\"2244\",\"type\":\"Grid\"},{\"id\":\"2245\",\"type\":\"LinearAxis\"},{\"id\":\"2249\",\"type\":\"Grid\"},{\"id\":\"2258\",\"type\":\"BoxAnnotation\"},{\"id\":\"2268\",\"type\":\"GlyphRenderer\"}],\"title\":{\"id\":\"2350\",\"type\":\"Title\"},\"toolbar\":{\"id\":\"2256\",\"type\":\"Toolbar\"},\"x_range\":{\"id\":\"2232\",\"type\":\"DataRange1d\"},\"x_scale\":{\"id\":\"2236\",\"type\":\"LinearScale\"},\"y_range\":{\"id\":\"2234\",\"type\":\"DataRange1d\"},\"y_scale\":{\"id\":\"2238\",\"type\":\"LinearScale\"}},\"id\":\"2231\",\"subtype\":\"Figure\",\"type\":\"Plot\"},{\"attributes\":{},\"id\":\"1393\",\"type\":\"Selection\"},{\"attributes\":{\"formatter\":{\"id\":\"2354\",\"type\":\"BasicTickFormatter\"},\"plot\":{\"id\":\"2231\",\"subtype\":\"Figure\",\"type\":\"Plot\"},\"ticker\":{\"id\":\"2246\",\"type\":\"BasicTicker\"}},\"id\":\"2245\",\"type\":\"LinearAxis\"},{\"attributes\":{\"dimension\":1,\"plot\":{\"id\":\"2231\",\"subtype\":\"Figure\",\"type\":\"Plot\"},\"ticker\":{\"id\":\"2246\",\"type\":\"BasicTicker\"}},\"id\":\"2249\",\"type\":\"Grid\"},{\"attributes\":{},\"id\":\"2246\",\"type\":\"BasicTicker\"},{\"attributes\":{\"plot\":{\"id\":\"2231\",\"subtype\":\"Figure\",\"type\":\"Plot\"},\"ticker\":{\"id\":\"2241\",\"type\":\"BasicTicker\"}},\"id\":\"2244\",\"type\":\"Grid\"},{\"attributes\":{},\"id\":\"2241\",\"type\":\"BasicTicker\"},{\"attributes\":{},\"id\":\"2250\",\"type\":\"PanTool\"},{\"attributes\":{},\"id\":\"2253\",\"type\":\"SaveTool\"},{\"attributes\":{\"source\":{\"id\":\"1322\",\"type\":\"ColumnDataSource\"}},\"id\":\"2269\",\"type\":\"CDSView\"},{\"attributes\":{\"overlay\":{\"id\":\"2258\",\"type\":\"BoxAnnotation\"}},\"id\":\"2252\",\"type\":\"BoxZoomTool\"},{\"attributes\":{},\"id\":\"2236\",\"type\":\"LinearScale\"},{\"attributes\":{},\"id\":\"2251\",\"type\":\"WheelZoomTool\"},{\"attributes\":{},\"id\":\"2238\",\"type\":\"LinearScale\"},{\"attributes\":{\"formatter\":{\"id\":\"2352\",\"type\":\"BasicTickFormatter\"},\"plot\":{\"id\":\"2231\",\"subtype\":\"Figure\",\"type\":\"Plot\"},\"ticker\":{\"id\":\"2241\",\"type\":\"BasicTicker\"}},\"id\":\"2240\",\"type\":\"LinearAxis\"},{\"attributes\":{\"plot\":null,\"text\":\"\"},\"id\":\"2350\",\"type\":\"Title\"},{\"attributes\":{\"bottom_units\":\"screen\",\"fill_alpha\":{\"value\":0.5},\"fill_color\":{\"value\":\"lightgrey\"},\"left_units\":\"screen\",\"level\":\"overlay\",\"line_alpha\":{\"value\":1.0},\"line_color\":{\"value\":\"black\"},\"line_dash\":[4,4],\"line_width\":{\"value\":2},\"plot\":null,\"render_mode\":\"css\",\"right_units\":\"screen\",\"top_units\":\"screen\"},\"id\":\"2258\",\"type\":\"BoxAnnotation\"},{\"attributes\":{\"callback\":null},\"id\":\"2234\",\"type\":\"DataRange1d\"},{\"attributes\":{\"active_drag\":\"auto\",\"active_inspect\":\"auto\",\"active_multi\":null,\"active_scroll\":\"auto\",\"active_tap\":\"auto\",\"tools\":[{\"id\":\"2250\",\"type\":\"PanTool\"},{\"id\":\"2251\",\"type\":\"WheelZoomTool\"},{\"id\":\"2252\",\"type\":\"BoxZoomTool\"},{\"id\":\"2253\",\"type\":\"SaveTool\"},{\"id\":\"2254\",\"type\":\"ResetTool\"},{\"id\":\"2255\",\"type\":\"HelpTool\"}]},\"id\":\"2256\",\"type\":\"Toolbar\"},{\"attributes\":{\"callback\":null},\"id\":\"2232\",\"type\":\"DataRange1d\"},{\"attributes\":{},\"id\":\"2354\",\"type\":\"BasicTickFormatter\"},{\"attributes\":{},\"id\":\"2255\",\"type\":\"HelpTool\"},{\"attributes\":{},\"id\":\"2254\",\"type\":\"ResetTool\"},{\"attributes\":{},\"id\":\"1392\",\"type\":\"UnionRenderers\"},{\"attributes\":{\"angle\":{\"field\":\"sem_gest\",\"units\":\"rad\"},\"fill_alpha\":{\"value\":0.1},\"fill_color\":{\"value\":\"#1f77b4\"},\"height\":{\"units\":\"screen\",\"value\":50},\"line_alpha\":{\"value\":0.1},\"line_color\":{\"value\":\"#1f77b4\"},\"width\":{\"units\":\"data\",\"value\":5},\"x\":{\"field\":\"sem_gest\"},\"y\":{\"field\":\"talla\"}},\"id\":\"2267\",\"type\":\"Rect\"},{\"attributes\":{\"data_source\":{\"id\":\"1322\",\"type\":\"ColumnDataSource\"},\"glyph\":{\"id\":\"2266\",\"type\":\"Rect\"},\"hover_glyph\":null,\"muted_glyph\":null,\"nonselection_glyph\":{\"id\":\"2267\",\"type\":\"Rect\"},\"selection_glyph\":null,\"view\":{\"id\":\"2269\",\"type\":\"CDSView\"}},\"id\":\"2268\",\"type\":\"GlyphRenderer\"},{\"attributes\":{\"callback\":null,\"data\":{\"Unnamed: 0\":[2276,2349,1464,1912],\"anio_insc\":[2014,2014,2014,2014],\"anio_mad\":{\"__ndarray__\":\"AAAAAAAgn0AAAAAAAASfQAAAAAAANJ9AAAAAAAAUn0A=\",\"dtype\":\"float64\",\"shape\":[4]},\"anio_nac\":[2014,2014,2014,2014],\"area_nac\":[\"Urbana\",\"Urbana\",\"Urbana\",\"Urbana\"],\"area_res\":[\"Urbana\",\"Urbana\",\"Urbana\",\"Urbana\"],\"asis_por\":[\"M\\ufffddico/a\",\"M\\ufffddico/a\",\"M\\ufffddico/a\",\"M\\ufffddico/a\"],\"cant_insc\":[\"Guayaquil\",\"Santo Domingo\",\"Chone\",\"Quito\"],\"cant_nac\":[\"Guayaquil\",\"Santo Domingo\",\"Chone\",\"Quito\"],\"cant_res\":[\"Guayaquil\",\"Santo Domingo\",\"Chone\",\"Quito\"],\"cod_pais\":[\"Ecuador \",\"Ecuador \",\"Ecuador \",\"Ecuador \"],\"con_pren\":{\"__ndarray__\":\"AAAAAAAAHEAAAAAAAAAiQAAAAAAAABhAAAAAAAAAIkA=\",\"dtype\":\"float64\",\"shape\":[4]},\"dia_insc\":[30,8,20,25],\"dia_mad\":{\"__ndarray__\":\"AAAAAAAACEAAAAAAAAAuQAAAAAAAABRAAAAAAAAAOEA=\",\"dtype\":\"float64\",\"shape\":[4]},\"dia_nac\":[3,26,18,11],\"edad_mad\":{\"__ndarray__\":\"AAAAAAAANkAAAAAAAAA9QAAAAAAAADFAAAAAAAAAOUA=\",\"dtype\":\"float64\",\"shape\":[4]},\"est_civil\":[\"Unida\",\"Unida\",\"Unida\",\"Casada\"],\"etnia\":[\"Mestiza\",\"Mestiza\",\"Mestiza\",\"Mestiza\"],\"fecha_insc\":[13610419200,13624156800,13622601600,13628304000],\"fecha_mad\":[\"1992/12/03\",\"1985/07/15\",\"1997/06/05\",\"1989/04/24\"],\"fecha_nac\":[13608086400,13623120000,13622428800,13624416000],\"hij_nacm\":{\"__ndarray__\":\"AAAAAAAAAAAAAAAAAAAAAAAAAAAAAAAAAAAAAAAAAAA=\",\"dtype\":\"float64\",\"shape\":[4]},\"hij_viv\":{\"__ndarray__\":\"AAAAAAAA8D8AAAAAAAAUQAAAAAAAAPA/AAAAAAAACEA=\",\"dtype\":\"float64\",\"shape\":[4]},\"hij_vivm\":{\"__ndarray__\":\"AAAAAAAAAAAAAAAAAAAAAAAAAAAAAAAAAAAAAAAAAAA=\",\"dtype\":\"float64\",\"shape\":[4]},\"index\":[2275,2348,1463,1911],\"lugar_ocur\":[\"Establecimiento del Ministerio de Salud\",\"Establecimiento del Ministerio de Salud\",\"Establecimiento del Ministerio de Salud\",\"Otro Establecimiento P\\ufffdblico\"],\"mes_insc\":[\"Enero\",\"Julio\",\"Junio\",\"Agosto\"],\"mes_mad\":{\"__ndarray__\":\"AAAAAAAAKEAAAAAAAAAcQAAAAAAAABhAAAAAAAAAEEA=\",\"dtype\":\"float64\",\"shape\":[4]},\"mes_nac\":[\"Enero\",\"Junio\",\"Junio\",\"Julio\"],\"nac_mad\":[\"Ecuatoriana\",\"Ecuatoriana\",\"Ecuatoriana\",\"Ecuatoriana\"],\"niv_inst\":[\"Primaria\",\"Primaria\",\"Secundaria\",\"Superior\"],\"num_par\":{\"__ndarray__\":\"AAAAAAAA8D8AAAAAAAAUQAAAAAAAAPA/AAAAAAAAAEA=\",\"dtype\":\"float64\",\"shape\":[4]},\"ofi_insc\":[1,1,1,1],\"p_emb\":[\"Simple\",\"Simple\",\"Simple\",\"Doble\"],\"parr_insc\":[\"Rocafuerte\",\"Santo Domingo de los Colorados, Cabecera Cantonal y Capital Provincial\",\"Chone, Cabecera Cantonal\",\"Chimbacalle\"],\"parr_nac\":[\"Guayaquil, Cabecera Cantonal y Capital Provincial\",\"Santo Domingo de los Colorados, Cabecera Cantonal y Capital Provincial\",\"Chone, Cabecera Cantonal\",\"Quito Distrito Metropolitano, Cabecera Cantonal, Capital Provincial\"],\"parr_res\":[\"Guayaquil, Cabecera Cantonal y Capital Provincial\",\"Santo Domingo de los Colorados, Cabecera Cantonal y Capital Provincial\",\"Chone, Cabecera Cantonal\",\"Quito Distrito Metropolitano, Cabecera Cantonal, Capital Provincial\"],\"peso\":{\"__ndarray__\":\"AAAAAAA4qEAAAAAAAByrQAAAAAAApKVAAAAAAABUoEA=\",\"dtype\":\"float64\",\"shape\":[4]},\"prov_insc\":[\"Guayas\",\"Santo Domingo de los Ts\\ufffdchilas\",\"Manab\\ufffd\",\"Pichincha\"],\"prov_nac\":[\"Guayas\",\"Santo Domingo de los Ts\\ufffdchilas\",\"Manab\\ufffd\",\"Pichincha\"],\"prov_res\":[\"Guayas\",\"Santo Domingo de los Ts\\ufffdchilas\",\"Manab\\ufffd\",\"Pichincha\"],\"sabe_leer\":[\"Si\",\"Si\",\"Si\",\"Si\"],\"sem_gest\":{\"__ndarray__\":\"AAAAAAAAQ0AAAAAAAMBYQAAAAAAAAENAAAAAAAAAQEA=\",\"dtype\":\"float64\",\"shape\":[4]},\"sexo\":[\"Mujer\",\"Mujer\",\"Mujer\",\"Hombre\"],\"talla\":{\"__ndarray__\":\"AAAAAAAASUAAAAAAAIBJQAAAAAAAAEhAAAAAAAAAQ0A=\",\"dtype\":\"float64\",\"shape\":[4]},\"tip_insc\":[\"Inscripci\\ufffdn Normal\",\"Inscripci\\ufffdn Normal\",\"Inscripci\\ufffdn Normal\",\"Inscripci\\ufffdn Normal\"],\"tipo_part\":[\"Normal\",\"Ces\\ufffdrea\",\"Ces\\ufffdrea\",\"Ces\\ufffdrea\"]},\"selected\":{\"id\":\"1393\",\"type\":\"Selection\"},\"selection_policy\":{\"id\":\"1392\",\"type\":\"UnionRenderers\"}},\"id\":\"1322\",\"type\":\"ColumnDataSource\"},{\"attributes\":{},\"id\":\"2352\",\"type\":\"BasicTickFormatter\"},{\"attributes\":{\"angle\":{\"field\":\"sem_gest\",\"units\":\"rad\"},\"fill_color\":{\"value\":\"#CAB2D6\"},\"height\":{\"units\":\"screen\",\"value\":50},\"line_color\":{\"value\":\"#CAB2D6\"},\"width\":{\"units\":\"data\",\"value\":5},\"x\":{\"field\":\"sem_gest\"},\"y\":{\"field\":\"talla\"}},\"id\":\"2266\",\"type\":\"Rect\"}],\"root_ids\":[\"2231\"]},\"title\":\"Bokeh Application\",\"version\":\"1.0.2\"}};\n",
       "  var render_items = [{\"docid\":\"efc7b422-d80a-4978-8927-dee4386c2faf\",\"roots\":{\"2231\":\"882aba57-3928-461c-9b05-fd43d005f6fe\"}}];\n",
       "  root.Bokeh.embed.embed_items_notebook(docs_json, render_items);\n",
       "\n",
       "  }\n",
       "  if (root.Bokeh !== undefined) {\n",
       "    embed_document(root);\n",
       "  } else {\n",
       "    var attempts = 0;\n",
       "    var timer = setInterval(function(root) {\n",
       "      if (root.Bokeh !== undefined) {\n",
       "        embed_document(root);\n",
       "        clearInterval(timer);\n",
       "      }\n",
       "      attempts++;\n",
       "      if (attempts > 100) {\n",
       "        console.log(\"Bokeh: ERROR: Unable to run BokehJS code because BokehJS library is missing\");\n",
       "        clearInterval(timer);\n",
       "      }\n",
       "    }, 10, root)\n",
       "  }\n",
       "})(window);"
      ],
      "application/vnd.bokehjs_exec.v0+json": ""
     },
     "metadata": {
      "application/vnd.bokehjs_exec.v0+json": {
       "id": "2231"
      }
     },
     "output_type": "display_data"
    }
   ],
   "source": [
    "p = figure(plot_width=400, plot_height=400)\n",
    "p.rect(y=\"talla\", x=\"sem_gest\", width=5, height=50, color=\"#CAB2D6\",\n",
    "       angle=\"sem_gest\", height_units=\"screen\", source=datos)\n",
    "\n",
    "show(p)"
   ]
  },
  {
   "cell_type": "code",
   "execution_count": 14,
   "metadata": {},
   "outputs": [],
   "source": [
    "sc = ColumnDataSource(df.sample(10))"
   ]
  },
  {
   "cell_type": "code",
   "execution_count": 22,
   "metadata": {},
   "outputs": [
    {
     "data": {
      "text/html": [
       "\n",
       "\n",
       "\n",
       "\n",
       "\n",
       "\n",
       "  <div class=\"bk-root\" id=\"baddf2b5-4afa-4108-b757-72c87413774a\"></div>\n"
      ]
     },
     "metadata": {},
     "output_type": "display_data"
    },
    {
     "data": {
      "application/javascript": [
       "(function(root) {\n",
       "  function embed_document(root) {\n",
       "    \n",
       "  var docs_json = {\"3d5195ee-f3f2-43a1-bc6b-91361400fdaf\":{\"roots\":{\"references\":[{\"attributes\":{\"below\":[{\"id\":\"2421\",\"type\":\"LinearAxis\"}],\"left\":[{\"id\":\"2426\",\"type\":\"LinearAxis\"}],\"plot_height\":400,\"plot_width\":400,\"renderers\":[{\"id\":\"2421\",\"type\":\"LinearAxis\"},{\"id\":\"2425\",\"type\":\"Grid\"},{\"id\":\"2426\",\"type\":\"LinearAxis\"},{\"id\":\"2430\",\"type\":\"Grid\"},{\"id\":\"2439\",\"type\":\"BoxAnnotation\"},{\"id\":\"2449\",\"type\":\"GlyphRenderer\"}],\"title\":{\"id\":\"2540\",\"type\":\"Title\"},\"toolbar\":{\"id\":\"2437\",\"type\":\"Toolbar\"},\"x_range\":{\"id\":\"2413\",\"type\":\"DataRange1d\"},\"x_scale\":{\"id\":\"2417\",\"type\":\"LinearScale\"},\"y_range\":{\"id\":\"2415\",\"type\":\"DataRange1d\"},\"y_scale\":{\"id\":\"2419\",\"type\":\"LinearScale\"}},\"id\":\"2412\",\"subtype\":\"Figure\",\"type\":\"Plot\"},{\"attributes\":{},\"id\":\"1528\",\"type\":\"UnionRenderers\"},{\"attributes\":{},\"id\":\"1529\",\"type\":\"Selection\"},{\"attributes\":{\"dimension\":1,\"plot\":{\"id\":\"2412\",\"subtype\":\"Figure\",\"type\":\"Plot\"},\"ticker\":{\"id\":\"2427\",\"type\":\"BasicTicker\"}},\"id\":\"2430\",\"type\":\"Grid\"},{\"attributes\":{\"fill_alpha\":0.1,\"fill_color\":\"#1f77b4\",\"line_alpha\":0.1,\"line_color\":\"#1f77b4\",\"line_width\":2,\"x\":{\"field\":\"hij_viv\"},\"y\":{\"field\":\"edad_mad\"}},\"id\":\"2448\",\"type\":\"Patch\"},{\"attributes\":{\"fill_alpha\":0.5,\"fill_color\":\"#1f77b4\",\"line_alpha\":0.5,\"line_color\":\"#1f77b4\",\"line_width\":2,\"x\":{\"field\":\"hij_viv\"},\"y\":{\"field\":\"edad_mad\"}},\"id\":\"2447\",\"type\":\"Patch\"},{\"attributes\":{},\"id\":\"2417\",\"type\":\"LinearScale\"},{\"attributes\":{},\"id\":\"2431\",\"type\":\"PanTool\"},{\"attributes\":{\"callback\":null,\"data\":{\"Unnamed: 0\":[1748,1969,1522,310,608,306,497,2230,468,486],\"anio_insc\":[2014,2014,2014,2014,2014,2014,2014,2014,2014,2014],\"anio_mad\":{\"__ndarray__\":\"AAAAAAAgn0AAAAAAAPSeQAAAAAAAEJ9AAAAAAAAMn0AAAAAAAAyfQAAAAAAAAPh/AAAAAAAA+H8AAAAAABCfQAAAAAAAFJ9AAAAAAAAAn0A=\",\"dtype\":\"float64\",\"shape\":[10]},\"anio_nac\":[2014,2013,2014,2014,2014,2003,2012,2014,2014,2014],\"area_nac\":[\"Urbana\",\"Urbana\",\"Urbana\",\"Urbana\",\"Rural\",\"NaN\",\"NaN\",\"Urbana\",\"Urbana\",\"Urbana\"],\"area_res\":[\"Urbana\",\"Urbana\",\"Urbana\",\"Urbana\",\"Urbana\",\"Urbana\",\"Urbana\",\"Urbana\",\"Urbana\",\"Urbana\"],\"asis_por\":[\"M\\ufffddico/a\",\"Obstetriz/Obstetra\",\"Obstetriz/Obstetra\",\"M\\ufffddico/a\",\"M\\ufffddico/a\",\"NaN\",\"NaN\",\"M\\ufffddico/a\",\"M\\ufffddico/a\",\"M\\ufffddico/a\"],\"cant_insc\":[\"Playas\",\"Naranjito\",\"Manta\",\"Quito\",\"Quito\",\"Cuenca\",\"Chone\",\"Guayaquil\",\"Chone\",\"Cuenca\"],\"cant_nac\":[\"Playas\",\"Naranjito\",\"Manta\",\"Quito\",\"Quito\",\"NaN\",\"NaN\",\"Guayaquil\",\"Chone\",\"Azogues\"],\"cant_res\":[\"Playas\",\"Naranjito\",\"Manta\",\"Quito\",\"Quito\",\"Cuenca\",\"Chone\",\"Guayaquil\",\"El Carmen\",\"Azogues\"],\"cod_pais\":[\"Ecuador \",\"Ecuador \",\"Ecuador \",\"Ecuador \",\"Ecuador \",\"NaN\",\"NaN\",\"Ecuador \",\"Ecuador \",\"Ecuador \"],\"con_pren\":{\"__ndarray__\":\"AAAAAAAAFEAAAAAAAAAYQAAAAAAAABRAAAAAAAAALkAAAAAAAAAoQAAAAAAAAPh/AAAAAAAA+H8AAAAAAAAYQAAAAAAAABBAAAAAAAAAHEA=\",\"dtype\":\"float64\",\"shape\":[10]},\"dia_insc\":[18,13,30,22,28,5,15,20,11,1],\"dia_mad\":{\"__ndarray__\":\"AAAAAAAALkAAAAAAAAAuQAAAAAAAACxAAAAAAAAAMkAAAAAAAAAiQAAAAAAAAPh/AAAAAAAA+H8AAAAAAAAwQAAAAAAAABBAAAAAAAAANEA=\",\"dtype\":\"float64\",\"shape\":[10]},\"dia_nac\":[1,11,24,13,7,11,27,9,29,4],\"edad_mad\":{\"__ndarray__\":\"AAAAAAAANkAAAAAAAIBAQAAAAAAAADpAAAAAAAAAO0AAAAAAAAA7QAAAAAAAAPh/AAAAAAAA+H8AAAAAAAA6QAAAAAAAADlAAAAAAAAAPkA=\",\"dtype\":\"float64\",\"shape\":[10]},\"est_civil\":[\"Casada\",\"Soltera\",\"Unida\",\"Casada\",\"Casada\",\"NaN\",\"NaN\",\"Casada\",\"Unida\",\"Casada\"],\"etnia\":[\"Mestiza\",\"Mestiza\",\"Mestiza\",\"Blanca\",\"Mestiza\",\"NaN\",\"NaN\",\"Mestiza\",\"Mestiza\",\"Mestiza\"],\"fecha_insc\":[13614480000,13621996800,13618195200,13630723200,13615344000,13629254400,13624761600,13609555200,13624416000,13628908800],\"fecha_mad\":[\"1992/09/15\",\"1981/08/15\",\"1988/04/14\",\"1987/12/18\",\"1987/08/09\",\"          \",\"          \",\"1988/05/16\",\"1989/09/04\",\"1984/11/20\"],\"fecha_nac\":[13613011200,13600828800,13614998400,13629945600,13613529600,13290480000,13565404800,13608604800,13610332800,13608172800],\"hij_nacm\":{\"__ndarray__\":\"AAAAAADAWEAAAAAAAADwPwAAAAAAAAAAAAAAAAAAAAAAAAAAAAAAAAAAAAAAAPh/AAAAAAAA+H8AAAAAAAAAAAAAAAAAAAAAAAAAAAAAAAA=\",\"dtype\":\"float64\",\"shape\":[10]},\"hij_viv\":{\"__ndarray__\":\"AAAAAAAAAEAAAAAAAAAUQAAAAAAAAAhAAAAAAAAA8D8AAAAAAAAAQAAAAAAAAPh/AAAAAAAA+H8AAAAAAAAIQAAAAAAAAABAAAAAAAAAAEA=\",\"dtype\":\"float64\",\"shape\":[10]},\"hij_vivm\":{\"__ndarray__\":\"AAAAAADAWEAAAAAAAAAAAAAAAAAAAAAAAAAAAAAAAAAAAAAAAAAAAAAAAAAAAPh/AAAAAAAA+H8AAAAAAAAAAAAAAAAAAAAAAAAAAAAAAAA=\",\"dtype\":\"float64\",\"shape\":[10]},\"index\":[1747,1968,1521,309,607,305,496,2229,467,485],\"lugar_ocur\":[\"Establecimiento del Ministerio de Salud\",\"Establecimiento del Ministerio de Salud\",\"Establecimiento del Ministerio de Salud\",\"Hospital, Cl\\ufffdnica o Consultorio Privado\",\"Hospital, Cl\\ufffdnica o Consultorio Privado\",\"NaN\",\"NaN\",\"Establecimiento del Ministerio de Salud\",\"Establecimiento del Ministerio de Salud\",\"Establecimiento del Ministerio de Salud\"],\"mes_insc\":[\"Marzo\",\"Junio\",\"Abril\",\"Septiembre\",\"Marzo\",\"Septiembre\",\"Julio\",\"Enero\",\"Julio\",\"Septiembre\"],\"mes_mad\":{\"__ndarray__\":\"AAAAAAAAIkAAAAAAAAAgQAAAAAAAABBAAAAAAAAAKEAAAAAAAAAgQAAAAAAAAPh/AAAAAAAA+H8AAAAAAAAUQAAAAAAAACJAAAAAAAAAJkA=\",\"dtype\":\"float64\",\"shape\":[10]},\"mes_nac\":[\"Marzo\",\"Octubre\",\"Marzo\",\"Septiembre\",\"Marzo\",\"Diciembre\",\"Agosto\",\"Enero\",\"Enero\",\"Enero\"],\"nac_mad\":[\"Ecuatoriana\",\"Ecuatoriana\",\"Ecuatoriana\",\"Ecuatoriana\",\"Ecuatoriana\",\"NaN\",\"NaN\",\"Ecuatoriana\",\"Ecuatoriana\",\"Ecuatoriana\"],\"niv_inst\":[\"Educaci\\ufffdn B\\ufffdsica\",\"Primaria\",\"Secundaria\",\"Superior\",\"Secundaria\",\"NaN\",\"NaN\",\"Primaria\",\"Primaria\",\"Educaci\\ufffdn B\\ufffdsica\"],\"num_par\":{\"__ndarray__\":\"AAAAAAAAAEAAAAAAAAAUQAAAAAAAAAhAAAAAAAAA8D8AAAAAAAAAQAAAAAAAAPh/AAAAAAAA+H8AAAAAAAAIQAAAAAAAAABAAAAAAAAAAEA=\",\"dtype\":\"float64\",\"shape\":[10]},\"ofi_insc\":[1,1,1,1,1,1,1,1,1,1],\"p_emb\":[\"Simple\",\"Simple\",\"Simple\",\"Simple\",\"Simple\",\"NaN\",\"NaN\",\"Simple\",\"Simple\",\"Simple\"],\"parr_insc\":[\"General Villamil (Playas), Cabecera Cantonal\",\"Naranjito, Cabecera Cantonal\",\"Manta, Cabecera Cantonal\",\"I\\ufffdaquito\",\"I\\ufffdaquito\",\"San Blas\",\"Chone, Cabecera Cantonal\",\"Rocafuerte\",\"Chone, Cabecera Cantonal\",\"San Blas\"],\"parr_nac\":[\"General Villamil (Playas), Cabecera Cantonal\",\"Naranjito, Cabecera Cantonal\",\"Manta, Cabecera Cantonal\",\"Quito Distrito Metropolitano, Cabecera Cantonal, Capital Provincial\",\"Cumbay\\ufffd\",\"NaN\",\"NaN\",\"Guayaquil, Cabecera Cantonal y Capital Provincial\",\"Chone, Cabecera Cantonal\",\"Azogues\"],\"parr_res\":[\"General Villamil (Playas), Cabecera Cantonal\",\"Naranjito, Cabecera Cantonal\",\"Manta, Cabecera Cantonal\",\"Quito Distrito Metropolitano, Cabecera Cantonal, Capital Provincial\",\"I\\ufffdaquito\",\"San Blas\",\"Chone, Cabecera Cantonal\",\"Ximena\",\"El Carmen, Cabecera Cantonal\",\"Azogues\"],\"peso\":{\"__ndarray__\":\"AAAAAAAgrEAAAAAAADyoQAAAAAAAqKZAAAAAAADUokAAAAAAAOyoQAAAAAAAAPh/AAAAAAAA+H8AAAAAACSjQAAAAAAAZK5AAAAAAACMqUA=\",\"dtype\":\"float64\",\"shape\":[10]},\"prov_insc\":[\"Guayas\",\"Guayas\",\"Manab\\ufffd\",\"Pichincha\",\"Pichincha\",\"Azuay\",\"Manab\\ufffd\",\"Guayas\",\"Manab\\ufffd\",\"Azuay\"],\"prov_nac\":[\"Guayas\",\"Guayas\",\"Manab\\ufffd\",\"Pichincha\",\"Pichincha\",\"NaN\",\"NaN\",\"Guayas\",\"Manab\\ufffd\",\"Ca\\ufffdar\"],\"prov_res\":[\"Guayas\",\"Guayas\",\"Manab\\ufffd\",\"Pichincha\",\"Pichincha\",\"Azuay\",\"Manab\\ufffd\",\"Guayas\",\"Manab\\ufffd\",\"Ca\\ufffdar\"],\"sabe_leer\":[\"Si\",\"Si\",\"Si\",\"Si\",\"Si\",\"NaN\",\"NaN\",\"Si\",\"Si\",\"Si\"],\"sem_gest\":{\"__ndarray__\":\"AAAAAAAAQ0AAAAAAAIBDQAAAAAAAgENAAAAAAACAQkAAAAAAAABDQAAAAAAAAPh/AAAAAAAA+H8AAAAAAABDQAAAAAAAAERAAAAAAAAAREA=\",\"dtype\":\"float64\",\"shape\":[10]},\"sexo\":[\"Hombre\",\"Mujer\",\"Hombre\",\"Mujer\",\"Hombre\",\"Mujer\",\"Mujer\",\"Hombre\",\"Hombre\",\"Hombre\"],\"talla\":{\"__ndarray__\":\"AAAAAACASUAAAAAAAABKQAAAAAAAgEdAAAAAAACARkAAAAAAAABIQAAAAAAAAPh/AAAAAAAA+H8AAAAAAIBIQAAAAAAAAEpAAAAAAAAASUA=\",\"dtype\":\"float64\",\"shape\":[10]},\"tip_insc\":[\"Inscripci\\ufffdn Normal\",\"Inscripci\\ufffdn Tard\\ufffda\",\"Inscripci\\ufffdn Normal\",\"Inscripci\\ufffdn Normal\",\"Inscripci\\ufffdn Normal\",\"Inscripci\\ufffdn Tard\\ufffda\",\"Inscripci\\ufffdn Tard\\ufffda\",\"Inscripci\\ufffdn Normal\",\"Inscripci\\ufffdn Normal\",\"Inscripci\\ufffdn Normal\"],\"tipo_part\":[\"Normal\",\"Normal\",\"Ces\\ufffdrea\",\"Ces\\ufffdrea\",\"Ces\\ufffdrea\",\"NaN\",\"NaN\",\"Normal\",\"Ces\\ufffdrea\",\"Normal\"]},\"selected\":{\"id\":\"1529\",\"type\":\"Selection\"},\"selection_policy\":{\"id\":\"1528\",\"type\":\"UnionRenderers\"}},\"id\":\"1449\",\"type\":\"ColumnDataSource\"},{\"attributes\":{},\"id\":\"2432\",\"type\":\"WheelZoomTool\"},{\"attributes\":{\"overlay\":{\"id\":\"2439\",\"type\":\"BoxAnnotation\"}},\"id\":\"2433\",\"type\":\"BoxZoomTool\"},{\"attributes\":{},\"id\":\"2542\",\"type\":\"BasicTickFormatter\"},{\"attributes\":{},\"id\":\"2434\",\"type\":\"SaveTool\"},{\"attributes\":{\"formatter\":{\"id\":\"2544\",\"type\":\"BasicTickFormatter\"},\"plot\":{\"id\":\"2412\",\"subtype\":\"Figure\",\"type\":\"Plot\"},\"ticker\":{\"id\":\"2427\",\"type\":\"BasicTicker\"}},\"id\":\"2426\",\"type\":\"LinearAxis\"},{\"attributes\":{},\"id\":\"2435\",\"type\":\"ResetTool\"},{\"attributes\":{},\"id\":\"2436\",\"type\":\"HelpTool\"},{\"attributes\":{\"active_drag\":\"auto\",\"active_inspect\":\"auto\",\"active_multi\":null,\"active_scroll\":\"auto\",\"active_tap\":\"auto\",\"tools\":[{\"id\":\"2431\",\"type\":\"PanTool\"},{\"id\":\"2432\",\"type\":\"WheelZoomTool\"},{\"id\":\"2433\",\"type\":\"BoxZoomTool\"},{\"id\":\"2434\",\"type\":\"SaveTool\"},{\"id\":\"2435\",\"type\":\"ResetTool\"},{\"id\":\"2436\",\"type\":\"HelpTool\"}]},\"id\":\"2437\",\"type\":\"Toolbar\"},{\"attributes\":{\"callback\":null},\"id\":\"2415\",\"type\":\"DataRange1d\"},{\"attributes\":{\"data_source\":{\"id\":\"1449\",\"type\":\"ColumnDataSource\"},\"glyph\":{\"id\":\"2447\",\"type\":\"Patch\"},\"hover_glyph\":null,\"muted_glyph\":null,\"nonselection_glyph\":{\"id\":\"2448\",\"type\":\"Patch\"},\"selection_glyph\":null,\"view\":{\"id\":\"2450\",\"type\":\"CDSView\"}},\"id\":\"2449\",\"type\":\"GlyphRenderer\"},{\"attributes\":{\"bottom_units\":\"screen\",\"fill_alpha\":{\"value\":0.5},\"fill_color\":{\"value\":\"lightgrey\"},\"left_units\":\"screen\",\"level\":\"overlay\",\"line_alpha\":{\"value\":1.0},\"line_color\":{\"value\":\"black\"},\"line_dash\":[4,4],\"line_width\":{\"value\":2},\"plot\":null,\"render_mode\":\"css\",\"right_units\":\"screen\",\"top_units\":\"screen\"},\"id\":\"2439\",\"type\":\"BoxAnnotation\"},{\"attributes\":{\"source\":{\"id\":\"1449\",\"type\":\"ColumnDataSource\"}},\"id\":\"2450\",\"type\":\"CDSView\"},{\"attributes\":{\"callback\":null},\"id\":\"2413\",\"type\":\"DataRange1d\"},{\"attributes\":{\"formatter\":{\"id\":\"2542\",\"type\":\"BasicTickFormatter\"},\"plot\":{\"id\":\"2412\",\"subtype\":\"Figure\",\"type\":\"Plot\"},\"ticker\":{\"id\":\"2422\",\"type\":\"BasicTicker\"}},\"id\":\"2421\",\"type\":\"LinearAxis\"},{\"attributes\":{},\"id\":\"2427\",\"type\":\"BasicTicker\"},{\"attributes\":{},\"id\":\"2544\",\"type\":\"BasicTickFormatter\"},{\"attributes\":{\"plot\":{\"id\":\"2412\",\"subtype\":\"Figure\",\"type\":\"Plot\"},\"ticker\":{\"id\":\"2422\",\"type\":\"BasicTicker\"}},\"id\":\"2425\",\"type\":\"Grid\"},{\"attributes\":{},\"id\":\"2422\",\"type\":\"BasicTicker\"},{\"attributes\":{},\"id\":\"2419\",\"type\":\"LinearScale\"},{\"attributes\":{\"plot\":null,\"text\":\"\"},\"id\":\"2540\",\"type\":\"Title\"}],\"root_ids\":[\"2412\"]},\"title\":\"Bokeh Application\",\"version\":\"1.0.2\"}};\n",
       "  var render_items = [{\"docid\":\"3d5195ee-f3f2-43a1-bc6b-91361400fdaf\",\"roots\":{\"2412\":\"baddf2b5-4afa-4108-b757-72c87413774a\"}}];\n",
       "  root.Bokeh.embed.embed_items_notebook(docs_json, render_items);\n",
       "\n",
       "  }\n",
       "  if (root.Bokeh !== undefined) {\n",
       "    embed_document(root);\n",
       "  } else {\n",
       "    var attempts = 0;\n",
       "    var timer = setInterval(function(root) {\n",
       "      if (root.Bokeh !== undefined) {\n",
       "        embed_document(root);\n",
       "        clearInterval(timer);\n",
       "      }\n",
       "      attempts++;\n",
       "      if (attempts > 100) {\n",
       "        console.log(\"Bokeh: ERROR: Unable to run BokehJS code because BokehJS library is missing\");\n",
       "        clearInterval(timer);\n",
       "      }\n",
       "    }, 10, root)\n",
       "  }\n",
       "})(window);"
      ],
      "application/vnd.bokehjs_exec.v0+json": ""
     },
     "metadata": {
      "application/vnd.bokehjs_exec.v0+json": {
       "id": "2412"
      }
     },
     "output_type": "display_data"
    }
   ],
   "source": [
    "p = figure(plot_width=400, plot_height=400)\n",
    "\n",
    "p.patch(x=\"hij_viv\", y=\"edad_mad\", alpha=0.5, line_width=2,source=sc)\n",
    "\n",
    "show(p)"
   ]
  },
  {
   "cell_type": "code",
   "execution_count": 16,
   "metadata": {},
   "outputs": [
    {
     "data": {
      "text/html": [
       "\n",
       "\n",
       "\n",
       "\n",
       "\n",
       "\n",
       "  <div class=\"bk-root\" id=\"7e6c6ce9-6282-475c-96e0-66176cd46468\"></div>\n"
      ]
     },
     "metadata": {},
     "output_type": "display_data"
    },
    {
     "data": {
      "application/javascript": [
       "(function(root) {\n",
       "  function embed_document(root) {\n",
       "    \n",
       "  var docs_json = {\"ce63f48b-56e3-4dc9-b95e-186ae58ac310\":{\"roots\":{\"references\":[{\"attributes\":{\"below\":[{\"id\":\"1594\",\"type\":\"LinearAxis\"}],\"left\":[{\"id\":\"1599\",\"type\":\"LinearAxis\"}],\"plot_height\":400,\"plot_width\":400,\"renderers\":[{\"id\":\"1594\",\"type\":\"LinearAxis\"},{\"id\":\"1598\",\"type\":\"Grid\"},{\"id\":\"1599\",\"type\":\"LinearAxis\"},{\"id\":\"1603\",\"type\":\"Grid\"},{\"id\":\"1612\",\"type\":\"BoxAnnotation\"},{\"id\":\"1622\",\"type\":\"GlyphRenderer\"}],\"title\":{\"id\":\"1667\",\"type\":\"Title\"},\"toolbar\":{\"id\":\"1610\",\"type\":\"Toolbar\"},\"x_range\":{\"id\":\"1586\",\"type\":\"DataRange1d\"},\"x_scale\":{\"id\":\"1590\",\"type\":\"LinearScale\"},\"y_range\":{\"id\":\"1588\",\"type\":\"DataRange1d\"},\"y_scale\":{\"id\":\"1592\",\"type\":\"LinearScale\"}},\"id\":\"1585\",\"subtype\":\"Figure\",\"type\":\"Plot\"},{\"attributes\":{},\"id\":\"1528\",\"type\":\"UnionRenderers\"},{\"attributes\":{\"plot\":{\"id\":\"1585\",\"subtype\":\"Figure\",\"type\":\"Plot\"},\"ticker\":{\"id\":\"1595\",\"type\":\"BasicTicker\"}},\"id\":\"1598\",\"type\":\"Grid\"},{\"attributes\":{},\"id\":\"1669\",\"type\":\"BasicTickFormatter\"},{\"attributes\":{},\"id\":\"1529\",\"type\":\"Selection\"},{\"attributes\":{\"formatter\":{\"id\":\"1671\",\"type\":\"BasicTickFormatter\"},\"plot\":{\"id\":\"1585\",\"subtype\":\"Figure\",\"type\":\"Plot\"},\"ticker\":{\"id\":\"1600\",\"type\":\"BasicTicker\"}},\"id\":\"1599\",\"type\":\"LinearAxis\"},{\"attributes\":{},\"id\":\"1671\",\"type\":\"BasicTickFormatter\"},{\"attributes\":{},\"id\":\"1600\",\"type\":\"BasicTicker\"},{\"attributes\":{\"dimension\":1,\"plot\":{\"id\":\"1585\",\"subtype\":\"Figure\",\"type\":\"Plot\"},\"ticker\":{\"id\":\"1600\",\"type\":\"BasicTicker\"}},\"id\":\"1603\",\"type\":\"Grid\"},{\"attributes\":{},\"id\":\"1590\",\"type\":\"LinearScale\"},{\"attributes\":{\"angle\":{\"units\":\"rad\",\"value\":1.0471975511965976},\"fill_alpha\":{\"value\":0.1},\"fill_color\":{\"value\":\"#1f77b4\"},\"height\":{\"units\":\"screen\",\"value\":40},\"line_alpha\":{\"value\":0.1},\"line_color\":{\"value\":\"#1f77b4\"},\"width\":{\"units\":\"data\",\"value\":40},\"x\":{\"field\":\"peso\"},\"y\":{\"field\":\"talla\"}},\"id\":\"1621\",\"type\":\"Oval\"},{\"attributes\":{\"angle\":{\"units\":\"rad\",\"value\":1.0471975511965976},\"fill_color\":{\"value\":\"#CAB2D6\"},\"height\":{\"units\":\"screen\",\"value\":40},\"line_color\":{\"value\":\"#CAB2D6\"},\"width\":{\"units\":\"data\",\"value\":40},\"x\":{\"field\":\"peso\"},\"y\":{\"field\":\"talla\"}},\"id\":\"1620\",\"type\":\"Oval\"},{\"attributes\":{\"callback\":null},\"id\":\"1586\",\"type\":\"DataRange1d\"},{\"attributes\":{\"callback\":null,\"data\":{\"Unnamed: 0\":[1748,1969,1522,310,608,306,497,2230,468,486],\"anio_insc\":[2014,2014,2014,2014,2014,2014,2014,2014,2014,2014],\"anio_mad\":{\"__ndarray__\":\"AAAAAAAgn0AAAAAAAPSeQAAAAAAAEJ9AAAAAAAAMn0AAAAAAAAyfQAAAAAAAAPh/AAAAAAAA+H8AAAAAABCfQAAAAAAAFJ9AAAAAAAAAn0A=\",\"dtype\":\"float64\",\"shape\":[10]},\"anio_nac\":[2014,2013,2014,2014,2014,2003,2012,2014,2014,2014],\"area_nac\":[\"Urbana\",\"Urbana\",\"Urbana\",\"Urbana\",\"Rural\",\"NaN\",\"NaN\",\"Urbana\",\"Urbana\",\"Urbana\"],\"area_res\":[\"Urbana\",\"Urbana\",\"Urbana\",\"Urbana\",\"Urbana\",\"Urbana\",\"Urbana\",\"Urbana\",\"Urbana\",\"Urbana\"],\"asis_por\":[\"M\\ufffddico/a\",\"Obstetriz/Obstetra\",\"Obstetriz/Obstetra\",\"M\\ufffddico/a\",\"M\\ufffddico/a\",\"NaN\",\"NaN\",\"M\\ufffddico/a\",\"M\\ufffddico/a\",\"M\\ufffddico/a\"],\"cant_insc\":[\"Playas\",\"Naranjito\",\"Manta\",\"Quito\",\"Quito\",\"Cuenca\",\"Chone\",\"Guayaquil\",\"Chone\",\"Cuenca\"],\"cant_nac\":[\"Playas\",\"Naranjito\",\"Manta\",\"Quito\",\"Quito\",\"NaN\",\"NaN\",\"Guayaquil\",\"Chone\",\"Azogues\"],\"cant_res\":[\"Playas\",\"Naranjito\",\"Manta\",\"Quito\",\"Quito\",\"Cuenca\",\"Chone\",\"Guayaquil\",\"El Carmen\",\"Azogues\"],\"cod_pais\":[\"Ecuador \",\"Ecuador \",\"Ecuador \",\"Ecuador \",\"Ecuador \",\"NaN\",\"NaN\",\"Ecuador \",\"Ecuador \",\"Ecuador \"],\"con_pren\":{\"__ndarray__\":\"AAAAAAAAFEAAAAAAAAAYQAAAAAAAABRAAAAAAAAALkAAAAAAAAAoQAAAAAAAAPh/AAAAAAAA+H8AAAAAAAAYQAAAAAAAABBAAAAAAAAAHEA=\",\"dtype\":\"float64\",\"shape\":[10]},\"dia_insc\":[18,13,30,22,28,5,15,20,11,1],\"dia_mad\":{\"__ndarray__\":\"AAAAAAAALkAAAAAAAAAuQAAAAAAAACxAAAAAAAAAMkAAAAAAAAAiQAAAAAAAAPh/AAAAAAAA+H8AAAAAAAAwQAAAAAAAABBAAAAAAAAANEA=\",\"dtype\":\"float64\",\"shape\":[10]},\"dia_nac\":[1,11,24,13,7,11,27,9,29,4],\"edad_mad\":{\"__ndarray__\":\"AAAAAAAANkAAAAAAAIBAQAAAAAAAADpAAAAAAAAAO0AAAAAAAAA7QAAAAAAAAPh/AAAAAAAA+H8AAAAAAAA6QAAAAAAAADlAAAAAAAAAPkA=\",\"dtype\":\"float64\",\"shape\":[10]},\"est_civil\":[\"Casada\",\"Soltera\",\"Unida\",\"Casada\",\"Casada\",\"NaN\",\"NaN\",\"Casada\",\"Unida\",\"Casada\"],\"etnia\":[\"Mestiza\",\"Mestiza\",\"Mestiza\",\"Blanca\",\"Mestiza\",\"NaN\",\"NaN\",\"Mestiza\",\"Mestiza\",\"Mestiza\"],\"fecha_insc\":[13614480000,13621996800,13618195200,13630723200,13615344000,13629254400,13624761600,13609555200,13624416000,13628908800],\"fecha_mad\":[\"1992/09/15\",\"1981/08/15\",\"1988/04/14\",\"1987/12/18\",\"1987/08/09\",\"          \",\"          \",\"1988/05/16\",\"1989/09/04\",\"1984/11/20\"],\"fecha_nac\":[13613011200,13600828800,13614998400,13629945600,13613529600,13290480000,13565404800,13608604800,13610332800,13608172800],\"hij_nacm\":{\"__ndarray__\":\"AAAAAADAWEAAAAAAAADwPwAAAAAAAAAAAAAAAAAAAAAAAAAAAAAAAAAAAAAAAPh/AAAAAAAA+H8AAAAAAAAAAAAAAAAAAAAAAAAAAAAAAAA=\",\"dtype\":\"float64\",\"shape\":[10]},\"hij_viv\":{\"__ndarray__\":\"AAAAAAAAAEAAAAAAAAAUQAAAAAAAAAhAAAAAAAAA8D8AAAAAAAAAQAAAAAAAAPh/AAAAAAAA+H8AAAAAAAAIQAAAAAAAAABAAAAAAAAAAEA=\",\"dtype\":\"float64\",\"shape\":[10]},\"hij_vivm\":{\"__ndarray__\":\"AAAAAADAWEAAAAAAAAAAAAAAAAAAAAAAAAAAAAAAAAAAAAAAAAAAAAAAAAAAAPh/AAAAAAAA+H8AAAAAAAAAAAAAAAAAAAAAAAAAAAAAAAA=\",\"dtype\":\"float64\",\"shape\":[10]},\"index\":[1747,1968,1521,309,607,305,496,2229,467,485],\"lugar_ocur\":[\"Establecimiento del Ministerio de Salud\",\"Establecimiento del Ministerio de Salud\",\"Establecimiento del Ministerio de Salud\",\"Hospital, Cl\\ufffdnica o Consultorio Privado\",\"Hospital, Cl\\ufffdnica o Consultorio Privado\",\"NaN\",\"NaN\",\"Establecimiento del Ministerio de Salud\",\"Establecimiento del Ministerio de Salud\",\"Establecimiento del Ministerio de Salud\"],\"mes_insc\":[\"Marzo\",\"Junio\",\"Abril\",\"Septiembre\",\"Marzo\",\"Septiembre\",\"Julio\",\"Enero\",\"Julio\",\"Septiembre\"],\"mes_mad\":{\"__ndarray__\":\"AAAAAAAAIkAAAAAAAAAgQAAAAAAAABBAAAAAAAAAKEAAAAAAAAAgQAAAAAAAAPh/AAAAAAAA+H8AAAAAAAAUQAAAAAAAACJAAAAAAAAAJkA=\",\"dtype\":\"float64\",\"shape\":[10]},\"mes_nac\":[\"Marzo\",\"Octubre\",\"Marzo\",\"Septiembre\",\"Marzo\",\"Diciembre\",\"Agosto\",\"Enero\",\"Enero\",\"Enero\"],\"nac_mad\":[\"Ecuatoriana\",\"Ecuatoriana\",\"Ecuatoriana\",\"Ecuatoriana\",\"Ecuatoriana\",\"NaN\",\"NaN\",\"Ecuatoriana\",\"Ecuatoriana\",\"Ecuatoriana\"],\"niv_inst\":[\"Educaci\\ufffdn B\\ufffdsica\",\"Primaria\",\"Secundaria\",\"Superior\",\"Secundaria\",\"NaN\",\"NaN\",\"Primaria\",\"Primaria\",\"Educaci\\ufffdn B\\ufffdsica\"],\"num_par\":{\"__ndarray__\":\"AAAAAAAAAEAAAAAAAAAUQAAAAAAAAAhAAAAAAAAA8D8AAAAAAAAAQAAAAAAAAPh/AAAAAAAA+H8AAAAAAAAIQAAAAAAAAABAAAAAAAAAAEA=\",\"dtype\":\"float64\",\"shape\":[10]},\"ofi_insc\":[1,1,1,1,1,1,1,1,1,1],\"p_emb\":[\"Simple\",\"Simple\",\"Simple\",\"Simple\",\"Simple\",\"NaN\",\"NaN\",\"Simple\",\"Simple\",\"Simple\"],\"parr_insc\":[\"General Villamil (Playas), Cabecera Cantonal\",\"Naranjito, Cabecera Cantonal\",\"Manta, Cabecera Cantonal\",\"I\\ufffdaquito\",\"I\\ufffdaquito\",\"San Blas\",\"Chone, Cabecera Cantonal\",\"Rocafuerte\",\"Chone, Cabecera Cantonal\",\"San Blas\"],\"parr_nac\":[\"General Villamil (Playas), Cabecera Cantonal\",\"Naranjito, Cabecera Cantonal\",\"Manta, Cabecera Cantonal\",\"Quito Distrito Metropolitano, Cabecera Cantonal, Capital Provincial\",\"Cumbay\\ufffd\",\"NaN\",\"NaN\",\"Guayaquil, Cabecera Cantonal y Capital Provincial\",\"Chone, Cabecera Cantonal\",\"Azogues\"],\"parr_res\":[\"General Villamil (Playas), Cabecera Cantonal\",\"Naranjito, Cabecera Cantonal\",\"Manta, Cabecera Cantonal\",\"Quito Distrito Metropolitano, Cabecera Cantonal, Capital Provincial\",\"I\\ufffdaquito\",\"San Blas\",\"Chone, Cabecera Cantonal\",\"Ximena\",\"El Carmen, Cabecera Cantonal\",\"Azogues\"],\"peso\":{\"__ndarray__\":\"AAAAAAAgrEAAAAAAADyoQAAAAAAAqKZAAAAAAADUokAAAAAAAOyoQAAAAAAAAPh/AAAAAAAA+H8AAAAAACSjQAAAAAAAZK5AAAAAAACMqUA=\",\"dtype\":\"float64\",\"shape\":[10]},\"prov_insc\":[\"Guayas\",\"Guayas\",\"Manab\\ufffd\",\"Pichincha\",\"Pichincha\",\"Azuay\",\"Manab\\ufffd\",\"Guayas\",\"Manab\\ufffd\",\"Azuay\"],\"prov_nac\":[\"Guayas\",\"Guayas\",\"Manab\\ufffd\",\"Pichincha\",\"Pichincha\",\"NaN\",\"NaN\",\"Guayas\",\"Manab\\ufffd\",\"Ca\\ufffdar\"],\"prov_res\":[\"Guayas\",\"Guayas\",\"Manab\\ufffd\",\"Pichincha\",\"Pichincha\",\"Azuay\",\"Manab\\ufffd\",\"Guayas\",\"Manab\\ufffd\",\"Ca\\ufffdar\"],\"sabe_leer\":[\"Si\",\"Si\",\"Si\",\"Si\",\"Si\",\"NaN\",\"NaN\",\"Si\",\"Si\",\"Si\"],\"sem_gest\":{\"__ndarray__\":\"AAAAAAAAQ0AAAAAAAIBDQAAAAAAAgENAAAAAAACAQkAAAAAAAABDQAAAAAAAAPh/AAAAAAAA+H8AAAAAAABDQAAAAAAAAERAAAAAAAAAREA=\",\"dtype\":\"float64\",\"shape\":[10]},\"sexo\":[\"Hombre\",\"Mujer\",\"Hombre\",\"Mujer\",\"Hombre\",\"Mujer\",\"Mujer\",\"Hombre\",\"Hombre\",\"Hombre\"],\"talla\":{\"__ndarray__\":\"AAAAAACASUAAAAAAAABKQAAAAAAAgEdAAAAAAACARkAAAAAAAABIQAAAAAAAAPh/AAAAAAAA+H8AAAAAAIBIQAAAAAAAAEpAAAAAAAAASUA=\",\"dtype\":\"float64\",\"shape\":[10]},\"tip_insc\":[\"Inscripci\\ufffdn Normal\",\"Inscripci\\ufffdn Tard\\ufffda\",\"Inscripci\\ufffdn Normal\",\"Inscripci\\ufffdn Normal\",\"Inscripci\\ufffdn Normal\",\"Inscripci\\ufffdn Tard\\ufffda\",\"Inscripci\\ufffdn Tard\\ufffda\",\"Inscripci\\ufffdn Normal\",\"Inscripci\\ufffdn Normal\",\"Inscripci\\ufffdn Normal\"],\"tipo_part\":[\"Normal\",\"Normal\",\"Ces\\ufffdrea\",\"Ces\\ufffdrea\",\"Ces\\ufffdrea\",\"NaN\",\"NaN\",\"Normal\",\"Ces\\ufffdrea\",\"Normal\"]},\"selected\":{\"id\":\"1529\",\"type\":\"Selection\"},\"selection_policy\":{\"id\":\"1528\",\"type\":\"UnionRenderers\"}},\"id\":\"1449\",\"type\":\"ColumnDataSource\"},{\"attributes\":{},\"id\":\"1604\",\"type\":\"PanTool\"},{\"attributes\":{},\"id\":\"1605\",\"type\":\"WheelZoomTool\"},{\"attributes\":{},\"id\":\"1592\",\"type\":\"LinearScale\"},{\"attributes\":{\"callback\":null},\"id\":\"1588\",\"type\":\"DataRange1d\"},{\"attributes\":{\"overlay\":{\"id\":\"1612\",\"type\":\"BoxAnnotation\"}},\"id\":\"1606\",\"type\":\"BoxZoomTool\"},{\"attributes\":{\"formatter\":{\"id\":\"1669\",\"type\":\"BasicTickFormatter\"},\"plot\":{\"id\":\"1585\",\"subtype\":\"Figure\",\"type\":\"Plot\"},\"ticker\":{\"id\":\"1595\",\"type\":\"BasicTicker\"}},\"id\":\"1594\",\"type\":\"LinearAxis\"},{\"attributes\":{},\"id\":\"1607\",\"type\":\"SaveTool\"},{\"attributes\":{},\"id\":\"1608\",\"type\":\"ResetTool\"},{\"attributes\":{},\"id\":\"1609\",\"type\":\"HelpTool\"},{\"attributes\":{\"active_drag\":\"auto\",\"active_inspect\":\"auto\",\"active_multi\":null,\"active_scroll\":\"auto\",\"active_tap\":\"auto\",\"tools\":[{\"id\":\"1604\",\"type\":\"PanTool\"},{\"id\":\"1605\",\"type\":\"WheelZoomTool\"},{\"id\":\"1606\",\"type\":\"BoxZoomTool\"},{\"id\":\"1607\",\"type\":\"SaveTool\"},{\"id\":\"1608\",\"type\":\"ResetTool\"},{\"id\":\"1609\",\"type\":\"HelpTool\"}]},\"id\":\"1610\",\"type\":\"Toolbar\"},{\"attributes\":{\"data_source\":{\"id\":\"1449\",\"type\":\"ColumnDataSource\"},\"glyph\":{\"id\":\"1620\",\"type\":\"Oval\"},\"hover_glyph\":null,\"muted_glyph\":null,\"nonselection_glyph\":{\"id\":\"1621\",\"type\":\"Oval\"},\"selection_glyph\":null,\"view\":{\"id\":\"1623\",\"type\":\"CDSView\"}},\"id\":\"1622\",\"type\":\"GlyphRenderer\"},{\"attributes\":{\"bottom_units\":\"screen\",\"fill_alpha\":{\"value\":0.5},\"fill_color\":{\"value\":\"lightgrey\"},\"left_units\":\"screen\",\"level\":\"overlay\",\"line_alpha\":{\"value\":1.0},\"line_color\":{\"value\":\"black\"},\"line_dash\":[4,4],\"line_width\":{\"value\":2},\"plot\":null,\"render_mode\":\"css\",\"right_units\":\"screen\",\"top_units\":\"screen\"},\"id\":\"1612\",\"type\":\"BoxAnnotation\"},{\"attributes\":{\"source\":{\"id\":\"1449\",\"type\":\"ColumnDataSource\"}},\"id\":\"1623\",\"type\":\"CDSView\"},{\"attributes\":{},\"id\":\"1595\",\"type\":\"BasicTicker\"},{\"attributes\":{\"plot\":null,\"text\":\"\"},\"id\":\"1667\",\"type\":\"Title\"}],\"root_ids\":[\"1585\"]},\"title\":\"Bokeh Application\",\"version\":\"1.0.2\"}};\n",
       "  var render_items = [{\"docid\":\"ce63f48b-56e3-4dc9-b95e-186ae58ac310\",\"roots\":{\"1585\":\"7e6c6ce9-6282-475c-96e0-66176cd46468\"}}];\n",
       "  root.Bokeh.embed.embed_items_notebook(docs_json, render_items);\n",
       "\n",
       "  }\n",
       "  if (root.Bokeh !== undefined) {\n",
       "    embed_document(root);\n",
       "  } else {\n",
       "    var attempts = 0;\n",
       "    var timer = setInterval(function(root) {\n",
       "      if (root.Bokeh !== undefined) {\n",
       "        embed_document(root);\n",
       "        clearInterval(timer);\n",
       "      }\n",
       "      attempts++;\n",
       "      if (attempts > 100) {\n",
       "        console.log(\"Bokeh: ERROR: Unable to run BokehJS code because BokehJS library is missing\");\n",
       "        clearInterval(timer);\n",
       "      }\n",
       "    }, 10, root)\n",
       "  }\n",
       "})(window);"
      ],
      "application/vnd.bokehjs_exec.v0+json": ""
     },
     "metadata": {
      "application/vnd.bokehjs_exec.v0+json": {
       "id": "1585"
      }
     },
     "output_type": "display_data"
    }
   ],
   "source": [
    "p = figure(plot_width=400, plot_height=400)\n",
    "p.oval(x=\"peso\", y=\"talla\", width=40, height=40, color=\"#CAB2D6\",\n",
    "       angle=pi/3, height_units=\"screen\",source=sc)\n",
    "\n",
    "show(p)"
   ]
  },
  {
   "cell_type": "code",
   "execution_count": 17,
   "metadata": {},
   "outputs": [
    {
     "data": {
      "text/html": [
       "\n",
       "\n",
       "\n",
       "\n",
       "\n",
       "\n",
       "  <div class=\"bk-root\" id=\"0482d67d-62c9-48a9-b18a-6aedfc8a5b19\"></div>\n"
      ]
     },
     "metadata": {},
     "output_type": "display_data"
    },
    {
     "data": {
      "application/javascript": [
       "(function(root) {\n",
       "  function embed_document(root) {\n",
       "    \n",
       "  var docs_json = {\"f2e1c286-6fd4-467d-bcb8-14b64d80ab78\":{\"roots\":{\"references\":[{\"attributes\":{\"below\":[{\"id\":\"1738\",\"type\":\"LinearAxis\"}],\"left\":[{\"id\":\"1743\",\"type\":\"LinearAxis\"}],\"plot_height\":400,\"plot_width\":400,\"renderers\":[{\"id\":\"1738\",\"type\":\"LinearAxis\"},{\"id\":\"1742\",\"type\":\"Grid\"},{\"id\":\"1743\",\"type\":\"LinearAxis\"},{\"id\":\"1747\",\"type\":\"Grid\"},{\"id\":\"1756\",\"type\":\"BoxAnnotation\"},{\"id\":\"1766\",\"type\":\"GlyphRenderer\"}],\"title\":{\"id\":\"1820\",\"type\":\"Title\"},\"toolbar\":{\"id\":\"1754\",\"type\":\"Toolbar\"},\"x_range\":{\"id\":\"1730\",\"type\":\"DataRange1d\"},\"x_scale\":{\"id\":\"1734\",\"type\":\"LinearScale\"},\"y_range\":{\"id\":\"1732\",\"type\":\"DataRange1d\"},\"y_scale\":{\"id\":\"1736\",\"type\":\"LinearScale\"}},\"id\":\"1729\",\"subtype\":\"Figure\",\"type\":\"Plot\"},{\"attributes\":{\"bottom_units\":\"screen\",\"fill_alpha\":{\"value\":0.5},\"fill_color\":{\"value\":\"lightgrey\"},\"left_units\":\"screen\",\"level\":\"overlay\",\"line_alpha\":{\"value\":1.0},\"line_color\":{\"value\":\"black\"},\"line_dash\":[4,4],\"line_width\":{\"value\":2},\"plot\":null,\"render_mode\":\"css\",\"right_units\":\"screen\",\"top_units\":\"screen\"},\"id\":\"1756\",\"type\":\"BoxAnnotation\"},{\"attributes\":{\"plot\":{\"id\":\"1729\",\"subtype\":\"Figure\",\"type\":\"Plot\"},\"ticker\":{\"id\":\"1739\",\"type\":\"BasicTicker\"}},\"id\":\"1742\",\"type\":\"Grid\"},{\"attributes\":{},\"id\":\"1739\",\"type\":\"BasicTicker\"},{\"attributes\":{\"fill_alpha\":{\"value\":0.6},\"fill_color\":{\"value\":\"orange\"},\"inner_radius\":{\"units\":\"data\",\"value\":0.1},\"line_alpha\":{\"value\":0.6},\"line_color\":{\"value\":\"orange\"},\"outer_radius\":{\"units\":\"data\",\"value\":0.25},\"x\":{\"field\":\"x\"},\"y\":{\"field\":\"y\"}},\"id\":\"1764\",\"type\":\"Annulus\"},{\"attributes\":{},\"id\":\"1744\",\"type\":\"BasicTicker\"},{\"attributes\":{},\"id\":\"1824\",\"type\":\"BasicTickFormatter\"},{\"attributes\":{\"formatter\":{\"id\":\"1822\",\"type\":\"BasicTickFormatter\"},\"plot\":{\"id\":\"1729\",\"subtype\":\"Figure\",\"type\":\"Plot\"},\"ticker\":{\"id\":\"1739\",\"type\":\"BasicTicker\"}},\"id\":\"1738\",\"type\":\"LinearAxis\"},{\"attributes\":{\"fill_alpha\":{\"value\":0.1},\"fill_color\":{\"value\":\"#1f77b4\"},\"inner_radius\":{\"units\":\"data\",\"value\":0.1},\"line_alpha\":{\"value\":0.1},\"line_color\":{\"value\":\"#1f77b4\"},\"outer_radius\":{\"units\":\"data\",\"value\":0.25},\"x\":{\"field\":\"x\"},\"y\":{\"field\":\"y\"}},\"id\":\"1765\",\"type\":\"Annulus\"},{\"attributes\":{\"formatter\":{\"id\":\"1824\",\"type\":\"BasicTickFormatter\"},\"plot\":{\"id\":\"1729\",\"subtype\":\"Figure\",\"type\":\"Plot\"},\"ticker\":{\"id\":\"1744\",\"type\":\"BasicTicker\"}},\"id\":\"1743\",\"type\":\"LinearAxis\"},{\"attributes\":{},\"id\":\"1736\",\"type\":\"LinearScale\"},{\"attributes\":{\"dimension\":1,\"plot\":{\"id\":\"1729\",\"subtype\":\"Figure\",\"type\":\"Plot\"},\"ticker\":{\"id\":\"1744\",\"type\":\"BasicTicker\"}},\"id\":\"1747\",\"type\":\"Grid\"},{\"attributes\":{\"plot\":null,\"text\":\"\"},\"id\":\"1820\",\"type\":\"Title\"},{\"attributes\":{\"data_source\":{\"id\":\"1763\",\"type\":\"ColumnDataSource\"},\"glyph\":{\"id\":\"1764\",\"type\":\"Annulus\"},\"hover_glyph\":null,\"muted_glyph\":null,\"nonselection_glyph\":{\"id\":\"1765\",\"type\":\"Annulus\"},\"selection_glyph\":null,\"view\":{\"id\":\"1767\",\"type\":\"CDSView\"}},\"id\":\"1766\",\"type\":\"GlyphRenderer\"},{\"attributes\":{\"source\":{\"id\":\"1763\",\"type\":\"ColumnDataSource\"}},\"id\":\"1767\",\"type\":\"CDSView\"},{\"attributes\":{},\"id\":\"1822\",\"type\":\"BasicTickFormatter\"},{\"attributes\":{},\"id\":\"1748\",\"type\":\"PanTool\"},{\"attributes\":{},\"id\":\"1749\",\"type\":\"WheelZoomTool\"},{\"attributes\":{},\"id\":\"1825\",\"type\":\"UnionRenderers\"},{\"attributes\":{\"overlay\":{\"id\":\"1756\",\"type\":\"BoxAnnotation\"}},\"id\":\"1750\",\"type\":\"BoxZoomTool\"},{\"attributes\":{\"callback\":null},\"id\":\"1732\",\"type\":\"DataRange1d\"},{\"attributes\":{},\"id\":\"1826\",\"type\":\"Selection\"},{\"attributes\":{},\"id\":\"1751\",\"type\":\"SaveTool\"},{\"attributes\":{},\"id\":\"1734\",\"type\":\"LinearScale\"},{\"attributes\":{},\"id\":\"1752\",\"type\":\"ResetTool\"},{\"attributes\":{},\"id\":\"1753\",\"type\":\"HelpTool\"},{\"attributes\":{\"callback\":null},\"id\":\"1730\",\"type\":\"DataRange1d\"},{\"attributes\":{\"active_drag\":\"auto\",\"active_inspect\":\"auto\",\"active_multi\":null,\"active_scroll\":\"auto\",\"active_tap\":\"auto\",\"tools\":[{\"id\":\"1748\",\"type\":\"PanTool\"},{\"id\":\"1749\",\"type\":\"WheelZoomTool\"},{\"id\":\"1750\",\"type\":\"BoxZoomTool\"},{\"id\":\"1751\",\"type\":\"SaveTool\"},{\"id\":\"1752\",\"type\":\"ResetTool\"},{\"id\":\"1753\",\"type\":\"HelpTool\"}]},\"id\":\"1754\",\"type\":\"Toolbar\"},{\"attributes\":{\"callback\":null,\"data\":{\"x\":{\"__ndarray__\":\"AAAAAACAQkAAAAAAAABDQAAAAAAAAENAAAAAAACAQ0AAAAAAAABDQAAAAAAAAENAAAAAAAAAQ0AAAAAAAABDQA==\",\"dtype\":\"float64\",\"shape\":[8]},\"y\":{\"__ndarray__\":\"AAAAAAAAQUAAAAAAAAA+QAAAAAAAADdAAAAAAAAAQkAAAAAAAAA/QAAAAAAAADZAAAAAAAAAPUAAAAAAAIBAQA==\",\"dtype\":\"float64\",\"shape\":[8]}},\"selected\":{\"id\":\"1826\",\"type\":\"Selection\"},\"selection_policy\":{\"id\":\"1825\",\"type\":\"UnionRenderers\"}},\"id\":\"1763\",\"type\":\"ColumnDataSource\"}],\"root_ids\":[\"1729\"]},\"title\":\"Bokeh Application\",\"version\":\"1.0.2\"}};\n",
       "  var render_items = [{\"docid\":\"f2e1c286-6fd4-467d-bcb8-14b64d80ab78\",\"roots\":{\"1729\":\"0482d67d-62c9-48a9-b18a-6aedfc8a5b19\"}}];\n",
       "  root.Bokeh.embed.embed_items_notebook(docs_json, render_items);\n",
       "\n",
       "  }\n",
       "  if (root.Bokeh !== undefined) {\n",
       "    embed_document(root);\n",
       "  } else {\n",
       "    var attempts = 0;\n",
       "    var timer = setInterval(function(root) {\n",
       "      if (root.Bokeh !== undefined) {\n",
       "        embed_document(root);\n",
       "        clearInterval(timer);\n",
       "      }\n",
       "      attempts++;\n",
       "      if (attempts > 100) {\n",
       "        console.log(\"Bokeh: ERROR: Unable to run BokehJS code because BokehJS library is missing\");\n",
       "        clearInterval(timer);\n",
       "      }\n",
       "    }, 10, root)\n",
       "  }\n",
       "})(window);"
      ],
      "application/vnd.bokehjs_exec.v0+json": ""
     },
     "metadata": {
      "application/vnd.bokehjs_exec.v0+json": {
       "id": "1729"
      }
     },
     "output_type": "display_data"
    }
   ],
   "source": [
    "p = figure(plot_width=400, plot_height=400)\n",
    "x= df[\"sem_gest\"][:8]\n",
    "y = df[\"edad_mad\"][:8]\n",
    "p.annulus(x, y, inner_radius=0.1, outer_radius=0.25,\n",
    "          color=\"orange\", alpha=0.6)\n",
    "\n",
    "show(p)"
   ]
  },
  {
   "cell_type": "code",
   "execution_count": 18,
   "metadata": {},
   "outputs": [],
   "source": [
    "dat = ColumnDataSource(df.sample(1))"
   ]
  },
  {
   "cell_type": "code",
   "execution_count": 19,
   "metadata": {},
   "outputs": [
    {
     "data": {
      "text/html": [
       "\n",
       "\n",
       "\n",
       "\n",
       "\n",
       "\n",
       "  <div class=\"bk-root\" id=\"53da10db-6a2a-4b17-882a-00fc359f501f\"></div>\n"
      ]
     },
     "metadata": {},
     "output_type": "display_data"
    },
    {
     "data": {
      "application/javascript": [
       "(function(root) {\n",
       "  function embed_document(root) {\n",
       "    \n",
       "  var docs_json = {\"ca8d5dc4-29f6-43dd-9ee5-28ba190f284d\":{\"roots\":{\"references\":[{\"attributes\":{\"below\":[{\"id\":\"1894\",\"type\":\"LinearAxis\"}],\"left\":[{\"id\":\"1899\",\"type\":\"LinearAxis\"}],\"renderers\":[{\"id\":\"1894\",\"type\":\"LinearAxis\"},{\"id\":\"1898\",\"type\":\"Grid\"},{\"id\":\"1899\",\"type\":\"LinearAxis\"},{\"id\":\"1903\",\"type\":\"Grid\"},{\"id\":\"1912\",\"type\":\"BoxAnnotation\"},{\"id\":\"1922\",\"type\":\"GlyphRenderer\"},{\"id\":\"1927\",\"type\":\"GlyphRenderer\"}],\"title\":{\"id\":\"1883\",\"type\":\"Title\"},\"toolbar\":{\"id\":\"1910\",\"type\":\"Toolbar\"},\"x_range\":{\"id\":\"1886\",\"type\":\"DataRange1d\"},\"x_scale\":{\"id\":\"1890\",\"type\":\"LinearScale\"},\"y_range\":{\"id\":\"1888\",\"type\":\"DataRange1d\"},\"y_scale\":{\"id\":\"1892\",\"type\":\"LinearScale\"}},\"id\":\"1884\",\"subtype\":\"Figure\",\"type\":\"Plot\"},{\"attributes\":{},\"id\":\"1994\",\"type\":\"UnionRenderers\"},{\"attributes\":{},\"id\":\"1908\",\"type\":\"ResetTool\"},{\"attributes\":{},\"id\":\"1995\",\"type\":\"Selection\"},{\"attributes\":{},\"id\":\"1895\",\"type\":\"BasicTicker\"},{\"attributes\":{},\"id\":\"1909\",\"type\":\"HelpTool\"},{\"attributes\":{},\"id\":\"1996\",\"type\":\"UnionRenderers\"},{\"attributes\":{\"active_drag\":\"auto\",\"active_inspect\":\"auto\",\"active_multi\":null,\"active_scroll\":\"auto\",\"active_tap\":\"auto\",\"tools\":[{\"id\":\"1904\",\"type\":\"PanTool\"},{\"id\":\"1905\",\"type\":\"WheelZoomTool\"},{\"id\":\"1906\",\"type\":\"BoxZoomTool\"},{\"id\":\"1907\",\"type\":\"SaveTool\"},{\"id\":\"1908\",\"type\":\"ResetTool\"},{\"id\":\"1909\",\"type\":\"HelpTool\"}]},\"id\":\"1910\",\"type\":\"Toolbar\"},{\"attributes\":{},\"id\":\"1997\",\"type\":\"Selection\"},{\"attributes\":{\"plot\":{\"id\":\"1884\",\"subtype\":\"Figure\",\"type\":\"Plot\"},\"ticker\":{\"id\":\"1895\",\"type\":\"BasicTicker\"}},\"id\":\"1898\",\"type\":\"Grid\"},{\"attributes\":{\"bottom_units\":\"screen\",\"fill_alpha\":{\"value\":0.5},\"fill_color\":{\"value\":\"lightgrey\"},\"left_units\":\"screen\",\"level\":\"overlay\",\"line_alpha\":{\"value\":1.0},\"line_color\":{\"value\":\"black\"},\"line_dash\":[4,4],\"line_width\":{\"value\":2},\"plot\":null,\"render_mode\":\"css\",\"right_units\":\"screen\",\"top_units\":\"screen\"},\"id\":\"1912\",\"type\":\"BoxAnnotation\"},{\"attributes\":{\"dimension\":1,\"plot\":{\"id\":\"1884\",\"subtype\":\"Figure\",\"type\":\"Plot\"},\"ticker\":{\"id\":\"1900\",\"type\":\"BasicTicker\"}},\"id\":\"1903\",\"type\":\"Grid\"},{\"attributes\":{\"callback\":null,\"data\":{\"x\":[30,30,31,11],\"y\":[17,1,15,3]},\"selected\":{\"id\":\"1997\",\"type\":\"Selection\"},\"selection_policy\":{\"id\":\"1996\",\"type\":\"UnionRenderers\"}},\"id\":\"1924\",\"type\":\"ColumnDataSource\"},{\"attributes\":{\"line_color\":\"#1f77b4\",\"line_width\":2,\"x\":{\"field\":\"x\"},\"y\":{\"field\":\"y\"}},\"id\":\"1920\",\"type\":\"Line\"},{\"attributes\":{\"callback\":null,\"data\":{\"x\":[30,30,31,11],\"y\":[17,1,15,3]},\"selected\":{\"id\":\"1995\",\"type\":\"Selection\"},\"selection_policy\":{\"id\":\"1994\",\"type\":\"UnionRenderers\"}},\"id\":\"1919\",\"type\":\"ColumnDataSource\"},{\"attributes\":{\"overlay\":{\"id\":\"1912\",\"type\":\"BoxAnnotation\"}},\"id\":\"1906\",\"type\":\"BoxZoomTool\"},{\"attributes\":{\"line_alpha\":0.1,\"line_color\":\"#1f77b4\",\"line_width\":2,\"x\":{\"field\":\"x\"},\"y\":{\"field\":\"y\"}},\"id\":\"1921\",\"type\":\"Line\"},{\"attributes\":{\"data_source\":{\"id\":\"1919\",\"type\":\"ColumnDataSource\"},\"glyph\":{\"id\":\"1920\",\"type\":\"Line\"},\"hover_glyph\":null,\"muted_glyph\":null,\"nonselection_glyph\":{\"id\":\"1921\",\"type\":\"Line\"},\"selection_glyph\":null,\"view\":{\"id\":\"1923\",\"type\":\"CDSView\"}},\"id\":\"1922\",\"type\":\"GlyphRenderer\"},{\"attributes\":{\"source\":{\"id\":\"1919\",\"type\":\"ColumnDataSource\"}},\"id\":\"1923\",\"type\":\"CDSView\"},{\"attributes\":{},\"id\":\"1904\",\"type\":\"PanTool\"},{\"attributes\":{},\"id\":\"1991\",\"type\":\"BasicTickFormatter\"},{\"attributes\":{\"fill_color\":{\"value\":\"white\"},\"line_color\":{\"value\":\"#1f77b4\"},\"size\":{\"units\":\"screen\",\"value\":8},\"x\":{\"field\":\"x\"},\"y\":{\"field\":\"y\"}},\"id\":\"1925\",\"type\":\"Circle\"},{\"attributes\":{},\"id\":\"1907\",\"type\":\"SaveTool\"},{\"attributes\":{\"callback\":null},\"id\":\"1886\",\"type\":\"DataRange1d\"},{\"attributes\":{\"fill_alpha\":{\"value\":0.1},\"fill_color\":{\"value\":\"#1f77b4\"},\"line_alpha\":{\"value\":0.1},\"line_color\":{\"value\":\"#1f77b4\"},\"size\":{\"units\":\"screen\",\"value\":8},\"x\":{\"field\":\"x\"},\"y\":{\"field\":\"y\"}},\"id\":\"1926\",\"type\":\"Circle\"},{\"attributes\":{},\"id\":\"1900\",\"type\":\"BasicTicker\"},{\"attributes\":{\"data_source\":{\"id\":\"1924\",\"type\":\"ColumnDataSource\"},\"glyph\":{\"id\":\"1925\",\"type\":\"Circle\"},\"hover_glyph\":null,\"muted_glyph\":null,\"nonselection_glyph\":{\"id\":\"1926\",\"type\":\"Circle\"},\"selection_glyph\":null,\"view\":{\"id\":\"1928\",\"type\":\"CDSView\"}},\"id\":\"1927\",\"type\":\"GlyphRenderer\"},{\"attributes\":{},\"id\":\"1905\",\"type\":\"WheelZoomTool\"},{\"attributes\":{\"callback\":null},\"id\":\"1888\",\"type\":\"DataRange1d\"},{\"attributes\":{\"source\":{\"id\":\"1924\",\"type\":\"ColumnDataSource\"}},\"id\":\"1928\",\"type\":\"CDSView\"},{\"attributes\":{},\"id\":\"1890\",\"type\":\"LinearScale\"},{\"attributes\":{},\"id\":\"1892\",\"type\":\"LinearScale\"},{\"attributes\":{\"formatter\":{\"id\":\"1993\",\"type\":\"BasicTickFormatter\"},\"plot\":{\"id\":\"1884\",\"subtype\":\"Figure\",\"type\":\"Plot\"},\"ticker\":{\"id\":\"1900\",\"type\":\"BasicTicker\"}},\"id\":\"1899\",\"type\":\"LinearAxis\"},{\"attributes\":{\"formatter\":{\"id\":\"1991\",\"type\":\"BasicTickFormatter\"},\"plot\":{\"id\":\"1884\",\"subtype\":\"Figure\",\"type\":\"Plot\"},\"ticker\":{\"id\":\"1895\",\"type\":\"BasicTicker\"}},\"id\":\"1894\",\"type\":\"LinearAxis\"},{\"attributes\":{},\"id\":\"1993\",\"type\":\"BasicTickFormatter\"},{\"attributes\":{\"plot\":null,\"text\":\"Dia de inscripci\\u00f3n\"},\"id\":\"1883\",\"type\":\"Title\"}],\"root_ids\":[\"1884\"]},\"title\":\"Bokeh Application\",\"version\":\"1.0.2\"}};\n",
       "  var render_items = [{\"docid\":\"ca8d5dc4-29f6-43dd-9ee5-28ba190f284d\",\"roots\":{\"1884\":\"53da10db-6a2a-4b17-882a-00fc359f501f\"}}];\n",
       "  root.Bokeh.embed.embed_items_notebook(docs_json, render_items);\n",
       "\n",
       "  }\n",
       "  if (root.Bokeh !== undefined) {\n",
       "    embed_document(root);\n",
       "  } else {\n",
       "    var attempts = 0;\n",
       "    var timer = setInterval(function(root) {\n",
       "      if (root.Bokeh !== undefined) {\n",
       "        embed_document(root);\n",
       "        clearInterval(timer);\n",
       "      }\n",
       "      attempts++;\n",
       "      if (attempts > 100) {\n",
       "        console.log(\"Bokeh: ERROR: Unable to run BokehJS code because BokehJS library is missing\");\n",
       "        clearInterval(timer);\n",
       "      }\n",
       "    }, 10, root)\n",
       "  }\n",
       "})(window);"
      ],
      "application/vnd.bokehjs_exec.v0+json": ""
     },
     "metadata": {
      "application/vnd.bokehjs_exec.v0+json": {
       "id": "1884"
      }
     },
     "output_type": "display_data"
    }
   ],
   "source": [
    "p = figure(title = \"Dia de inscripción\")\n",
    "x= df[\"dia_insc\"][:4]\n",
    "y = df[\"dia_nac\"][:4]\n",
    "p.line(x , y, line_width=2)\n",
    "p.circle(x , y, fill_color=\"white\", size=8)\n",
    "\n",
    "show(p)"
   ]
  },
  {
   "cell_type": "code",
   "execution_count": null,
   "metadata": {},
   "outputs": [],
   "source": []
  },
  {
   "cell_type": "code",
   "execution_count": null,
   "metadata": {},
   "outputs": [],
   "source": []
  }
 ],
 "metadata": {
  "kernelspec": {
   "display_name": "Python 3",
   "language": "python",
   "name": "python3"
  },
  "language_info": {
   "codemirror_mode": {
    "name": "ipython",
    "version": 3
   },
   "file_extension": ".py",
   "mimetype": "text/x-python",
   "name": "python",
   "nbconvert_exporter": "python",
   "pygments_lexer": "ipython3",
   "version": "3.7.1"
  }
 },
 "nbformat": 4,
 "nbformat_minor": 2
}
